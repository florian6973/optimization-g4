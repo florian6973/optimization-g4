{
 "metadata": {
  "language_info": {
   "codemirror_mode": {
    "name": "ipython",
    "version": 3
   },
   "file_extension": ".py",
   "mimetype": "text/x-python",
   "name": "python",
   "nbconvert_exporter": "python",
   "pygments_lexer": "ipython3",
   "version": "3.8.5"
  },
  "orig_nbformat": 2,
  "kernelspec": {
   "name": "python385jvsc74a57bd085c75fd14e5076fbcb18764378155d0efe7f43fc87250a2b11ec2cf5a4ffd7c5",
   "display_name": "Python 3.8.5 64-bit ('Flo': conda)"
  }
 },
 "nbformat": 4,
 "nbformat_minor": 2,
 "cells": [
  {
   "source": [
    "## Notes\n",
    "\n",
    "Diminuer le pas, va marcher mais trop long\n",
    "gradient amorti, gradient à pas optimal\n",
    "\n",
    "c1 = 10^-4, c2 = 0.9\n",
    "\n",
    "Style de rendu ?\n",
    "\n",
    "Questions\n",
    "- q6 manque une composante vecteur c, alpha non négligeable ?\n",
    "- q7 max coût ou profit ?\n",
    "- q8 norme non différentiable en 0 ?\n",
    "- calculer gradient à la main ou autograd ? besoin pour scipy ? problème décompose vecteur z...\n",
    "- deux algorithmes à trouver... : newton avec pénalisation (mais pas dans le cours ?) et gradient proximal ?\n",
    "- vérifier avec scipy (ou à utiliser ?), quel choix de méthode ? calcul gradient des fonctions & des coûts ?\n",
    "- scipy à la fin : production négative : rajouter des contraintes\n",
    "- résultat pas entier : moitié de croissant ? où arrondir ?\n",
    "- résultat différent : mauvaise valeur de alpha... ? à quoi s'attendre ?\n",
    "- grande variabilité selon la valeur de alpha ? bizarre première méthode... ou problème scipy slsqp sans gradient spécifié (important) ?\n"
   ],
   "cell_type": "markdown",
   "metadata": {}
  },
  {
   "cell_type": "code",
   "execution_count": 136,
   "metadata": {},
   "outputs": [],
   "source": [
    "import numpy as np\n",
    "from scipy import optimize\n",
    "import casadi\n",
    "from casadi import SX, mtimes, transpose, exp, sum1, fmin, MX\n",
    "np.set_printoptions(suppress=True)"
   ]
  },
  {
   "source": [
    "## 1. Etude du problème d'optimisation\n",
    "\n",
    "### Question 1\n",
    "\n",
    "Le coût (2) correspond au profit de la boulangerie :\n",
    "\n",
    "- $c^T r$ est le coût d'achat des matières premières\n",
    "- $v^T q$ est le montant rapporté par la vente d'une quantité de produits $q$ (tout ce qui a été produit)\n",
    "- $v^T d$ est le montant rapporté par la vente d'une quantité de produits $d$ (tout ce qui a été demandé)\n",
    "\n",
    "Ainsi, le terme $\\min\\{q,d\\}$ correspond à la quantité minimum entre ce qui a été produit ou demandé. En effet, le facteur limitant des gains dépend si la demande est supérieure à la production ou si la production est supérieure à la demande (dans le cas d'économies d'échelle par exemple, cela peut être rentable).\n"
   ],
   "cell_type": "markdown",
   "metadata": {}
  },
  {
   "source": [
    "### Question 2\n",
    "\n",
    "Ce terme avec un $\\min$ n'est pas un opérateur linéaire, il n'est donc peut-être pas différentiable et ne permet pas d'appliquer les méthodes du cours les plus efficaces."
   ],
   "cell_type": "markdown",
   "metadata": {}
  },
  {
   "source": [
    "### Question 3\n",
    "\n",
    "Cette formule fait penser à la statistique de Maxwell-Boltzmann.\n",
    "\n",
    "Soit $i \\in [|1, p|]$.\n",
    "\n",
    "Cas 1 : $q_i > d_i$. Montrons que $h_i \\approx d_i$.\n",
    "\n",
    "$\\exp(-\\alpha q_i) << \\exp(-\\alpha d_i)$ et $q_i \\exp(-\\alpha q_i)$ est toujours petit devant $d_i \\exp(-\\alpha d_i)$ car $\\alpha >> 1$, ce qui permet de simplifier et d'obtenir le résultat.\n",
    "\n",
    "Cas 2 : $q_i < d_i$. On procède de manière similaire par symétrie\n",
    "\n",
    "On a donc maintenant une fonction convexe différentiable ce qui permet de se placer dans un cadre où l'on dispose plus de résultats."
   ],
   "cell_type": "markdown",
   "metadata": {}
  },
  {
   "source": [
    "### Question 4\n",
    "\n",
    "On suppose que $d$ est fixé. On pose :\n",
    "\n",
    "- $z = (q, r)$ (de taille $n=p + m$)\n",
    "- $f(z) = f(q, r) = c^T r - v^T h(q, d)$, à valeurs dans $\\mathbb{R}$\n",
    "- $c(z) = c(q, r) = A q - r$ ($m$ contraintes)"
   ],
   "cell_type": "markdown",
   "metadata": {}
  },
  {
   "source": [
    "## 2. Etude et résolution numérique\n",
    "\n",
    "### Question 5\n",
    "\n",
    "Puisque la fonction $f$ est deux-fois différentiable, on peut utiliser la méthode la plus efficace pour l'optimisation différentiable, c'est-à-dire la méthode de Newton. Toutefois, il faut prendre en compte les contraintes inégalités. On peut donc penser à une optimisation avec pénalités.\n",
    "\n",
    "Une autre approche serait les algorithmes d'optimisiation différentiable sous contraintes, comme celui Uzawa ou d'Arrow-Hurwicz (les contraintes sont linéaires)"
   ],
   "cell_type": "markdown",
   "metadata": {}
  },
  {
   "source": [
    "### Question 6\n",
    "\n",
    "Il est surprenant que $1$ ne soit pas négligeable devant $\\alpha$..."
   ],
   "cell_type": "markdown",
   "metadata": {}
  },
  {
   "cell_type": "code",
   "execution_count": 137,
   "metadata": {},
   "outputs": [
    {
     "output_type": "stream",
     "name": "stdout",
     "text": [
      "8\n"
     ]
    }
   ],
   "source": [
    "\n",
    "def q6(a=0.1):\n",
    "    alpha = a\n",
    "    c = 1e-3*np.array([30.,1.,1.3,4., 1.])\n",
    "    v = np.array([0.9, 1.5, 1.1])\n",
    "    d = np.array([400., 67., 33.])\n",
    "    A = np.array([[3.5,2.,1.],[250.,80., 25.],[0., 8., 3.],[0., 40., 10.], [0., 8.5, 0.]])\n",
    "    n = len(c)+len(d)\n",
    "    return n, alpha, c, v, d, A\n",
    "\n",
    "n, alpha, c, v, d, A = q6()\n",
    "x0 = np.zeros(n)\n",
    "print(n)"
   ]
  },
  {
   "cell_type": "code",
   "execution_count": 138,
   "metadata": {},
   "outputs": [],
   "source": [
    "def fun_hp(q, d, alpha=alpha):\n",
    "    return (q*exp(-alpha*q)+d*exp(-alpha*d))/(exp(-alpha*q)+exp(-alpha*d))"
   ]
  },
  {
   "cell_type": "code",
   "execution_count": 139,
   "metadata": {},
   "outputs": [
    {
     "output_type": "stream",
     "name": "stdout",
     "text": [
      "[   402.12704191     73.10746942     42.43483578   1596.09442137\n 107441.22892767    712.1642646    3348.6471351     621.41349253]\n"
     ]
    }
   ],
   "source": [
    "k = len(d)\n",
    "\n",
    "opti = casadi.Opti();\n",
    "\n",
    "x = opti.variable(n)\n",
    "q = x[0:k]\n",
    "r = x[k:]\n",
    "cp = opti.parameter(n-k)\n",
    "vp = opti.parameter(k)\n",
    "dp = opti.parameter(k)\n",
    "ap = opti.parameter(n-k,k)\n",
    "\n",
    "f = mtimes(transpose(cp), r) - mtimes(transpose(vp), fun_hp(q, dp))\n",
    "opti.minimize(f)\n",
    "opti.subject_to(mtimes(ap, q) - r <= 0)\n",
    "\n",
    "x0 = np.array([0.]*n)\n",
    "opti.set_initial(x,x0)\n",
    "# pour enlever le blabla, définir un dictionnaire d'option\n",
    "options = {'print_time':False, 'ipopt':{'print_level':0}}\n",
    "# options = dict(print_time=False, ipopt=dict(print_level=0))\n",
    "opti.solver('ipopt', options);\n",
    "\n",
    "\n",
    "opti.set_value(cp, c)\n",
    "opti.set_value(vp, v)\n",
    "opti.set_value(dp, d)\n",
    "opti.set_value(ap, A)\n",
    "\n",
    "sol = opti.solve();\n",
    "print(sol.value(x))"
   ]
  },
  {
   "cell_type": "code",
   "execution_count": 140,
   "metadata": {},
   "outputs": [
    {
     "output_type": "stream",
     "name": "stdout",
     "text": [
      "[1.         2.09757685 4.4227762 ]\n-8.742619084891563\n[0.03   0.001  0.0013 0.004  0.001 ]\n"
     ]
    }
   ],
   "source": [
    "def fun_h(q, d, alpha=alpha):\n",
    "    return (q*np.exp(-alpha*q)+d*np.exp(-alpha*d))/(np.exp(-alpha*q)+np.exp(-alpha*d))\n",
    "\n",
    "print(fun_h(np.array([1.,2.,3.]), d))\n",
    "\n",
    "def fun_f(z, d=d, A=A, c=c, v=v, alpha=alpha):\n",
    "    q = z[:len(d)]\n",
    "    r = z[len(d):]\n",
    "    return c.T @ r - v.T @ fun_h(q, d, alpha)\n",
    "\n",
    "ztest = np.array([1.,2.,3.,4.,5.,6.,7.,8.])\n",
    "print(fun_f(ztest))\n",
    "\n",
    "def fun_c(z, A=A):\n",
    "    q = z[:len(d)]\n",
    "    r = z[len(d):]\n",
    "    return A @ q - r\n",
    "\n",
    "print(c)"
   ]
  },
  {
   "cell_type": "code",
   "execution_count": 141,
   "metadata": {},
   "outputs": [
    {
     "output_type": "stream",
     "name": "stdout",
     "text": [
      "Optimization terminated successfully    (Exit mode 0)\n            Current function value: -333.52157831268005\n            Iterations: 63\n            Function evaluations: 584\n            Gradient evaluations: 63\n[   402.12800137     73.10884775     42.43652509   1596.1022254\n 107441.62129052    712.18035732   3348.71916112    621.42520591]\n"
     ]
    }
   ],
   "source": [
    "ineq_cons = { 'type' : 'ineq' , 'fun' : lambda x: - fun_c(x)}\n",
    "res = optimize . minimize(fun_f, x0, method= 'SLSQP' ,\n",
    "constraints= [ineq_cons], options={ 'disp' : True, 'maxiter': 10000})\n",
    "\n",
    "print(res.x)"
   ]
  },
  {
   "cell_type": "code",
   "execution_count": 142,
   "metadata": {},
   "outputs": [
    {
     "output_type": "stream",
     "name": "stderr",
     "text": [
      "<ipython-input-142-5c11035186b9>:12: RuntimeWarning: overflow encountered in exp\n  return (q*np.exp(-alpha*q)+d*np.exp(-alpha*d))/(np.exp(-alpha*q)+np.exp(-alpha*d))\n<ipython-input-142-5c11035186b9>:12: RuntimeWarning: invalid value encountered in true_divide\n  return (q*np.exp(-alpha*q)+d*np.exp(-alpha*d))/(np.exp(-alpha*q)+np.exp(-alpha*d))\n"
     ]
    },
    {
     "output_type": "display_data",
     "data": {
      "text/plain": "<Figure size 432x288 with 1 Axes>",
      "image/svg+xml": "<?xml version=\"1.0\" encoding=\"utf-8\" standalone=\"no\"?>\r\n<!DOCTYPE svg PUBLIC \"-//W3C//DTD SVG 1.1//EN\"\r\n  \"http://www.w3.org/Graphics/SVG/1.1/DTD/svg11.dtd\">\r\n<!-- Created with matplotlib (https://matplotlib.org/) -->\r\n<svg height=\"265.4322pt\" version=\"1.1\" viewBox=\"0 0 383.003125 265.4322\" width=\"383.003125pt\" xmlns=\"http://www.w3.org/2000/svg\" xmlns:xlink=\"http://www.w3.org/1999/xlink\">\r\n <metadata>\r\n  <rdf:RDF xmlns:cc=\"http://creativecommons.org/ns#\" xmlns:dc=\"http://purl.org/dc/elements/1.1/\" xmlns:rdf=\"http://www.w3.org/1999/02/22-rdf-syntax-ns#\">\r\n   <cc:Work>\r\n    <dc:type rdf:resource=\"http://purl.org/dc/dcmitype/StillImage\"/>\r\n    <dc:date>2021-04-06T15:28:34.656335</dc:date>\r\n    <dc:format>image/svg+xml</dc:format>\r\n    <dc:creator>\r\n     <cc:Agent>\r\n      <dc:title>Matplotlib v3.3.4, https://matplotlib.org/</dc:title>\r\n     </cc:Agent>\r\n    </dc:creator>\r\n   </cc:Work>\r\n  </rdf:RDF>\r\n </metadata>\r\n <defs>\r\n  <style type=\"text/css\">*{stroke-linecap:butt;stroke-linejoin:round;}</style>\r\n </defs>\r\n <g id=\"figure_1\">\r\n  <g id=\"patch_1\">\r\n   <path d=\"M 0 265.4322 \r\nL 383.003125 265.4322 \r\nL 383.003125 0 \r\nL 0 0 \r\nz\r\n\" style=\"fill:none;\"/>\r\n  </g>\r\n  <g id=\"axes_1\">\r\n   <g id=\"patch_2\">\r\n    <path d=\"M 41.003125 227.87595 \r\nL 375.803125 227.87595 \r\nL 375.803125 10.43595 \r\nL 41.003125 10.43595 \r\nz\r\n\" style=\"fill:#ffffff;\"/>\r\n   </g>\r\n   <g id=\"matplotlib.axis_1\">\r\n    <g id=\"xtick_1\">\r\n     <g id=\"line2d_1\">\r\n      <defs>\r\n       <path d=\"M 0 0 \r\nL 0 3.5 \r\n\" id=\"m791f6603e1\" style=\"stroke:#000000;stroke-width:0.8;\"/>\r\n      </defs>\r\n      <g>\r\n       <use style=\"stroke:#000000;stroke-width:0.8;\" x=\"83.890728\" xlink:href=\"#m791f6603e1\" y=\"227.87595\"/>\r\n      </g>\r\n     </g>\r\n     <g id=\"text_1\">\r\n      <!-- 0.25 -->\r\n      <g transform=\"translate(72.757916 242.474388)scale(0.1 -0.1)\">\r\n       <defs>\r\n        <path d=\"M 31.78125 66.40625 \r\nQ 24.171875 66.40625 20.328125 58.90625 \r\nQ 16.5 51.421875 16.5 36.375 \r\nQ 16.5 21.390625 20.328125 13.890625 \r\nQ 24.171875 6.390625 31.78125 6.390625 \r\nQ 39.453125 6.390625 43.28125 13.890625 \r\nQ 47.125 21.390625 47.125 36.375 \r\nQ 47.125 51.421875 43.28125 58.90625 \r\nQ 39.453125 66.40625 31.78125 66.40625 \r\nz\r\nM 31.78125 74.21875 \r\nQ 44.046875 74.21875 50.515625 64.515625 \r\nQ 56.984375 54.828125 56.984375 36.375 \r\nQ 56.984375 17.96875 50.515625 8.265625 \r\nQ 44.046875 -1.421875 31.78125 -1.421875 \r\nQ 19.53125 -1.421875 13.0625 8.265625 \r\nQ 6.59375 17.96875 6.59375 36.375 \r\nQ 6.59375 54.828125 13.0625 64.515625 \r\nQ 19.53125 74.21875 31.78125 74.21875 \r\nz\r\n\" id=\"DejaVuSans-48\"/>\r\n        <path d=\"M 10.6875 12.40625 \r\nL 21 12.40625 \r\nL 21 0 \r\nL 10.6875 0 \r\nz\r\n\" id=\"DejaVuSans-46\"/>\r\n        <path d=\"M 19.1875 8.296875 \r\nL 53.609375 8.296875 \r\nL 53.609375 0 \r\nL 7.328125 0 \r\nL 7.328125 8.296875 \r\nQ 12.9375 14.109375 22.625 23.890625 \r\nQ 32.328125 33.6875 34.8125 36.53125 \r\nQ 39.546875 41.84375 41.421875 45.53125 \r\nQ 43.3125 49.21875 43.3125 52.78125 \r\nQ 43.3125 58.59375 39.234375 62.25 \r\nQ 35.15625 65.921875 28.609375 65.921875 \r\nQ 23.96875 65.921875 18.8125 64.3125 \r\nQ 13.671875 62.703125 7.8125 59.421875 \r\nL 7.8125 69.390625 \r\nQ 13.765625 71.78125 18.9375 73 \r\nQ 24.125 74.21875 28.421875 74.21875 \r\nQ 39.75 74.21875 46.484375 68.546875 \r\nQ 53.21875 62.890625 53.21875 53.421875 \r\nQ 53.21875 48.921875 51.53125 44.890625 \r\nQ 49.859375 40.875 45.40625 35.40625 \r\nQ 44.1875 33.984375 37.640625 27.21875 \r\nQ 31.109375 20.453125 19.1875 8.296875 \r\nz\r\n\" id=\"DejaVuSans-50\"/>\r\n        <path d=\"M 10.796875 72.90625 \r\nL 49.515625 72.90625 \r\nL 49.515625 64.59375 \r\nL 19.828125 64.59375 \r\nL 19.828125 46.734375 \r\nQ 21.96875 47.46875 24.109375 47.828125 \r\nQ 26.265625 48.1875 28.421875 48.1875 \r\nQ 40.625 48.1875 47.75 41.5 \r\nQ 54.890625 34.8125 54.890625 23.390625 \r\nQ 54.890625 11.625 47.5625 5.09375 \r\nQ 40.234375 -1.421875 26.90625 -1.421875 \r\nQ 22.3125 -1.421875 17.546875 -0.640625 \r\nQ 12.796875 0.140625 7.71875 1.703125 \r\nL 7.71875 11.625 \r\nQ 12.109375 9.234375 16.796875 8.0625 \r\nQ 21.484375 6.890625 26.703125 6.890625 \r\nQ 35.15625 6.890625 40.078125 11.328125 \r\nQ 45.015625 15.765625 45.015625 23.390625 \r\nQ 45.015625 31 40.078125 35.4375 \r\nQ 35.15625 39.890625 26.703125 39.890625 \r\nQ 22.75 39.890625 18.8125 39.015625 \r\nQ 14.890625 38.140625 10.796875 36.28125 \r\nz\r\n\" id=\"DejaVuSans-53\"/>\r\n       </defs>\r\n       <use xlink:href=\"#DejaVuSans-48\"/>\r\n       <use x=\"63.623047\" xlink:href=\"#DejaVuSans-46\"/>\r\n       <use x=\"95.410156\" xlink:href=\"#DejaVuSans-50\"/>\r\n       <use x=\"159.033203\" xlink:href=\"#DejaVuSans-53\"/>\r\n      </g>\r\n     </g>\r\n    </g>\r\n    <g id=\"xtick_2\">\r\n     <g id=\"line2d_2\">\r\n      <g>\r\n       <use style=\"stroke:#000000;stroke-width:0.8;\" x=\"130.006431\" xlink:href=\"#m791f6603e1\" y=\"227.87595\"/>\r\n      </g>\r\n     </g>\r\n     <g id=\"text_2\">\r\n      <!-- 0.50 -->\r\n      <g transform=\"translate(118.873618 242.474388)scale(0.1 -0.1)\">\r\n       <use xlink:href=\"#DejaVuSans-48\"/>\r\n       <use x=\"63.623047\" xlink:href=\"#DejaVuSans-46\"/>\r\n       <use x=\"95.410156\" xlink:href=\"#DejaVuSans-53\"/>\r\n       <use x=\"159.033203\" xlink:href=\"#DejaVuSans-48\"/>\r\n      </g>\r\n     </g>\r\n    </g>\r\n    <g id=\"xtick_3\">\r\n     <g id=\"line2d_3\">\r\n      <g>\r\n       <use style=\"stroke:#000000;stroke-width:0.8;\" x=\"176.122133\" xlink:href=\"#m791f6603e1\" y=\"227.87595\"/>\r\n      </g>\r\n     </g>\r\n     <g id=\"text_3\">\r\n      <!-- 0.75 -->\r\n      <g transform=\"translate(164.989321 242.474388)scale(0.1 -0.1)\">\r\n       <defs>\r\n        <path d=\"M 8.203125 72.90625 \r\nL 55.078125 72.90625 \r\nL 55.078125 68.703125 \r\nL 28.609375 0 \r\nL 18.3125 0 \r\nL 43.21875 64.59375 \r\nL 8.203125 64.59375 \r\nz\r\n\" id=\"DejaVuSans-55\"/>\r\n       </defs>\r\n       <use xlink:href=\"#DejaVuSans-48\"/>\r\n       <use x=\"63.623047\" xlink:href=\"#DejaVuSans-46\"/>\r\n       <use x=\"95.410156\" xlink:href=\"#DejaVuSans-55\"/>\r\n       <use x=\"159.033203\" xlink:href=\"#DejaVuSans-53\"/>\r\n      </g>\r\n     </g>\r\n    </g>\r\n    <g id=\"xtick_4\">\r\n     <g id=\"line2d_4\">\r\n      <g>\r\n       <use style=\"stroke:#000000;stroke-width:0.8;\" x=\"222.237836\" xlink:href=\"#m791f6603e1\" y=\"227.87595\"/>\r\n      </g>\r\n     </g>\r\n     <g id=\"text_4\">\r\n      <!-- 1.00 -->\r\n      <g transform=\"translate(211.105023 242.474388)scale(0.1 -0.1)\">\r\n       <defs>\r\n        <path d=\"M 12.40625 8.296875 \r\nL 28.515625 8.296875 \r\nL 28.515625 63.921875 \r\nL 10.984375 60.40625 \r\nL 10.984375 69.390625 \r\nL 28.421875 72.90625 \r\nL 38.28125 72.90625 \r\nL 38.28125 8.296875 \r\nL 54.390625 8.296875 \r\nL 54.390625 0 \r\nL 12.40625 0 \r\nz\r\n\" id=\"DejaVuSans-49\"/>\r\n       </defs>\r\n       <use xlink:href=\"#DejaVuSans-49\"/>\r\n       <use x=\"63.623047\" xlink:href=\"#DejaVuSans-46\"/>\r\n       <use x=\"95.410156\" xlink:href=\"#DejaVuSans-48\"/>\r\n       <use x=\"159.033203\" xlink:href=\"#DejaVuSans-48\"/>\r\n      </g>\r\n     </g>\r\n    </g>\r\n    <g id=\"xtick_5\">\r\n     <g id=\"line2d_5\">\r\n      <g>\r\n       <use style=\"stroke:#000000;stroke-width:0.8;\" x=\"268.353538\" xlink:href=\"#m791f6603e1\" y=\"227.87595\"/>\r\n      </g>\r\n     </g>\r\n     <g id=\"text_5\">\r\n      <!-- 1.25 -->\r\n      <g transform=\"translate(257.220726 242.474388)scale(0.1 -0.1)\">\r\n       <use xlink:href=\"#DejaVuSans-49\"/>\r\n       <use x=\"63.623047\" xlink:href=\"#DejaVuSans-46\"/>\r\n       <use x=\"95.410156\" xlink:href=\"#DejaVuSans-50\"/>\r\n       <use x=\"159.033203\" xlink:href=\"#DejaVuSans-53\"/>\r\n      </g>\r\n     </g>\r\n    </g>\r\n    <g id=\"xtick_6\">\r\n     <g id=\"line2d_6\">\r\n      <g>\r\n       <use style=\"stroke:#000000;stroke-width:0.8;\" x=\"314.469241\" xlink:href=\"#m791f6603e1\" y=\"227.87595\"/>\r\n      </g>\r\n     </g>\r\n     <g id=\"text_6\">\r\n      <!-- 1.50 -->\r\n      <g transform=\"translate(303.336428 242.474388)scale(0.1 -0.1)\">\r\n       <use xlink:href=\"#DejaVuSans-49\"/>\r\n       <use x=\"63.623047\" xlink:href=\"#DejaVuSans-46\"/>\r\n       <use x=\"95.410156\" xlink:href=\"#DejaVuSans-53\"/>\r\n       <use x=\"159.033203\" xlink:href=\"#DejaVuSans-48\"/>\r\n      </g>\r\n     </g>\r\n    </g>\r\n    <g id=\"xtick_7\">\r\n     <g id=\"line2d_7\">\r\n      <g>\r\n       <use style=\"stroke:#000000;stroke-width:0.8;\" x=\"360.584943\" xlink:href=\"#m791f6603e1\" y=\"227.87595\"/>\r\n      </g>\r\n     </g>\r\n     <g id=\"text_7\">\r\n      <!-- 1.75 -->\r\n      <g transform=\"translate(349.452131 242.474388)scale(0.1 -0.1)\">\r\n       <use xlink:href=\"#DejaVuSans-49\"/>\r\n       <use x=\"63.623047\" xlink:href=\"#DejaVuSans-46\"/>\r\n       <use x=\"95.410156\" xlink:href=\"#DejaVuSans-55\"/>\r\n       <use x=\"159.033203\" xlink:href=\"#DejaVuSans-53\"/>\r\n      </g>\r\n     </g>\r\n    </g>\r\n    <g id=\"text_8\">\r\n     <!-- alpha -->\r\n     <g transform=\"translate(194.542969 256.152513)scale(0.1 -0.1)\">\r\n      <defs>\r\n       <path d=\"M 34.28125 27.484375 \r\nQ 23.390625 27.484375 19.1875 25 \r\nQ 14.984375 22.515625 14.984375 16.5 \r\nQ 14.984375 11.71875 18.140625 8.90625 \r\nQ 21.296875 6.109375 26.703125 6.109375 \r\nQ 34.1875 6.109375 38.703125 11.40625 \r\nQ 43.21875 16.703125 43.21875 25.484375 \r\nL 43.21875 27.484375 \r\nz\r\nM 52.203125 31.203125 \r\nL 52.203125 0 \r\nL 43.21875 0 \r\nL 43.21875 8.296875 \r\nQ 40.140625 3.328125 35.546875 0.953125 \r\nQ 30.953125 -1.421875 24.3125 -1.421875 \r\nQ 15.921875 -1.421875 10.953125 3.296875 \r\nQ 6 8.015625 6 15.921875 \r\nQ 6 25.140625 12.171875 29.828125 \r\nQ 18.359375 34.515625 30.609375 34.515625 \r\nL 43.21875 34.515625 \r\nL 43.21875 35.40625 \r\nQ 43.21875 41.609375 39.140625 45 \r\nQ 35.0625 48.390625 27.6875 48.390625 \r\nQ 23 48.390625 18.546875 47.265625 \r\nQ 14.109375 46.140625 10.015625 43.890625 \r\nL 10.015625 52.203125 \r\nQ 14.9375 54.109375 19.578125 55.046875 \r\nQ 24.21875 56 28.609375 56 \r\nQ 40.484375 56 46.34375 49.84375 \r\nQ 52.203125 43.703125 52.203125 31.203125 \r\nz\r\n\" id=\"DejaVuSans-97\"/>\r\n       <path d=\"M 9.421875 75.984375 \r\nL 18.40625 75.984375 \r\nL 18.40625 0 \r\nL 9.421875 0 \r\nz\r\n\" id=\"DejaVuSans-108\"/>\r\n       <path d=\"M 18.109375 8.203125 \r\nL 18.109375 -20.796875 \r\nL 9.078125 -20.796875 \r\nL 9.078125 54.6875 \r\nL 18.109375 54.6875 \r\nL 18.109375 46.390625 \r\nQ 20.953125 51.265625 25.265625 53.625 \r\nQ 29.59375 56 35.59375 56 \r\nQ 45.5625 56 51.78125 48.09375 \r\nQ 58.015625 40.1875 58.015625 27.296875 \r\nQ 58.015625 14.40625 51.78125 6.484375 \r\nQ 45.5625 -1.421875 35.59375 -1.421875 \r\nQ 29.59375 -1.421875 25.265625 0.953125 \r\nQ 20.953125 3.328125 18.109375 8.203125 \r\nz\r\nM 48.6875 27.296875 \r\nQ 48.6875 37.203125 44.609375 42.84375 \r\nQ 40.53125 48.484375 33.40625 48.484375 \r\nQ 26.265625 48.484375 22.1875 42.84375 \r\nQ 18.109375 37.203125 18.109375 27.296875 \r\nQ 18.109375 17.390625 22.1875 11.75 \r\nQ 26.265625 6.109375 33.40625 6.109375 \r\nQ 40.53125 6.109375 44.609375 11.75 \r\nQ 48.6875 17.390625 48.6875 27.296875 \r\nz\r\n\" id=\"DejaVuSans-112\"/>\r\n       <path d=\"M 54.890625 33.015625 \r\nL 54.890625 0 \r\nL 45.90625 0 \r\nL 45.90625 32.71875 \r\nQ 45.90625 40.484375 42.875 44.328125 \r\nQ 39.84375 48.1875 33.796875 48.1875 \r\nQ 26.515625 48.1875 22.3125 43.546875 \r\nQ 18.109375 38.921875 18.109375 30.90625 \r\nL 18.109375 0 \r\nL 9.078125 0 \r\nL 9.078125 75.984375 \r\nL 18.109375 75.984375 \r\nL 18.109375 46.1875 \r\nQ 21.34375 51.125 25.703125 53.5625 \r\nQ 30.078125 56 35.796875 56 \r\nQ 45.21875 56 50.046875 50.171875 \r\nQ 54.890625 44.34375 54.890625 33.015625 \r\nz\r\n\" id=\"DejaVuSans-104\"/>\r\n      </defs>\r\n      <use xlink:href=\"#DejaVuSans-97\"/>\r\n      <use x=\"61.279297\" xlink:href=\"#DejaVuSans-108\"/>\r\n      <use x=\"89.0625\" xlink:href=\"#DejaVuSans-112\"/>\r\n      <use x=\"152.539062\" xlink:href=\"#DejaVuSans-104\"/>\r\n      <use x=\"215.917969\" xlink:href=\"#DejaVuSans-97\"/>\r\n     </g>\r\n    </g>\r\n   </g>\r\n   <g id=\"matplotlib.axis_2\">\r\n    <g id=\"ytick_1\">\r\n     <g id=\"line2d_8\">\r\n      <defs>\r\n       <path d=\"M 0 0 \r\nL -3.5 0 \r\n\" id=\"m89b8060d39\" style=\"stroke:#000000;stroke-width:0.8;\"/>\r\n      </defs>\r\n      <g>\r\n       <use style=\"stroke:#000000;stroke-width:0.8;\" x=\"41.003125\" xlink:href=\"#m89b8060d39\" y=\"208.1355\"/>\r\n      </g>\r\n     </g>\r\n     <g id=\"text_9\">\r\n      <!-- 35 -->\r\n      <g transform=\"translate(21.278125 211.934719)scale(0.1 -0.1)\">\r\n       <defs>\r\n        <path d=\"M 40.578125 39.3125 \r\nQ 47.65625 37.796875 51.625 33 \r\nQ 55.609375 28.21875 55.609375 21.1875 \r\nQ 55.609375 10.40625 48.1875 4.484375 \r\nQ 40.765625 -1.421875 27.09375 -1.421875 \r\nQ 22.515625 -1.421875 17.65625 -0.515625 \r\nQ 12.796875 0.390625 7.625 2.203125 \r\nL 7.625 11.71875 \r\nQ 11.71875 9.328125 16.59375 8.109375 \r\nQ 21.484375 6.890625 26.8125 6.890625 \r\nQ 36.078125 6.890625 40.9375 10.546875 \r\nQ 45.796875 14.203125 45.796875 21.1875 \r\nQ 45.796875 27.640625 41.28125 31.265625 \r\nQ 36.765625 34.90625 28.71875 34.90625 \r\nL 20.21875 34.90625 \r\nL 20.21875 43.015625 \r\nL 29.109375 43.015625 \r\nQ 36.375 43.015625 40.234375 45.921875 \r\nQ 44.09375 48.828125 44.09375 54.296875 \r\nQ 44.09375 59.90625 40.109375 62.90625 \r\nQ 36.140625 65.921875 28.71875 65.921875 \r\nQ 24.65625 65.921875 20.015625 65.03125 \r\nQ 15.375 64.15625 9.8125 62.3125 \r\nL 9.8125 71.09375 \r\nQ 15.4375 72.65625 20.34375 73.4375 \r\nQ 25.25 74.21875 29.59375 74.21875 \r\nQ 40.828125 74.21875 47.359375 69.109375 \r\nQ 53.90625 64.015625 53.90625 55.328125 \r\nQ 53.90625 49.265625 50.4375 45.09375 \r\nQ 46.96875 40.921875 40.578125 39.3125 \r\nz\r\n\" id=\"DejaVuSans-51\"/>\r\n       </defs>\r\n       <use xlink:href=\"#DejaVuSans-51\"/>\r\n       <use x=\"63.623047\" xlink:href=\"#DejaVuSans-53\"/>\r\n      </g>\r\n     </g>\r\n    </g>\r\n    <g id=\"ytick_2\">\r\n     <g id=\"line2d_9\">\r\n      <g>\r\n       <use style=\"stroke:#000000;stroke-width:0.8;\" x=\"41.003125\" xlink:href=\"#m89b8060d39\" y=\"183.493465\"/>\r\n      </g>\r\n     </g>\r\n     <g id=\"text_10\">\r\n      <!-- 40 -->\r\n      <g transform=\"translate(21.278125 187.292684)scale(0.1 -0.1)\">\r\n       <defs>\r\n        <path d=\"M 37.796875 64.3125 \r\nL 12.890625 25.390625 \r\nL 37.796875 25.390625 \r\nz\r\nM 35.203125 72.90625 \r\nL 47.609375 72.90625 \r\nL 47.609375 25.390625 \r\nL 58.015625 25.390625 \r\nL 58.015625 17.1875 \r\nL 47.609375 17.1875 \r\nL 47.609375 0 \r\nL 37.796875 0 \r\nL 37.796875 17.1875 \r\nL 4.890625 17.1875 \r\nL 4.890625 26.703125 \r\nz\r\n\" id=\"DejaVuSans-52\"/>\r\n       </defs>\r\n       <use xlink:href=\"#DejaVuSans-52\"/>\r\n       <use x=\"63.623047\" xlink:href=\"#DejaVuSans-48\"/>\r\n      </g>\r\n     </g>\r\n    </g>\r\n    <g id=\"ytick_3\">\r\n     <g id=\"line2d_10\">\r\n      <g>\r\n       <use style=\"stroke:#000000;stroke-width:0.8;\" x=\"41.003125\" xlink:href=\"#m89b8060d39\" y=\"158.85143\"/>\r\n      </g>\r\n     </g>\r\n     <g id=\"text_11\">\r\n      <!-- 45 -->\r\n      <g transform=\"translate(21.278125 162.650648)scale(0.1 -0.1)\">\r\n       <use xlink:href=\"#DejaVuSans-52\"/>\r\n       <use x=\"63.623047\" xlink:href=\"#DejaVuSans-53\"/>\r\n      </g>\r\n     </g>\r\n    </g>\r\n    <g id=\"ytick_4\">\r\n     <g id=\"line2d_11\">\r\n      <g>\r\n       <use style=\"stroke:#000000;stroke-width:0.8;\" x=\"41.003125\" xlink:href=\"#m89b8060d39\" y=\"134.209395\"/>\r\n      </g>\r\n     </g>\r\n     <g id=\"text_12\">\r\n      <!-- 50 -->\r\n      <g transform=\"translate(21.278125 138.008613)scale(0.1 -0.1)\">\r\n       <use xlink:href=\"#DejaVuSans-53\"/>\r\n       <use x=\"63.623047\" xlink:href=\"#DejaVuSans-48\"/>\r\n      </g>\r\n     </g>\r\n    </g>\r\n    <g id=\"ytick_5\">\r\n     <g id=\"line2d_12\">\r\n      <g>\r\n       <use style=\"stroke:#000000;stroke-width:0.8;\" x=\"41.003125\" xlink:href=\"#m89b8060d39\" y=\"109.567359\"/>\r\n      </g>\r\n     </g>\r\n     <g id=\"text_13\">\r\n      <!-- 55 -->\r\n      <g transform=\"translate(21.278125 113.366578)scale(0.1 -0.1)\">\r\n       <use xlink:href=\"#DejaVuSans-53\"/>\r\n       <use x=\"63.623047\" xlink:href=\"#DejaVuSans-53\"/>\r\n      </g>\r\n     </g>\r\n    </g>\r\n    <g id=\"ytick_6\">\r\n     <g id=\"line2d_13\">\r\n      <g>\r\n       <use style=\"stroke:#000000;stroke-width:0.8;\" x=\"41.003125\" xlink:href=\"#m89b8060d39\" y=\"84.925324\"/>\r\n      </g>\r\n     </g>\r\n     <g id=\"text_14\">\r\n      <!-- 60 -->\r\n      <g transform=\"translate(21.278125 88.724543)scale(0.1 -0.1)\">\r\n       <defs>\r\n        <path d=\"M 33.015625 40.375 \r\nQ 26.375 40.375 22.484375 35.828125 \r\nQ 18.609375 31.296875 18.609375 23.390625 \r\nQ 18.609375 15.53125 22.484375 10.953125 \r\nQ 26.375 6.390625 33.015625 6.390625 \r\nQ 39.65625 6.390625 43.53125 10.953125 \r\nQ 47.40625 15.53125 47.40625 23.390625 \r\nQ 47.40625 31.296875 43.53125 35.828125 \r\nQ 39.65625 40.375 33.015625 40.375 \r\nz\r\nM 52.59375 71.296875 \r\nL 52.59375 62.3125 \r\nQ 48.875 64.0625 45.09375 64.984375 \r\nQ 41.3125 65.921875 37.59375 65.921875 \r\nQ 27.828125 65.921875 22.671875 59.328125 \r\nQ 17.53125 52.734375 16.796875 39.40625 \r\nQ 19.671875 43.65625 24.015625 45.921875 \r\nQ 28.375 48.1875 33.59375 48.1875 \r\nQ 44.578125 48.1875 50.953125 41.515625 \r\nQ 57.328125 34.859375 57.328125 23.390625 \r\nQ 57.328125 12.15625 50.6875 5.359375 \r\nQ 44.046875 -1.421875 33.015625 -1.421875 \r\nQ 20.359375 -1.421875 13.671875 8.265625 \r\nQ 6.984375 17.96875 6.984375 36.375 \r\nQ 6.984375 53.65625 15.1875 63.9375 \r\nQ 23.390625 74.21875 37.203125 74.21875 \r\nQ 40.921875 74.21875 44.703125 73.484375 \r\nQ 48.484375 72.75 52.59375 71.296875 \r\nz\r\n\" id=\"DejaVuSans-54\"/>\r\n       </defs>\r\n       <use xlink:href=\"#DejaVuSans-54\"/>\r\n       <use x=\"63.623047\" xlink:href=\"#DejaVuSans-48\"/>\r\n      </g>\r\n     </g>\r\n    </g>\r\n    <g id=\"ytick_7\">\r\n     <g id=\"line2d_14\">\r\n      <g>\r\n       <use style=\"stroke:#000000;stroke-width:0.8;\" x=\"41.003125\" xlink:href=\"#m89b8060d39\" y=\"60.283289\"/>\r\n      </g>\r\n     </g>\r\n     <g id=\"text_15\">\r\n      <!-- 65 -->\r\n      <g transform=\"translate(21.278125 64.082508)scale(0.1 -0.1)\">\r\n       <use xlink:href=\"#DejaVuSans-54\"/>\r\n       <use x=\"63.623047\" xlink:href=\"#DejaVuSans-53\"/>\r\n      </g>\r\n     </g>\r\n    </g>\r\n    <g id=\"ytick_8\">\r\n     <g id=\"line2d_15\">\r\n      <g>\r\n       <use style=\"stroke:#000000;stroke-width:0.8;\" x=\"41.003125\" xlink:href=\"#m89b8060d39\" y=\"35.641254\"/>\r\n      </g>\r\n     </g>\r\n     <g id=\"text_16\">\r\n      <!-- 70 -->\r\n      <g transform=\"translate(21.278125 39.440473)scale(0.1 -0.1)\">\r\n       <use xlink:href=\"#DejaVuSans-55\"/>\r\n       <use x=\"63.623047\" xlink:href=\"#DejaVuSans-48\"/>\r\n      </g>\r\n     </g>\r\n    </g>\r\n    <g id=\"ytick_9\">\r\n     <g id=\"line2d_16\">\r\n      <g>\r\n       <use style=\"stroke:#000000;stroke-width:0.8;\" x=\"41.003125\" xlink:href=\"#m89b8060d39\" y=\"10.999219\"/>\r\n      </g>\r\n     </g>\r\n     <g id=\"text_17\">\r\n      <!-- 75 -->\r\n      <g transform=\"translate(21.278125 14.798437)scale(0.1 -0.1)\">\r\n       <use xlink:href=\"#DejaVuSans-55\"/>\r\n       <use x=\"63.623047\" xlink:href=\"#DejaVuSans-53\"/>\r\n      </g>\r\n     </g>\r\n    </g>\r\n    <g id=\"text_18\">\r\n     <!-- quantité produite -->\r\n     <g transform=\"translate(15.198438 162.652044)rotate(-90)scale(0.1 -0.1)\">\r\n      <defs>\r\n       <path d=\"M 14.796875 27.296875 \r\nQ 14.796875 17.390625 18.875 11.75 \r\nQ 22.953125 6.109375 30.078125 6.109375 \r\nQ 37.203125 6.109375 41.296875 11.75 \r\nQ 45.40625 17.390625 45.40625 27.296875 \r\nQ 45.40625 37.203125 41.296875 42.84375 \r\nQ 37.203125 48.484375 30.078125 48.484375 \r\nQ 22.953125 48.484375 18.875 42.84375 \r\nQ 14.796875 37.203125 14.796875 27.296875 \r\nz\r\nM 45.40625 8.203125 \r\nQ 42.578125 3.328125 38.25 0.953125 \r\nQ 33.9375 -1.421875 27.875 -1.421875 \r\nQ 17.96875 -1.421875 11.734375 6.484375 \r\nQ 5.515625 14.40625 5.515625 27.296875 \r\nQ 5.515625 40.1875 11.734375 48.09375 \r\nQ 17.96875 56 27.875 56 \r\nQ 33.9375 56 38.25 53.625 \r\nQ 42.578125 51.265625 45.40625 46.390625 \r\nL 45.40625 54.6875 \r\nL 54.390625 54.6875 \r\nL 54.390625 -20.796875 \r\nL 45.40625 -20.796875 \r\nz\r\n\" id=\"DejaVuSans-113\"/>\r\n       <path d=\"M 8.5 21.578125 \r\nL 8.5 54.6875 \r\nL 17.484375 54.6875 \r\nL 17.484375 21.921875 \r\nQ 17.484375 14.15625 20.5 10.265625 \r\nQ 23.53125 6.390625 29.59375 6.390625 \r\nQ 36.859375 6.390625 41.078125 11.03125 \r\nQ 45.3125 15.671875 45.3125 23.6875 \r\nL 45.3125 54.6875 \r\nL 54.296875 54.6875 \r\nL 54.296875 0 \r\nL 45.3125 0 \r\nL 45.3125 8.40625 \r\nQ 42.046875 3.421875 37.71875 1 \r\nQ 33.40625 -1.421875 27.6875 -1.421875 \r\nQ 18.265625 -1.421875 13.375 4.4375 \r\nQ 8.5 10.296875 8.5 21.578125 \r\nz\r\nM 31.109375 56 \r\nz\r\n\" id=\"DejaVuSans-117\"/>\r\n       <path d=\"M 54.890625 33.015625 \r\nL 54.890625 0 \r\nL 45.90625 0 \r\nL 45.90625 32.71875 \r\nQ 45.90625 40.484375 42.875 44.328125 \r\nQ 39.84375 48.1875 33.796875 48.1875 \r\nQ 26.515625 48.1875 22.3125 43.546875 \r\nQ 18.109375 38.921875 18.109375 30.90625 \r\nL 18.109375 0 \r\nL 9.078125 0 \r\nL 9.078125 54.6875 \r\nL 18.109375 54.6875 \r\nL 18.109375 46.1875 \r\nQ 21.34375 51.125 25.703125 53.5625 \r\nQ 30.078125 56 35.796875 56 \r\nQ 45.21875 56 50.046875 50.171875 \r\nQ 54.890625 44.34375 54.890625 33.015625 \r\nz\r\n\" id=\"DejaVuSans-110\"/>\r\n       <path d=\"M 18.3125 70.21875 \r\nL 18.3125 54.6875 \r\nL 36.8125 54.6875 \r\nL 36.8125 47.703125 \r\nL 18.3125 47.703125 \r\nL 18.3125 18.015625 \r\nQ 18.3125 11.328125 20.140625 9.421875 \r\nQ 21.96875 7.515625 27.59375 7.515625 \r\nL 36.8125 7.515625 \r\nL 36.8125 0 \r\nL 27.59375 0 \r\nQ 17.1875 0 13.234375 3.875 \r\nQ 9.28125 7.765625 9.28125 18.015625 \r\nL 9.28125 47.703125 \r\nL 2.6875 47.703125 \r\nL 2.6875 54.6875 \r\nL 9.28125 54.6875 \r\nL 9.28125 70.21875 \r\nz\r\n\" id=\"DejaVuSans-116\"/>\r\n       <path d=\"M 9.421875 54.6875 \r\nL 18.40625 54.6875 \r\nL 18.40625 0 \r\nL 9.421875 0 \r\nz\r\nM 9.421875 75.984375 \r\nL 18.40625 75.984375 \r\nL 18.40625 64.59375 \r\nL 9.421875 64.59375 \r\nz\r\n\" id=\"DejaVuSans-105\"/>\r\n       <path d=\"M 56.203125 29.59375 \r\nL 56.203125 25.203125 \r\nL 14.890625 25.203125 \r\nQ 15.484375 15.921875 20.484375 11.0625 \r\nQ 25.484375 6.203125 34.421875 6.203125 \r\nQ 39.59375 6.203125 44.453125 7.46875 \r\nQ 49.3125 8.734375 54.109375 11.28125 \r\nL 54.109375 2.78125 \r\nQ 49.265625 0.734375 44.1875 -0.34375 \r\nQ 39.109375 -1.421875 33.890625 -1.421875 \r\nQ 20.796875 -1.421875 13.15625 6.1875 \r\nQ 5.515625 13.8125 5.515625 26.8125 \r\nQ 5.515625 40.234375 12.765625 48.109375 \r\nQ 20.015625 56 32.328125 56 \r\nQ 43.359375 56 49.78125 48.890625 \r\nQ 56.203125 41.796875 56.203125 29.59375 \r\nz\r\nM 47.21875 32.234375 \r\nQ 47.125 39.59375 43.09375 43.984375 \r\nQ 39.0625 48.390625 32.421875 48.390625 \r\nQ 24.90625 48.390625 20.390625 44.140625 \r\nQ 15.875 39.890625 15.1875 32.171875 \r\nz\r\nM 38.578125 79.984375 \r\nL 48.296875 79.984375 \r\nL 32.375 61.625 \r\nL 24.90625 61.625 \r\nz\r\n\" id=\"DejaVuSans-233\"/>\r\n       <path id=\"DejaVuSans-32\"/>\r\n       <path d=\"M 41.109375 46.296875 \r\nQ 39.59375 47.171875 37.8125 47.578125 \r\nQ 36.03125 48 33.890625 48 \r\nQ 26.265625 48 22.1875 43.046875 \r\nQ 18.109375 38.09375 18.109375 28.8125 \r\nL 18.109375 0 \r\nL 9.078125 0 \r\nL 9.078125 54.6875 \r\nL 18.109375 54.6875 \r\nL 18.109375 46.1875 \r\nQ 20.953125 51.171875 25.484375 53.578125 \r\nQ 30.03125 56 36.53125 56 \r\nQ 37.453125 56 38.578125 55.875 \r\nQ 39.703125 55.765625 41.0625 55.515625 \r\nz\r\n\" id=\"DejaVuSans-114\"/>\r\n       <path d=\"M 30.609375 48.390625 \r\nQ 23.390625 48.390625 19.1875 42.75 \r\nQ 14.984375 37.109375 14.984375 27.296875 \r\nQ 14.984375 17.484375 19.15625 11.84375 \r\nQ 23.34375 6.203125 30.609375 6.203125 \r\nQ 37.796875 6.203125 41.984375 11.859375 \r\nQ 46.1875 17.53125 46.1875 27.296875 \r\nQ 46.1875 37.015625 41.984375 42.703125 \r\nQ 37.796875 48.390625 30.609375 48.390625 \r\nz\r\nM 30.609375 56 \r\nQ 42.328125 56 49.015625 48.375 \r\nQ 55.71875 40.765625 55.71875 27.296875 \r\nQ 55.71875 13.875 49.015625 6.21875 \r\nQ 42.328125 -1.421875 30.609375 -1.421875 \r\nQ 18.84375 -1.421875 12.171875 6.21875 \r\nQ 5.515625 13.875 5.515625 27.296875 \r\nQ 5.515625 40.765625 12.171875 48.375 \r\nQ 18.84375 56 30.609375 56 \r\nz\r\n\" id=\"DejaVuSans-111\"/>\r\n       <path d=\"M 45.40625 46.390625 \r\nL 45.40625 75.984375 \r\nL 54.390625 75.984375 \r\nL 54.390625 0 \r\nL 45.40625 0 \r\nL 45.40625 8.203125 \r\nQ 42.578125 3.328125 38.25 0.953125 \r\nQ 33.9375 -1.421875 27.875 -1.421875 \r\nQ 17.96875 -1.421875 11.734375 6.484375 \r\nQ 5.515625 14.40625 5.515625 27.296875 \r\nQ 5.515625 40.1875 11.734375 48.09375 \r\nQ 17.96875 56 27.875 56 \r\nQ 33.9375 56 38.25 53.625 \r\nQ 42.578125 51.265625 45.40625 46.390625 \r\nz\r\nM 14.796875 27.296875 \r\nQ 14.796875 17.390625 18.875 11.75 \r\nQ 22.953125 6.109375 30.078125 6.109375 \r\nQ 37.203125 6.109375 41.296875 11.75 \r\nQ 45.40625 17.390625 45.40625 27.296875 \r\nQ 45.40625 37.203125 41.296875 42.84375 \r\nQ 37.203125 48.484375 30.078125 48.484375 \r\nQ 22.953125 48.484375 18.875 42.84375 \r\nQ 14.796875 37.203125 14.796875 27.296875 \r\nz\r\n\" id=\"DejaVuSans-100\"/>\r\n       <path d=\"M 56.203125 29.59375 \r\nL 56.203125 25.203125 \r\nL 14.890625 25.203125 \r\nQ 15.484375 15.921875 20.484375 11.0625 \r\nQ 25.484375 6.203125 34.421875 6.203125 \r\nQ 39.59375 6.203125 44.453125 7.46875 \r\nQ 49.3125 8.734375 54.109375 11.28125 \r\nL 54.109375 2.78125 \r\nQ 49.265625 0.734375 44.1875 -0.34375 \r\nQ 39.109375 -1.421875 33.890625 -1.421875 \r\nQ 20.796875 -1.421875 13.15625 6.1875 \r\nQ 5.515625 13.8125 5.515625 26.8125 \r\nQ 5.515625 40.234375 12.765625 48.109375 \r\nQ 20.015625 56 32.328125 56 \r\nQ 43.359375 56 49.78125 48.890625 \r\nQ 56.203125 41.796875 56.203125 29.59375 \r\nz\r\nM 47.21875 32.234375 \r\nQ 47.125 39.59375 43.09375 43.984375 \r\nQ 39.0625 48.390625 32.421875 48.390625 \r\nQ 24.90625 48.390625 20.390625 44.140625 \r\nQ 15.875 39.890625 15.1875 32.171875 \r\nz\r\n\" id=\"DejaVuSans-101\"/>\r\n      </defs>\r\n      <use xlink:href=\"#DejaVuSans-113\"/>\r\n      <use x=\"63.476562\" xlink:href=\"#DejaVuSans-117\"/>\r\n      <use x=\"126.855469\" xlink:href=\"#DejaVuSans-97\"/>\r\n      <use x=\"188.134766\" xlink:href=\"#DejaVuSans-110\"/>\r\n      <use x=\"251.513672\" xlink:href=\"#DejaVuSans-116\"/>\r\n      <use x=\"290.722656\" xlink:href=\"#DejaVuSans-105\"/>\r\n      <use x=\"318.505859\" xlink:href=\"#DejaVuSans-116\"/>\r\n      <use x=\"357.714844\" xlink:href=\"#DejaVuSans-233\"/>\r\n      <use x=\"419.238281\" xlink:href=\"#DejaVuSans-32\"/>\r\n      <use x=\"451.025391\" xlink:href=\"#DejaVuSans-112\"/>\r\n      <use x=\"514.501953\" xlink:href=\"#DejaVuSans-114\"/>\r\n      <use x=\"553.365234\" xlink:href=\"#DejaVuSans-111\"/>\r\n      <use x=\"614.546875\" xlink:href=\"#DejaVuSans-100\"/>\r\n      <use x=\"678.023438\" xlink:href=\"#DejaVuSans-117\"/>\r\n      <use x=\"741.402344\" xlink:href=\"#DejaVuSans-105\"/>\r\n      <use x=\"769.185547\" xlink:href=\"#DejaVuSans-116\"/>\r\n      <use x=\"808.394531\" xlink:href=\"#DejaVuSans-101\"/>\r\n     </g>\r\n    </g>\r\n   </g>\r\n   <g id=\"line2d_17\">\r\n    <path clip-path=\"url(#p8d1a35cf3d)\" d=\"M 56.221307 20.319587 \r\nL 65.444447 30.373455 \r\nL 74.667588 35.373023 \r\nL 83.890728 38.386069 \r\nL 93.113869 40.38883 \r\nL 102.337009 41.82876 \r\nL 111.56015 42.89989 \r\nL 120.78329 43.73464 \r\nL 130.006431 44.412186 \r\nL 139.229571 44.951808 \r\nL 148.452712 45.414709 \r\nL 157.675852 45.79669 \r\nL 166.898993 46.129432 \r\nL 176.122133 46.410902 \r\nL 185.345274 46.663712 \r\nL 194.568414 46.881994 \r\nL 203.791555 47.081338 \r\nL 213.014695 47.259718 \r\nL 222.237836 47.415311 \r\nL 231.460976 47.55794 \r\nL 240.684117 47.690901 \r\nL 249.907257 47.808481 \r\nL 259.130398 47.917894 \r\nL 268.353538 48.017124 \r\nL 277.576679 48.111377 \r\nL 286.799819 48.19549 \r\nL 296.02296 48.280072 \r\nL 305.2461 48.349797 \r\nL 314.469241 48.420285 \r\nL 323.692381 48.484859 \r\nL 332.915522 48.544772 \r\nL 342.138662 48.601343 \r\nL 351.361803 48.656137 \r\nL 360.584943 48.705621 \r\n\" style=\"fill:none;stroke:#1f77b4;stroke-linecap:square;stroke-width:1.5;\"/>\r\n   </g>\r\n   <g id=\"line2d_18\">\r\n    <path clip-path=\"url(#p8d1a35cf3d)\" d=\"M 56.221307 171.485277 \r\nL 65.444447 186.984691 \r\nL 74.667588 194.745486 \r\nL 83.890728 199.393215 \r\nL 93.113869 202.491074 \r\nL 102.337009 204.708432 \r\nL 111.56015 206.370992 \r\nL 120.78329 207.657511 \r\nL 130.006431 208.699675 \r\nL 139.229571 209.533648 \r\nL 148.452712 210.243702 \r\nL 157.675852 210.839608 \r\nL 166.898993 211.352167 \r\nL 176.122133 211.793407 \r\nL 185.345274 212.180904 \r\nL 194.568414 212.519821 \r\nL 203.791555 212.832143 \r\nL 213.014695 213.098959 \r\nL 222.237836 213.339627 \r\nL 231.460976 213.564094 \r\nL 240.684117 213.767772 \r\nL 249.907257 213.948021 \r\nL 259.130398 214.117788 \r\nL 268.353538 214.271923 \r\nL 277.576679 214.415879 \r\nL 286.799819 214.547381 \r\nL 296.02296 214.67231 \r\nL 305.2461 214.783283 \r\nL 314.469241 214.893389 \r\nL 323.692381 214.991465 \r\nL 332.915522 215.085893 \r\nL 342.138662 215.172832 \r\nL 351.361803 215.257502 \r\nL 360.584943 215.334732 \r\n\" style=\"fill:none;stroke:#ff7f0e;stroke-linecap:square;stroke-width:1.5;\"/>\r\n   </g>\r\n   <g id=\"line2d_19\">\r\n    <path clip-path=\"url(#p8d1a35cf3d)\" d=\"M 56.221307 50.426475 \r\nL 65.444447 50.426475 \r\nL 74.667588 50.426475 \r\nL 83.890728 50.426475 \r\nL 93.113869 50.426475 \r\nL 102.337009 50.426475 \r\nL 111.56015 50.426475 \r\nL 120.78329 50.426475 \r\nL 130.006431 50.426475 \r\nL 139.229571 50.426475 \r\nL 148.452712 50.426475 \r\nL 157.675852 50.426475 \r\nL 166.898993 50.426475 \r\nL 176.122133 50.426475 \r\nL 185.345274 50.426475 \r\nL 194.568414 50.426475 \r\nL 203.791555 50.426475 \r\nL 213.014695 50.426475 \r\nL 222.237836 50.426475 \r\nL 231.460976 50.426475 \r\nL 240.684117 50.426475 \r\nL 249.907257 50.426475 \r\nL 259.130398 50.426475 \r\nL 268.353538 50.426475 \r\nL 277.576679 50.426475 \r\nL 286.799819 50.426475 \r\nL 296.02296 50.426475 \r\nL 305.2461 50.426475 \r\nL 314.469241 50.426475 \r\nL 323.692381 50.426475 \r\nL 332.915522 50.426475 \r\nL 342.138662 50.426475 \r\nL 351.361803 50.426475 \r\nL 360.584943 50.426475 \r\n\" style=\"fill:none;stroke:#2ca02c;stroke-linecap:square;stroke-width:1.5;\"/>\r\n   </g>\r\n   <g id=\"line2d_20\">\r\n    <path clip-path=\"url(#p8d1a35cf3d)\" d=\"M 56.221307 217.992314 \r\nL 65.444447 217.992314 \r\nL 74.667588 217.992314 \r\nL 83.890728 217.992314 \r\nL 93.113869 217.992314 \r\nL 102.337009 217.992314 \r\nL 111.56015 217.992314 \r\nL 120.78329 217.992314 \r\nL 130.006431 217.992314 \r\nL 139.229571 217.992314 \r\nL 148.452712 217.992314 \r\nL 157.675852 217.992314 \r\nL 166.898993 217.992314 \r\nL 176.122133 217.992314 \r\nL 185.345274 217.992314 \r\nL 194.568414 217.992314 \r\nL 203.791555 217.992314 \r\nL 213.014695 217.992314 \r\nL 222.237836 217.992314 \r\nL 231.460976 217.992314 \r\nL 240.684117 217.992314 \r\nL 249.907257 217.992314 \r\nL 259.130398 217.992314 \r\nL 268.353538 217.992314 \r\nL 277.576679 217.992314 \r\nL 286.799819 217.992314 \r\nL 296.02296 217.992314 \r\nL 305.2461 217.992314 \r\nL 314.469241 217.992314 \r\nL 323.692381 217.992314 \r\nL 332.915522 217.992314 \r\nL 342.138662 217.992314 \r\nL 351.361803 217.992314 \r\nL 360.584943 217.992314 \r\n\" style=\"fill:none;stroke:#d62728;stroke-linecap:square;stroke-width:1.5;\"/>\r\n   </g>\r\n   <g id=\"patch_3\">\r\n    <path d=\"M 41.003125 227.87595 \r\nL 41.003125 10.43595 \r\n\" style=\"fill:none;stroke:#000000;stroke-linecap:square;stroke-linejoin:miter;stroke-width:0.8;\"/>\r\n   </g>\r\n   <g id=\"patch_4\">\r\n    <path d=\"M 375.803125 227.87595 \r\nL 375.803125 10.43595 \r\n\" style=\"fill:none;stroke:#000000;stroke-linecap:square;stroke-linejoin:miter;stroke-width:0.8;\"/>\r\n   </g>\r\n   <g id=\"patch_5\">\r\n    <path d=\"M 41.003125 227.87595 \r\nL 375.803125 227.87595 \r\n\" style=\"fill:none;stroke:#000000;stroke-linecap:square;stroke-linejoin:miter;stroke-width:0.8;\"/>\r\n   </g>\r\n   <g id=\"patch_6\">\r\n    <path d=\"M 41.003125 10.43595 \r\nL 375.803125 10.43595 \r\n\" style=\"fill:none;stroke:#000000;stroke-linecap:square;stroke-linejoin:miter;stroke-width:0.8;\"/>\r\n   </g>\r\n  </g>\r\n </g>\r\n <defs>\r\n  <clipPath id=\"p8d1a35cf3d\">\r\n   <rect height=\"217.44\" width=\"334.8\" x=\"41.003125\" y=\"10.43595\"/>\r\n  </clipPath>\r\n </defs>\r\n</svg>\r\n",
      "image/png": "[encoded data removed]"
     },
     "metadata": {
      "needs_background": "light"
     }
    }
   ],
   "source": [
    "# avec différents alpha\n",
    "\n",
    "import matplotlib.pyplot as plt\n",
    "\n",
    "baguettes_list, chocolats_list, croissants_list = [], [], []\n",
    "alphas = np.arange(0.1, 1.8, 0.05)\n",
    "\n",
    "for a in alphas:\n",
    "    n, alpha, c, v, d, A = q6(a)\n",
    "    \n",
    "    def fun_h(q, d, alpha=alpha):\n",
    "        return (q*np.exp(-alpha*q)+d*np.exp(-alpha*d))/(np.exp(-alpha*q)+np.exp(-alpha*d))\n",
    "\n",
    "\n",
    "    def fun_f(z, d=d, A=A, c=c, v=v, alpha=alpha):\n",
    "        q = z[:len(d)]\n",
    "        r = z[len(d):]\n",
    "        return c.T @ r - v.T @ fun_h(q, d, alpha)\n",
    "\n",
    "    def fun_c(z, A=A):\n",
    "        q = z[:len(d)]\n",
    "        r = z[len(d):]\n",
    "        return A @ q - r\n",
    "\n",
    "    ineq_cons = { 'type' : 'ineq' , 'fun' : lambda x: - fun_c(x)}\n",
    "    res = optimize . minimize(fun_f, x0, method= 'SLSQP' ,\n",
    "    constraints= [ineq_cons], options={ 'disp' : False, 'maxiter': 10000})\n",
    "    \n",
    "    baguettes, chocolats, croissants = res.x[:3]\n",
    "    baguettes_list.append(baguettes)\n",
    "    chocolats_list.append(chocolats)\n",
    "    croissants_list.append(croissants)\n",
    "\n",
    "plt.figure()\n",
    "#plt.plot(alphas, baguettes_list)\n",
    "plt.plot(alphas, chocolats_list)\n",
    "plt.plot(alphas, croissants_list)\n",
    "#plt.plot(alphas, 400*np.ones(len(alphas)))\n",
    "plt.plot(alphas, 67*np.ones(len(alphas)))\n",
    "plt.plot(alphas, 33*np.ones(len(alphas)))\n",
    "plt.xlabel(\"alpha\")\n",
    "plt.ylabel(\"quantité produite\")\n",
    "plt.show()\n"
   ]
  },
  {
   "source": [
    "La valeur de la fonction de coût est négative, donc l'entreprise fait des profits.\n",
    "\n",
    "On observe que les quantités produites sont toujours supérieures aux quantités demandées, ce qui est surprenant car le modèle ne permet pas les économies d'échelle a priori.\n",
    "\n",
    "Cela pourrait donc être notre approximation du minimum qui serait en cause. Pour le vérifier, nous avons représenté les quantités produites selon la valeur du paramètre $\\alpha$. Lorsqu'il augmente, c'est-à-dire lorsque notre approximation \"se rapproche\" de la fonction $\\min$, on observe bien que les quantités produites tendent vers les quantités demandées par valeurs supérieures, ce qui confirme cette hypothèse. On peut donc conclure que la quantité optimale est la quantité demandée avec ces paramètres.\n",
    "\n",
    "On peut également comparer aux résultats obtenus dans la dernière partie du problème."
   ],
   "cell_type": "markdown",
   "metadata": {}
  },
  {
   "source": [
    "Légère surproduction : très étonnant, économie d'échelle ? pas tout à fait comme intuition : plutôt moins ou = à la demande mais pas plus...\n",
    "\n",
    "\n",
    "Comparer aussi la valeur du profit en lui-même... ?"
   ],
   "cell_type": "markdown",
   "metadata": {}
  },
  {
   "source": [
    "### Question 7"
   ],
   "cell_type": "markdown",
   "metadata": {}
  },
  {
   "source": [
    "a. Problème d'optimisation.\n",
    "\n",
    "On calcule l'espérance de l'opposé du profit : $E(z)=\\pi_1 f_1(z)+\\pi_2 f_2(z)+\\pi_3 f_3(z)$ où $f_i(z)= c^T r - v^T h(q, d^i)$\n",
    "\n",
    "On minimise donc cette quantité $E(z)$ avec les mêmes contraintes.\n",
    "\n"
   ],
   "cell_type": "markdown",
   "metadata": {}
  },
  {
   "cell_type": "code",
   "execution_count": 143,
   "metadata": {},
   "outputs": [],
   "source": [
    "def q7():\n",
    "    d1 = np.array([400., 67., 33.])\n",
    "    d2 = np.array([500., 80., 53.])\n",
    "    d3 = np.array([300., 60., 43.])\n",
    "    p1 = 0.5\n",
    "    p2 = 0.3\n",
    "    p3 = 0.2\n",
    "    return d1, p1, d2, p2, d3, p3\n",
    "\n",
    "ps = q7()\n",
    "d1, p1, d2, p2, d3, p3 = q7()\n"
   ]
  },
  {
   "cell_type": "code",
   "execution_count": 144,
   "metadata": {},
   "outputs": [],
   "source": [
    "def fun_E(z, ps=ps):\n",
    "    d1, p1, d2, p2, d3, p3 = ps\n",
    "    return p1*fun_f(z, d1)+p2*fun_f(z, d2)+p3*fun_f(z, d3)"
   ]
  },
  {
   "cell_type": "code",
   "execution_count": 145,
   "metadata": {},
   "outputs": [
    {
     "output_type": "stream",
     "name": "stdout",
     "text": [
      "Optimization terminated successfully    (Exit mode 0)\n",
      "            Current function value: -318.6411120994077\n",
      "            Iterations: 70\n",
      "            Function evaluations: 655\n",
      "            Gradient evaluations: 70\n",
      "[   400.38159564     79.75330097     53.2354237    1614.0776104\n",
      " 107806.54858143    797.73267888   3722.48627591    677.90305827]\n",
      "<ipython-input-142-5c11035186b9>:12: RuntimeWarning: invalid value encountered in true_divide\n",
      "  return (q*np.exp(-alpha*q)+d*np.exp(-alpha*d))/(np.exp(-alpha*q)+np.exp(-alpha*d))\n"
     ]
    }
   ],
   "source": [
    "ineq_cons = { 'type' : 'ineq' , 'fun' : lambda x: - fun_c(x)}\n",
    "res = optimize . minimize(fun_E, x0, method= 'SLSQP' ,\n",
    "constraints= [ineq_cons], options={ 'disp' : True, 'maxiter': 10000})\n",
    "\n",
    "print(res.x)"
   ]
  },
  {
   "cell_type": "code",
   "execution_count": 146,
   "metadata": {},
   "outputs": [
    {
     "output_type": "stream",
     "name": "stdout",
     "text": [
      "[   406.69842673     77.13921035     54.28956029   1632.01247461\n 109202.9825197     779.98236557   3628.46401742    655.68329044]\n"
     ]
    }
   ],
   "source": [
    "\n",
    "opti = casadi.Opti();\n",
    "\n",
    "x = opti.variable(n)\n",
    "q = x[0:k]\n",
    "r = x[k:]\n",
    "cp = opti.parameter(n-k)\n",
    "vp = opti.parameter(k)\n",
    "dp = opti.parameter(3, k)\n",
    "pp = opti.parameter(k)\n",
    "ap = opti.parameter(n-k,k)\n",
    "\n",
    "f = 0\n",
    "for j in range(3):\n",
    "    f += pp[j]*(mtimes(transpose(cp), r) - mtimes(transpose(vp), fun_hp(q, transpose(dp[j,:]))))\n",
    "\n",
    "opti.minimize(f)\n",
    "opti.subject_to(mtimes(ap, q) - r <= 0)\n",
    "\n",
    "x0 = np.array([0.]*n)\n",
    "opti.set_initial(x,x0)\n",
    "# pour enlever le blabla, définir un dictionnaire d'option\n",
    "options = {'print_time':False, 'ipopt':{'print_level':0}}\n",
    "# options = dict(print_time=False, ipopt=dict(print_level=0))\n",
    "opti.solver('ipopt', options);\n",
    "\n",
    "\n",
    "opti.set_value(cp, c)\n",
    "opti.set_value(vp, v)\n",
    "opti.set_value(ap, A)\n",
    "opti.set_value(pp, [p1, p2, p3])\n",
    "opti.set_value(dp, np.array([d1, d2, d3]))\n",
    "\n",
    "sol = opti.solve();\n",
    "print(sol.value(x))"
   ]
  },
  {
   "source": [
    "Produit un peu plus pour couvrir la variabilité si plus de demande car proba plus de demande plus importante que demande plus faible ?\n",
    "\n",
    "Comparer aussi la valeur du profit en lui-même..."
   ],
   "cell_type": "markdown",
   "metadata": {}
  },
  {
   "source": [
    "### Question 8\n",
    "\n",
    "a. On suppose que $r$ et $d$ sont fixés. On a toujours le terme de revenus $v^T h(q,d)$. Le premier terme correspond à $(q-d)^T(q-d)$. $q-d$ est la différence entre ce qui est produit et ce qui est demandé. Cela correspond donc au coût induit par le gaspillage si $q>d$, ou le coût de la non-satisfaction de la demande si $d>q$d. On cherche donc bien à minimiser ce coût..."
   ],
   "cell_type": "markdown",
   "metadata": {}
  },
  {
   "source": [
    "b. "
   ],
   "cell_type": "markdown",
   "metadata": {}
  },
  {
   "cell_type": "code",
   "execution_count": null,
   "metadata": {},
   "outputs": [],
   "source": []
  },
  {
   "cell_type": "code",
   "execution_count": 147,
   "metadata": {},
   "outputs": [
    {
     "output_type": "stream",
     "name": "stdout",
     "text": [
      "Optimization terminated successfully    (Exit mode 0)\n",
      "            Current function value: -318.6411120994077\n",
      "            Iterations: 70\n",
      "            Function evaluations: 655\n",
      "            Gradient evaluations: 70\n",
      "Optimization terminated successfully    (Exit mode 0)\n",
      "            Current function value: -407.47293975278717\n",
      "            Iterations: 11\n",
      "            Function evaluations: 45\n",
      "            Gradient evaluations: 11\n",
      "[300.16239472  60.22881052  43.1868201 ]\n",
      "<ipython-input-142-5c11035186b9>:12: RuntimeWarning: invalid value encountered in true_divide\n",
      "  return (q*np.exp(-alpha*q)+d*np.exp(-alpha*d))/(np.exp(-alpha*q)+np.exp(-alpha*d))\n"
     ]
    }
   ],
   "source": [
    "ineq_cons = { 'type' : 'ineq' , 'fun' : lambda x: - fun_c(x)}\n",
    "res = optimize . minimize(fun_E, x0, method= 'SLSQP' ,\n",
    "constraints= [ineq_cons], options={ 'disp' : True, 'maxiter': 10000})\n",
    "\n",
    "y = res.x\n",
    "rsave = y[len(d):]\n",
    "#print(y)\n",
    "r = y[len(d):]\n",
    "#print(r)\n",
    "\n",
    "def fun_g(q, d=ps[4], v=v):\n",
    "    return (q-d).T @ (q-d) - v.T @ fun_h(q, d) # attention norme au carré\n",
    "\n",
    "def fun_cb(q, r=r, d=ps[4]):\n",
    "    return fun_c(np.hstack((q, r)))\n",
    "\n",
    "y0 = np.zeros(len(d))\n",
    "#print(y0)\n",
    "\n",
    "ineq_cons = { 'type' : 'ineq' , 'fun' : lambda x: - fun_cb(x)}\n",
    "res = optimize . minimize(fun_g, y0, method= 'SLSQP' ,\n",
    "constraints= [ineq_cons], options={ 'disp' : True, 'maxiter': 10000})\n",
    "print(res.x)\n",
    "\n",
    "\n"
   ]
  },
  {
   "cell_type": "code",
   "execution_count": 148,
   "metadata": {},
   "outputs": [
    {
     "output_type": "stream",
     "name": "stdout",
     "text": [
      "[300.22004929  60.36144863  43.26764076]\n"
     ]
    }
   ],
   "source": [
    "\n",
    "opti = casadi.Opti();\n",
    "\n",
    "q = opti.variable(k)\n",
    "cp = opti.parameter(n-k)\n",
    "vp = opti.parameter(k)\n",
    "dp = opti.parameter(k)\n",
    "ap = opti.parameter(n-k,k)\n",
    "rp = opti.parameter(n-k)\n",
    "\n",
    "f = mtimes(transpose(q-dp), q-dp) - mtimes(transpose(vp), fun_hp(q, dp))\n",
    "opti.minimize(f)\n",
    "opti.subject_to(mtimes(ap, q) - rp <= 0)\n",
    "\n",
    "x0 = np.array([0.]*k)\n",
    "opti.set_initial(q,x0)\n",
    "# pour enlever le blabla, définir un dictionnaire d'option\n",
    "options = {'print_time':False, 'ipopt':{'print_level':0}}\n",
    "# options = dict(print_time=False, ipopt=dict(print_level=0))\n",
    "opti.solver('ipopt', options);\n",
    "\n",
    "\n",
    "opti.set_value(cp, c)\n",
    "opti.set_value(vp, v)\n",
    "opti.set_value(dp, ps[4])\n",
    "opti.set_value(ap, A)\n",
    "opti.set_value(rp, r)\n",
    "\n",
    "sol = opti.solve();\n",
    "print(sol.value(q))"
   ]
  },
  {
   "source": [
    "Moins de gaspillage ? Adapté Très proche de la demande $d^3$\n",
    "\n",
    "\n",
    "Comparer aussi la valeur du profit en lui-même..."
   ],
   "cell_type": "markdown",
   "metadata": {}
  },
  {
   "source": [
    "## 3. Etude du problème non-régularisé\n",
    "\n",
    "### Question 9\n",
    "\n",
    "Méthode de gradient proximale (optimisation non-différentiable ?) (cf Traitement du Signal ?)"
   ],
   "cell_type": "markdown",
   "metadata": {}
  },
  {
   "source": [
    "### Question 10"
   ],
   "cell_type": "markdown",
   "metadata": {}
  },
  {
   "cell_type": "code",
   "execution_count": 25,
   "metadata": {},
   "outputs": [
    {
     "output_type": "stream",
     "name": "stdout",
     "text": [
      "[1. 2. 3.]\n-7.0312\n"
     ]
    }
   ],
   "source": [
    "def fun_hb(q, d, alpha=alpha):\n",
    "    return np.minimum(q,d)\n",
    "\n",
    "print(fun_hb(np.array([1.,2.,3.]), d))\n",
    "\n",
    "def fun_fb(z, d=d, A=A, c=c, v=v, alpha=alpha):\n",
    "    q = z[:len(d)]\n",
    "    r = z[len(d):]\n",
    "    return c.T @ r - v.T @ fun_hb(q, d, alpha)\n",
    "\n",
    "def fun_cb(z, A=A):\n",
    "    q = z[:len(d)]\n",
    "    r = z[len(d):]\n",
    "    return np.hstack((A @ q - r,-q))\n",
    "\n",
    "ztest = np.array([1.,2.,3.,4.,5.,6.,7.,8.])\n",
    "print(fun_fb(ztest))"
   ]
  },
  {
   "cell_type": "code",
   "execution_count": 26,
   "metadata": {},
   "outputs": [
    {
     "output_type": "error",
     "ename": "ValueError",
     "evalue": "operands could not be broadcast together with shapes (5,) (0,) ",
     "traceback": [
      "\u001b[1;31m---------------------------------------------------------------------------\u001b[0m",
      "\u001b[1;31mValueError\u001b[0m                                Traceback (most recent call last)",
      "\u001b[1;32m<ipython-input-26-81c235a866ef>\u001b[0m in \u001b[0;36m<module>\u001b[1;34m\u001b[0m\n\u001b[0;32m      1\u001b[0m \u001b[0mineq_cons\u001b[0m \u001b[1;33m=\u001b[0m \u001b[1;33m{\u001b[0m \u001b[1;34m'type'\u001b[0m \u001b[1;33m:\u001b[0m \u001b[1;34m'ineq'\u001b[0m \u001b[1;33m,\u001b[0m \u001b[1;34m'fun'\u001b[0m \u001b[1;33m:\u001b[0m \u001b[1;32mlambda\u001b[0m \u001b[0mx\u001b[0m\u001b[1;33m:\u001b[0m \u001b[1;33m-\u001b[0m \u001b[0mfun_cb\u001b[0m\u001b[1;33m(\u001b[0m\u001b[0mx\u001b[0m\u001b[1;33m)\u001b[0m\u001b[1;33m}\u001b[0m\u001b[1;33m\u001b[0m\u001b[1;33m\u001b[0m\u001b[0m\n\u001b[1;32m----> 2\u001b[1;33m res = optimize . minimize(fun_fb, x0, method= 'SLSQP' ,\n\u001b[0m\u001b[0;32m      3\u001b[0m constraints= [ineq_cons], options={ 'disp' : True, 'maxiter': 10000})\n\u001b[0;32m      4\u001b[0m \u001b[0mprint\u001b[0m\u001b[1;33m(\u001b[0m\u001b[0mres\u001b[0m\u001b[1;33m.\u001b[0m\u001b[0mx\u001b[0m\u001b[1;33m)\u001b[0m\u001b[1;33m\u001b[0m\u001b[1;33m\u001b[0m\u001b[0m\n\u001b[0;32m      5\u001b[0m \u001b[1;33m\u001b[0m\u001b[0m\n",
      "\u001b[1;32m~\\.conda\\envs\\Flo\\lib\\site-packages\\scipy\\optimize\\_minimize.py\u001b[0m in \u001b[0;36mminimize\u001b[1;34m(fun, x0, args, method, jac, hess, hessp, bounds, constraints, tol, callback, options)\u001b[0m\n\u001b[0;32m    623\u001b[0m         \u001b[1;32mreturn\u001b[0m \u001b[0m_minimize_cobyla\u001b[0m\u001b[1;33m(\u001b[0m\u001b[0mfun\u001b[0m\u001b[1;33m,\u001b[0m \u001b[0mx0\u001b[0m\u001b[1;33m,\u001b[0m \u001b[0margs\u001b[0m\u001b[1;33m,\u001b[0m \u001b[0mconstraints\u001b[0m\u001b[1;33m,\u001b[0m \u001b[1;33m**\u001b[0m\u001b[0moptions\u001b[0m\u001b[1;33m)\u001b[0m\u001b[1;33m\u001b[0m\u001b[1;33m\u001b[0m\u001b[0m\n\u001b[0;32m    624\u001b[0m     \u001b[1;32melif\u001b[0m \u001b[0mmeth\u001b[0m \u001b[1;33m==\u001b[0m \u001b[1;34m'slsqp'\u001b[0m\u001b[1;33m:\u001b[0m\u001b[1;33m\u001b[0m\u001b[1;33m\u001b[0m\u001b[0m\n\u001b[1;32m--> 625\u001b[1;33m         return _minimize_slsqp(fun, x0, args, jac, bounds,\n\u001b[0m\u001b[0;32m    626\u001b[0m                                constraints, callback=callback, **options)\n\u001b[0;32m    627\u001b[0m     \u001b[1;32melif\u001b[0m \u001b[0mmeth\u001b[0m \u001b[1;33m==\u001b[0m \u001b[1;34m'trust-constr'\u001b[0m\u001b[1;33m:\u001b[0m\u001b[1;33m\u001b[0m\u001b[1;33m\u001b[0m\u001b[0m\n",
      "\u001b[1;32m~\\.conda\\envs\\Flo\\lib\\site-packages\\scipy\\optimize\\slsqp.py\u001b[0m in \u001b[0;36m_minimize_slsqp\u001b[1;34m(func, x0, args, jac, bounds, constraints, maxiter, ftol, iprint, disp, eps, callback, finite_diff_rel_step, **unknown_options)\u001b[0m\n\u001b[0;32m    322\u001b[0m     meq = sum(map(len, [atleast_1d(c['fun'](x, *c['args']))\n\u001b[0;32m    323\u001b[0m               for c in cons['eq']]))\n\u001b[1;32m--> 324\u001b[1;33m     mieq = sum(map(len, [atleast_1d(c['fun'](x, *c['args']))\n\u001b[0m\u001b[0;32m    325\u001b[0m                for c in cons['ineq']]))\n\u001b[0;32m    326\u001b[0m     \u001b[1;31m# m = The total number of constraints\u001b[0m\u001b[1;33m\u001b[0m\u001b[1;33m\u001b[0m\u001b[1;33m\u001b[0m\u001b[0m\n",
      "\u001b[1;32m~\\.conda\\envs\\Flo\\lib\\site-packages\\scipy\\optimize\\slsqp.py\u001b[0m in \u001b[0;36m<listcomp>\u001b[1;34m(.0)\u001b[0m\n\u001b[0;32m    322\u001b[0m     meq = sum(map(len, [atleast_1d(c['fun'](x, *c['args']))\n\u001b[0;32m    323\u001b[0m               for c in cons['eq']]))\n\u001b[1;32m--> 324\u001b[1;33m     mieq = sum(map(len, [atleast_1d(c['fun'](x, *c['args']))\n\u001b[0m\u001b[0;32m    325\u001b[0m                for c in cons['ineq']]))\n\u001b[0;32m    326\u001b[0m     \u001b[1;31m# m = The total number of constraints\u001b[0m\u001b[1;33m\u001b[0m\u001b[1;33m\u001b[0m\u001b[1;33m\u001b[0m\u001b[0m\n",
      "\u001b[1;32m<ipython-input-26-81c235a866ef>\u001b[0m in \u001b[0;36m<lambda>\u001b[1;34m(x)\u001b[0m\n\u001b[1;32m----> 1\u001b[1;33m \u001b[0mineq_cons\u001b[0m \u001b[1;33m=\u001b[0m \u001b[1;33m{\u001b[0m \u001b[1;34m'type'\u001b[0m \u001b[1;33m:\u001b[0m \u001b[1;34m'ineq'\u001b[0m \u001b[1;33m,\u001b[0m \u001b[1;34m'fun'\u001b[0m \u001b[1;33m:\u001b[0m \u001b[1;32mlambda\u001b[0m \u001b[0mx\u001b[0m\u001b[1;33m:\u001b[0m \u001b[1;33m-\u001b[0m \u001b[0mfun_cb\u001b[0m\u001b[1;33m(\u001b[0m\u001b[0mx\u001b[0m\u001b[1;33m)\u001b[0m\u001b[1;33m}\u001b[0m\u001b[1;33m\u001b[0m\u001b[1;33m\u001b[0m\u001b[0m\n\u001b[0m\u001b[0;32m      2\u001b[0m res = optimize . minimize(fun_fb, x0, method= 'SLSQP' ,\n\u001b[0;32m      3\u001b[0m constraints= [ineq_cons], options={ 'disp' : True, 'maxiter': 10000})\n\u001b[0;32m      4\u001b[0m \u001b[0mprint\u001b[0m\u001b[1;33m(\u001b[0m\u001b[0mres\u001b[0m\u001b[1;33m.\u001b[0m\u001b[0mx\u001b[0m\u001b[1;33m)\u001b[0m\u001b[1;33m\u001b[0m\u001b[1;33m\u001b[0m\u001b[0m\n\u001b[0;32m      5\u001b[0m \u001b[1;33m\u001b[0m\u001b[0m\n",
      "\u001b[1;32m<ipython-input-25-4b63770865f4>\u001b[0m in \u001b[0;36mfun_cb\u001b[1;34m(z, A)\u001b[0m\n\u001b[0;32m     12\u001b[0m     \u001b[0mq\u001b[0m \u001b[1;33m=\u001b[0m \u001b[0mz\u001b[0m\u001b[1;33m[\u001b[0m\u001b[1;33m:\u001b[0m\u001b[0mlen\u001b[0m\u001b[1;33m(\u001b[0m\u001b[0md\u001b[0m\u001b[1;33m)\u001b[0m\u001b[1;33m]\u001b[0m\u001b[1;33m\u001b[0m\u001b[1;33m\u001b[0m\u001b[0m\n\u001b[0;32m     13\u001b[0m     \u001b[0mr\u001b[0m \u001b[1;33m=\u001b[0m \u001b[0mz\u001b[0m\u001b[1;33m[\u001b[0m\u001b[0mlen\u001b[0m\u001b[1;33m(\u001b[0m\u001b[0md\u001b[0m\u001b[1;33m)\u001b[0m\u001b[1;33m:\u001b[0m\u001b[1;33m]\u001b[0m\u001b[1;33m\u001b[0m\u001b[1;33m\u001b[0m\u001b[0m\n\u001b[1;32m---> 14\u001b[1;33m     \u001b[1;32mreturn\u001b[0m \u001b[0mnp\u001b[0m\u001b[1;33m.\u001b[0m\u001b[0mhstack\u001b[0m\u001b[1;33m(\u001b[0m\u001b[1;33m(\u001b[0m\u001b[0mA\u001b[0m \u001b[1;33m@\u001b[0m \u001b[0mq\u001b[0m \u001b[1;33m-\u001b[0m \u001b[0mr\u001b[0m\u001b[1;33m,\u001b[0m\u001b[1;33m-\u001b[0m\u001b[0mq\u001b[0m\u001b[1;33m)\u001b[0m\u001b[1;33m)\u001b[0m\u001b[1;33m\u001b[0m\u001b[1;33m\u001b[0m\u001b[0m\n\u001b[0m\u001b[0;32m     15\u001b[0m \u001b[1;33m\u001b[0m\u001b[0m\n\u001b[0;32m     16\u001b[0m \u001b[0mztest\u001b[0m \u001b[1;33m=\u001b[0m \u001b[0mnp\u001b[0m\u001b[1;33m.\u001b[0m\u001b[0marray\u001b[0m\u001b[1;33m(\u001b[0m\u001b[1;33m[\u001b[0m\u001b[1;36m1.\u001b[0m\u001b[1;33m,\u001b[0m\u001b[1;36m2.\u001b[0m\u001b[1;33m,\u001b[0m\u001b[1;36m3.\u001b[0m\u001b[1;33m,\u001b[0m\u001b[1;36m4.\u001b[0m\u001b[1;33m,\u001b[0m\u001b[1;36m5.\u001b[0m\u001b[1;33m,\u001b[0m\u001b[1;36m6.\u001b[0m\u001b[1;33m,\u001b[0m\u001b[1;36m7.\u001b[0m\u001b[1;33m,\u001b[0m\u001b[1;36m8.\u001b[0m\u001b[1;33m]\u001b[0m\u001b[1;33m)\u001b[0m\u001b[1;33m\u001b[0m\u001b[1;33m\u001b[0m\u001b[0m\n",
      "\u001b[1;31mValueError\u001b[0m: operands could not be broadcast together with shapes (5,) (0,) "
     ]
    }
   ],
   "source": [
    "ineq_cons = { 'type' : 'ineq' , 'fun' : lambda x: - fun_cb(x)}\n",
    "res = optimize . minimize(fun_fb, x0, method= 'SLSQP' ,\n",
    "constraints= [ineq_cons], options={ 'disp' : True, 'maxiter': 10000})\n",
    "print(res.x)\n",
    "\n",
    "# résultat fantasiste : méthode de scipy pas adaptée au problème ? profit positif car opposé du résultat...\n",
    "# SLSQP pourtant OK pour non linéaire ? problème gradient ?\n",
    "# problème alpha ?\n",
    "\n",
    "# pas possible production négative ?? rajout d'une contrainte : fun_cb"
   ]
  },
  {
   "source": [
    "Résultat assez différents (quantifier ?) : normal ou non ?"
   ],
   "cell_type": "markdown",
   "metadata": {}
  },
  {
   "cell_type": "code",
   "execution_count": null,
   "metadata": {},
   "outputs": [],
   "source": []
  },
  {
   "cell_type": "code",
   "execution_count": 60,
   "metadata": {},
   "outputs": [
    {
     "output_type": "stream",
     "name": "stdout",
     "text": [
      "8\n"
     ]
    }
   ],
   "source": [
    "\n",
    "def q6():\n",
    "    alpha = 0.1\n",
    "    c = 1e-3*np.array([30.,1.,1.3,4., 1.])\n",
    "    v = np.array([0.9, 1.5, 1.1])\n",
    "    d = np.array([400., 67., 33.])\n",
    "    A = np.array([[3.5,2.,1.],[250.,80., 25.],[0., 8., 3.],[0., 40., 10.], [0., 8.5, 0.]])\n",
    "    n = len(c)+len(d)\n",
    "    return n, alpha, c, v, d, A\n",
    "\n",
    "n, alpha, c, v, d, A = q6()\n",
    "x0 = np.zeros(n)\n",
    "print(n)"
   ]
  },
  {
   "cell_type": "code",
   "execution_count": 133,
   "metadata": {},
   "outputs": [
    {
     "output_type": "stream",
     "name": "stdout",
     "text": [
      "[   400.             67.00000002     33.00000002   1567.00033459\n 106185.01003891    635.00771989   3010.00250994    569.51003579]\n"
     ]
    }
   ],
   "source": [
    "k = len(d)\n",
    "\n",
    "opti = casadi.Opti();\n",
    "\n",
    "x = opti.variable(n)\n",
    "q = x[0:k]\n",
    "r = x[k:]\n",
    "cp = opti.parameter(n-k)\n",
    "vp = opti.parameter(k)\n",
    "dp = opti.parameter(k)\n",
    "ap = opti.parameter(n-k,k)\n",
    "\n",
    "# contrainte, q & r positives\n",
    "\n",
    "f = mtimes(transpose(cp), r) - mtimes(transpose(vp), fmin(q,d)) + 1e7*casadi.dot(q-d, q-d)# normaliser le problème ou adapter les paramètres 0.00002067, connaitre ordre de grandeur de q - d(casadi.dot(q-d, q-d)+casadi.dot(r, r))\n",
    "opti.minimize(f)\n",
    "opti.subject_to(mtimes(ap, q) - r <= 0)\n",
    "opti.subject_to( - r <= 0)\n",
    "opti.subject_to( - q <= 0)\n",
    "\n",
    "x0 = np.array([0.]*n)\n",
    "opti.set_initial(x,x0)\n",
    "# pour enlever le blabla, définir un dictionnaire d'option\n",
    "options = {'print_time':False, 'ipopt':{'print_level':0}}\n",
    "# options = dict(print_time=False, ipopt=dict(print_level=0))\n",
    "opti.solver('ipopt', options);\n",
    "\n",
    "\n",
    "opti.set_value(cp, c)\n",
    "opti.set_value(vp, v)\n",
    "opti.set_value(dp, d)\n",
    "opti.set_value(ap, A)\n",
    "\n",
    "try:\n",
    "    sol = opti.solve();\n",
    "    print(sol.value(x))\n",
    "except:\n",
    "    print(\"erreur\")\n",
    "    print(opti.debug.value)"
   ]
  },
  {
   "source": [
    "min de l'espérance q7 attention\n",
    "3 lignes  problème bien posé\n",
    "\n",
    "min (q,d) \n",
    "probabilité\n",
    "\n"
   ],
   "cell_type": "markdown",
   "metadata": {}
  },
  {
   "cell_type": "code",
   "execution_count": 121,
   "metadata": {},
   "outputs": [
    {
     "output_type": "error",
     "ename": "SyntaxError",
     "evalue": "invalid syntax (<ipython-input-121-633ea57a3fc7>, line 1)",
     "traceback": [
      "\u001b[1;36m  File \u001b[1;32m\"<ipython-input-121-633ea57a3fc7>\"\u001b[1;36m, line \u001b[1;32m1\u001b[0m\n\u001b[1;33m    convexe, non convexe, contraintes ou non, pas besoin d'être exhaustif\u001b[0m\n\u001b[1;37m                 ^\u001b[0m\n\u001b[1;31mSyntaxError\u001b[0m\u001b[1;31m:\u001b[0m invalid syntax\n"
     ]
    }
   ],
   "source": [
    "convexe, non convexe, contraintes ou non, pas besoin d'être exhaustif\n",
    "tp4 utile pour le miniprojet"
   ]
  },
  {
   "cell_type": "code",
   "execution_count": 122,
   "metadata": {},
   "outputs": [
    {
     "output_type": "error",
     "ename": "SyntaxError",
     "evalue": "invalid syntax (<ipython-input-122-f52f0e37b0f9>, line 1)",
     "traceback": [
      "\u001b[1;36m  File \u001b[1;32m\"<ipython-input-122-f52f0e37b0f9>\"\u001b[1;36m, line \u001b[1;32m1\u001b[0m\n\u001b[1;33m    écrire le problème non différentielle\u001b[0m\n\u001b[1;37m           ^\u001b[0m\n\u001b[1;31mSyntaxError\u001b[0m\u001b[1;31m:\u001b[0m invalid syntax\n"
     ]
    }
   ],
   "source": [
    "écrire le problème non différentielle\n",
    "transformation du problème : rajouter des contraintes qui reproduise le problème là\n",
    "\n",
    "problème équivalent : variable équivalent, toutes les variables est dériables\n",
    "\n",
    "problème linéaire sauf le min\n",
    "méthode basée dérivée\n",
    "\n",
    "que pas contrainte solution car linéaire\n",
    "\n",
    "gradient toujours le même\n",
    "\n",
    "conditions de KKT\n",
    "\n",
    "méthode basée sur la dérivée\n",
    "méthode de gradient\n",
    "\n",
    "régulariser : alpha q^2\n",
    "\n",
    "toutes acceptables\n",
    "\n",
    "imagination,\n",
    "toutes les méthodes basées sur la dérivée vont échouée\n",
    "\n",
    "\n",
    "sans le min: résoudre chaque problème\n"
   ]
  },
  {
   "source": [
    "Discussion avec le prof:\n",
    "utiliser np.dot(q, q) pour norme de q au carré\n",
    "mtimes vérifier pas pour mult element par element\n",
    "\n",
    "q7 : min(q, r) de E_d(v^t*h()-...)\n",
    "écrire ainsi\n",
    "\n",
    "2 solutions pour q10 : gradient proximal (sous différentiel) : normaliser en rajoutant + alpha * np.dot(q, q) + alpha * np.dot(r,r) et faire tendre alpha vers 0... voir si cela se passe bien\n",
    "\n",
    "OU décomposer avec contrainte\n",
    "production = q + s avec s = slack (vendu à coût nul si production supérieur à la demande) et q vendu à coût non nul\n",
    "contrainte  q <= d \n",
    "et pour que s soit nul si q <= d, contrainte de complémentarité s(q-d)=0\n",
    "et enlever le min, à faire avec casadi\n",
    "\n",
    "enfin, chercher un résultat entier (contrainte en plus pour casadi)\n",
    "ou écrire que x = sum(n_i y_i) avec n_i = 1, 2, ... et y_i dans [0, 1] avec contrainte sum(y_i) <= 1 ???"
   ],
   "cell_type": "markdown",
   "metadata": {}
  },
  {
   "cell_type": "code",
   "execution_count": 134,
   "metadata": {},
   "outputs": [
    {
     "output_type": "stream",
     "name": "stdout",
     "text": [
      "8\n[   400.00000001     67.00000001     33.00000001     -0.\n     -0.             -0.           1567.00000012 106185.00000466\n    635.000002     3010.00000101    569.50000256]\n"
     ]
    }
   ],
   "source": [
    "\n",
    "def q6():\n",
    "    alpha = 0.1\n",
    "    c = 1e-3*np.array([30.,1.,1.3,4., 1.]) # seuil 3.2\n",
    "    v = np.array([0.9, 1.5, 1.1])\n",
    "    d = np.array([400., 67., 33.])\n",
    "    A = np.array([[3.5,2.,1.],[250.,80., 25.],[0., 8., 3.],[0., 40., 10.], [0., 8.5, 0.]])\n",
    "    n = len(c)+len(d)\n",
    "    return n, alpha, c, v, d, A\n",
    "\n",
    "n, alpha, c, v, d, A = q6()\n",
    "x0 = np.zeros(n)\n",
    "print(n)\n",
    "\n",
    "k = len(d)\n",
    "\n",
    "opti = casadi.Opti();\n",
    "\n",
    "x = opti.variable(n+k)\n",
    "q = x[0:k]\n",
    "s = x[k:2*k]\n",
    "r = x[2*k:]\n",
    "cp = opti.parameter(n-k)\n",
    "vp = opti.parameter(k)\n",
    "dp = opti.parameter(k)\n",
    "ap = opti.parameter(n-k,k)\n",
    "\n",
    "\n",
    "# au carré ?\n",
    "\n",
    "# contrainte, q & r positives\n",
    "\n",
    "f = mtimes(transpose(cp), r) - mtimes(transpose(vp), q)\n",
    "opti.minimize(f)\n",
    "opti.subject_to(mtimes(ap, q + s) - r <= 0)\n",
    "opti.subject_to( - r <= 0)\n",
    "opti.subject_to( - q <= 0)\n",
    "opti.subject_to( - q <= 0)\n",
    "#opti.subject_to( - s <= 0)\n",
    "#opti.subject_to(casadi.ceil(q)==q)\n",
    "opti.subject_to( q - d <= 0)\n",
    "opti.subject_to( s*(q - d) == 0)\n",
    "\n",
    "x0 = np.array([0.]*(n+k))\n",
    "opti.set_initial(x,x0)\n",
    "# pour enlever le blabla, définir un dictionnaire d'option\n",
    "options = {'print_time':False, 'ipopt':{'print_level':0}} #discrete = Ture\n",
    "#https://www.google.com/search?q=ipopt+discrete+variable&rlz=1C1CHBF_frFR904FR904&oq=ipopt+discrete+variable&aqs=chrome..69i57.3663j0j7&sourceid=chrome&ie=UTF-8\n",
    "# options = dict(print_time=False, ipopt=dict(print_level=0))\n",
    "opti.solver('ipopt', options);\n",
    "\n",
    "\n",
    "opti.set_value(cp, c)\n",
    "opti.set_value(vp, v)\n",
    "opti.set_value(dp, d)\n",
    "opti.set_value(ap, A)\n",
    "\n",
    "try:\n",
    "    sol = opti.solve();\n",
    "    print(sol.value(x))\n",
    "except:\n",
    "    print(\"erreur\")\n",
    "    print(opti.debug.value)"
   ]
  },
  {
   "cell_type": "code",
   "execution_count": null,
   "metadata": {},
   "outputs": [],
   "source": [
    "Pas besoin d'entiers car variations lentes, pas de variations entre parties entières."
   ]
  },
  {
   "cell_type": "code",
   "execution_count": null,
   "metadata": {},
   "outputs": [],
   "source": [
    "A = np.array([])\n",
    "A= casadi.MX(A)\n",
    "eA = casadi.exp(A)"
   ]
  },
  {
   "cell_type": "code",
   "execution_count": 163,
   "metadata": {},
   "outputs": [
    {
     "output_type": "stream",
     "name": "stdout",
     "text": [
      "8\n[300.00000001  60.00000001  43.00000001  -0.          -0.\n   0.        ]\n-234.46622248953173\n"
     ]
    }
   ],
   "source": [
    "\n",
    "def q6():\n",
    "    alpha = 0.1\n",
    "    c = 1e-3*np.array([30.,1.,1.3,4., 1.]) # seuil 3.2\n",
    "    v = np.array([0.9, 1.5, 1.1])\n",
    "    d = np.array([400., 67., 33.])\n",
    "    A = np.array([[3.5,2.,1.],[250.,80., 25.],[0., 8., 3.],[0., 40., 10.], [0., 8.5, 0.]])\n",
    "    n = len(c)+len(d)\n",
    "    return n, alpha, c, v, d, A\n",
    "\n",
    "n, alpha, c, v, d, A = q6()\n",
    "x0 = np.zeros(n)\n",
    "print(n)\n",
    "\n",
    "k = len(d)\n",
    "\n",
    "opti = casadi.Opti();\n",
    "\n",
    "x = opti.variable(2*k)\n",
    "q = x[0:k]\n",
    "s = x[k:2*k]\n",
    "r = opti.parameter(n-k)\n",
    "cp = opti.parameter(n-k)\n",
    "vp = opti.parameter(k)\n",
    "dp = opti.parameter(k)\n",
    "ap = opti.parameter(n-k,k)\n",
    "\n",
    "\n",
    "# au carré ?\n",
    "\n",
    "# contrainte, q & r positives\n",
    "\n",
    "f = mtimes(transpose(cp), r) - mtimes(transpose(vp), q)\n",
    "opti.minimize(f)\n",
    "opti.subject_to(mtimes(ap, q + s) - r <= 0)\n",
    "opti.subject_to( - q <= 0)\n",
    "#opti.subject_to( - s <= 0)\n",
    "#opti.subject_to(casadi.ceil(q)==q)\n",
    "opti.subject_to( q - dp <= 0)\n",
    "opti.subject_to( s*(q - dp) == 0)\n",
    "\n",
    "x0 = np.array([0.]*(2*k))\n",
    "opti.set_initial(x,x0)\n",
    "# pour enlever le blabla, définir un dictionnaire d'option\n",
    "options = {'print_time':False, 'ipopt':{'print_level':0}} #discrete = Ture\n",
    "#https://www.google.com/search?q=ipopt+discrete+variable&rlz=1C1CHBF_frFR904FR904&oq=ipopt+discrete+variable&aqs=chrome..69i57.3663j0j7&sourceid=chrome&ie=UTF-8\n",
    "# options = dict(print_time=False, ipopt=dict(print_level=0))\n",
    "opti.solver('ipopt', options);\n",
    "\n",
    "\n",
    "opti.set_value(cp, c)\n",
    "opti.set_value(vp, v)\n",
    "opti.set_value(r, rsave)\n",
    "opti.set_value(dp, ps[4])\n",
    "opti.set_value(ap, A)\n",
    "\n",
    "try:\n",
    "    sol = opti.solve();\n",
    "    print(sol.value(x))\n",
    "    print(sol.value(f))\n",
    "except:\n",
    "    print(\"erreur\")\n",
    "    print(opti.debug.value)"
   ]
  },
  {
   "cell_type": "code",
   "execution_count": null,
   "metadata": {},
   "outputs": [],
   "source": [
    "# normaliser "
   ]
  },
  {
   "cell_type": "code",
   "execution_count": null,
   "metadata": {},
   "outputs": [],
   "source": []
  }
 ]
}