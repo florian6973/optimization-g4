{
 "metadata": {
  "language_info": {
   "codemirror_mode": {
    "name": "ipython",
    "version": 3
   },
   "file_extension": ".py",
   "mimetype": "text/x-python",
   "name": "python",
   "nbconvert_exporter": "python",
   "pygments_lexer": "ipython3",
   "version": "3.8.5"
  },
  "orig_nbformat": 2,
  "kernelspec": {
   "name": "python3",
   "display_name": "Python 3.8.5 64-bit ('Flo': conda)",
   "metadata": {
    "interpreter": {
     "hash": "85c75fd14e5076fbcb18764378155d0efe7f43fc87250a2b11ec2cf5a4ffd7c5"
    }
   }
  }
 },
 "nbformat": 4,
 "nbformat_minor": 2,
 "cells": [
  {
   "source": [
    "## Notes\n",
    "\n",
    "Diminuer le pas, va marcher mais trop long\n",
    "gradient amorti, gradient à pas optimal\n",
    "\n",
    "c1 = 10^-4, c2 = 0.9\n",
    "\n",
    "Style de rendu ?\n",
    "\n",
    "Questions\n",
    "- q6 manque une composante vecteur c, alpha non négligeable ?\n",
    "- q7 max coût ou profit ?\n",
    "- q8 norme non différentiable en 0 ?\n",
    "- calculer gradient à la main ou autograd ? besoin pour scipy ? problème décompose vecteur z...\n",
    "- deux algorithmes à trouver... : newton avec pénalisation (mais pas dans le cours ?) et gradient proximal ?\n",
    "- vérifier avec scipy (ou à utiliser ?), quel choix de méthode ? calcul gradient des fonctions & des coûts ?\n",
    "- scipy à la fin : production négative : rajouter des contraintes\n",
    "- résultat pas entier : moitié de croissant ? où arrondir ?\n",
    "- résultat différent : mauvaise valeur de alpha... ? à quoi s'attendre ?\n",
    "- grande variabilité selon la valeur de alpha ? bizarre première méthode... ou problème scipy slsqp sans gradient spécifié (important) ?\n"
   ],
   "cell_type": "markdown",
   "metadata": {}
  },
  {
   "cell_type": "code",
   "execution_count": 101,
   "metadata": {},
   "outputs": [],
   "source": [
    "import numpy as np\n",
    "from scipy import optimize\n",
    "import casadi\n",
    "from casadi import SX, mtimes, transpose, exp, sum1, fmin, MX\n",
    "np.set_printoptions(suppress=True)"
   ]
  },
  {
   "source": [
    "## 1. Etude du problème d'optimisation\n",
    "\n",
    "### Question 1\n",
    "\n",
    "Le coût (2) correspond au profit de la boulangerie :\n",
    "\n",
    "- $c^T r$ est le coût d'achat des matières premières\n",
    "- $v^T q$ est le montant rapporté par la vente d'une quantité de produits $q$ (tout ce qui a été produit)\n",
    "- $v^T d$ est le montant rapporté par la vente d'une quantité de produits $d$ (tout ce qui a été demandé)\n",
    "\n",
    "Ainsi, le terme $\\min\\{q,d\\}$ correspond à la quantité minimum entre ce qui a été produit ou demandé. En effet, le facteur limitant des gains dépend si la demande est supérieure à la production ou si la production est supérieure à la demande (dans le cas d'économies d'échelle par exemple, cela peut être rentable).\n"
   ],
   "cell_type": "markdown",
   "metadata": {}
  },
  {
   "source": [
    "### Question 2\n",
    "\n",
    "Ce terme avec un $\\min$ n'est pas un opérateur linéaire, il n'est donc peut-être pas différentiable et ne permet pas d'appliquer les méthodes du cours les plus efficaces."
   ],
   "cell_type": "markdown",
   "metadata": {}
  },
  {
   "source": [
    "### Question 3\n",
    "\n",
    "Cette formule fait penser à la statistique de Maxwell-Boltzmann.\n",
    "\n",
    "Soit $i \\in [|1, p|]$.\n",
    "\n",
    "Cas 1 : $q_i > d_i$. Montrons que $h_i \\approx d_i$.\n",
    "\n",
    "$\\exp(-\\alpha q_i) << \\exp(-\\alpha d_i)$ et $q_i \\exp(-\\alpha q_i)$ est toujours petit devant $d_i \\exp(-\\alpha d_i)$ car $\\alpha >> 1$, ce qui permet de simplifier et d'obtenir le résultat.\n",
    "\n",
    "Cas 2 : $q_i < d_i$. On procède de manière similaire par symétrie\n",
    "\n",
    "On a donc maintenant une fonction convexe différentiable ce qui permet de se placer dans un cadre où l'on dispose plus de résultats."
   ],
   "cell_type": "markdown",
   "metadata": {}
  },
  {
   "source": [
    "### Question 4\n",
    "\n",
    "On suppose que $d$ est fixé. On pose :\n",
    "\n",
    "- $z = (q, r)$ (de taille $n=p + m$)\n",
    "- $f(z) = f(q, r) = c^T r - v^T h(q, d)$, à valeurs dans $\\mathbb{R}$\n",
    "- $c(z) = c(q, r) = A q - r$ ($m$ contraintes)"
   ],
   "cell_type": "markdown",
   "metadata": {}
  },
  {
   "source": [
    "## 2. Etude et résolution numérique\n",
    "\n",
    "### Question 5\n",
    "\n",
    "Puisque la fonction $f$ est deux-fois différentiable, on peut utiliser la méthode la plus efficace pour l'optimisation différentiable, c'est-à-dire la méthode de Newton. Toutefois, il faut prendre en compte les contraintes inégalités. On peut donc penser à une optimisation avec pénalités.\n",
    "\n",
    "Une autre approche serait les algorithmes d'optimisiation différentiable sous contraintes, comme celui Uzawa ou d'Arrow-Hurwicz (les contraintes sont linéaires)"
   ],
   "cell_type": "markdown",
   "metadata": {}
  },
  {
   "source": [
    "### Question 6\n",
    "\n",
    "Il est surprenant que $1$ ne soit pas négligeable devant $\\alpha$..."
   ],
   "cell_type": "markdown",
   "metadata": {}
  },
  {
   "cell_type": "code",
   "execution_count": 46,
   "metadata": {},
   "outputs": [
    {
     "output_type": "stream",
     "name": "stdout",
     "text": [
      "8\n"
     ]
    }
   ],
   "source": [
    "\n",
    "def q6():\n",
    "    alpha = 0.1\n",
    "    c = 1e-3*np.array([30.,1.,1.3,4., 1.])\n",
    "    v = np.array([0.9, 1.5, 1.1])\n",
    "    d = np.array([400., 67., 33.])\n",
    "    A = np.array([[3.5,2.,1.],[250.,80., 25.],[0., 8., 3.],[0., 40., 10.], [0., 8.5, 0.]])\n",
    "    n = len(c)+len(d)\n",
    "    return n, alpha, c, v, d, A\n",
    "\n",
    "n, alpha, c, v, d, A = q6()\n",
    "x0 = np.zeros(n)\n",
    "print(n)"
   ]
  },
  {
   "cell_type": "code",
   "execution_count": 47,
   "metadata": {},
   "outputs": [],
   "source": [
    "def fun_hp(q, d, alpha=alpha):\n",
    "    return (q*exp(-alpha*q)+d*exp(-alpha*d))/(exp(-alpha*q)+exp(-alpha*d))"
   ]
  },
  {
   "cell_type": "code",
   "execution_count": 58,
   "metadata": {},
   "outputs": [
    {
     "output_type": "stream",
     "name": "stdout",
     "text": [
      "[   402.12704191     73.10746942     42.43483578   1596.09442137\n 107441.22892767    712.1642646    3348.6471351     621.41349253]\n"
     ]
    }
   ],
   "source": [
    "k = len(d)\n",
    "\n",
    "opti = casadi.Opti();\n",
    "\n",
    "x = opti.variable(n)\n",
    "q = x[0:k]\n",
    "r = x[k:]\n",
    "cp = opti.parameter(n-k)\n",
    "vp = opti.parameter(k)\n",
    "dp = opti.parameter(k)\n",
    "ap = opti.parameter(n-k,k)\n",
    "\n",
    "f = mtimes(transpose(cp), r) - mtimes(transpose(vp), fun_hp(q, dp))\n",
    "opti.minimize(f)\n",
    "opti.subject_to(mtimes(ap, q) - r <= 0)\n",
    "\n",
    "x0 = np.array([0.]*n)\n",
    "opti.set_initial(x,x0)\n",
    "# pour enlever le blabla, définir un dictionnaire d'option\n",
    "options = {'print_time':False, 'ipopt':{'print_level':0}}\n",
    "# options = dict(print_time=False, ipopt=dict(print_level=0))\n",
    "opti.solver('ipopt', options);\n",
    "\n",
    "\n",
    "opti.set_value(cp, c)\n",
    "opti.set_value(vp, v)\n",
    "opti.set_value(dp, d)\n",
    "opti.set_value(ap, A)\n",
    "\n",
    "sol = opti.solve();\n",
    "print(sol.value(x))"
   ]
  },
  {
   "cell_type": "code",
   "execution_count": 45,
   "metadata": {},
   "outputs": [
    {
     "output_type": "stream",
     "name": "stdout",
     "text": [
      "[1.         2.09757685 4.4227762 ]\n-8.742619084891563\n[0.03   0.001  0.0013 0.004  0.001 ]\n"
     ]
    }
   ],
   "source": [
    "def fun_h(q, d, alpha=alpha):\n",
    "    return (q*np.exp(-alpha*q)+d*np.exp(-alpha*d))/(np.exp(-alpha*q)+np.exp(-alpha*d))\n",
    "\n",
    "print(fun_h(np.array([1.,2.,3.]), d))\n",
    "\n",
    "def fun_f(z, d=d, A=A, c=c, v=v, alpha=alpha):\n",
    "    q = z[:len(d)]\n",
    "    r = z[len(d):]\n",
    "    return c.T @ r - v.T @ fun_h(q, d, alpha)\n",
    "\n",
    "ztest = np.array([1.,2.,3.,4.,5.,6.,7.,8.])\n",
    "print(fun_f(ztest))\n",
    "\n",
    "def fun_c(z, A=A):\n",
    "    q = z[:len(d)]\n",
    "    r = z[len(d):]\n",
    "    return A @ q - r\n",
    "\n",
    "print(c)"
   ]
  },
  {
   "cell_type": "code",
   "execution_count": 9,
   "metadata": {},
   "outputs": [
    {
     "output_type": "stream",
     "name": "stdout",
     "text": [
      "Optimization terminated successfully    (Exit mode 0)\n            Current function value: -333.52157831268005\n            Iterations: 63\n            Function evaluations: 584\n            Gradient evaluations: 63\n[   402.12800137     73.10884775     42.43652509   1596.1022254\n 107441.62129052    712.18035732   3348.71916112    621.42520591]\n"
     ]
    }
   ],
   "source": [
    "ineq_cons = { 'type' : 'ineq' , 'fun' : lambda x: - fun_c(x)}\n",
    "res = optimize . minimize(fun_f, x0, method= 'SLSQP' ,\n",
    "constraints= [ineq_cons], options={ 'disp' : True, 'maxiter': 10000})\n",
    "\n",
    "print(res.x)"
   ]
  },
  {
   "source": [
    "Légère surproduction : très étonnant, économie d'échelle ? pas tout à fait comme intuition : plutôt moins ou = à la demande mais pas plus...\n",
    "\n",
    "\n",
    "Comparer aussi la valeur du profit en lui-même... ?"
   ],
   "cell_type": "markdown",
   "metadata": {}
  },
  {
   "source": [
    "### Question 7"
   ],
   "cell_type": "markdown",
   "metadata": {}
  },
  {
   "source": [
    "a. Problème d'optimisation.\n",
    "\n",
    "On calcule l'espérance de l'opposé du profit : $E(z)=\\pi_1 f_1(z)+\\pi_2 f_2(z)+\\pi_3 f_3(z)$ où $f_i(z)= c^T r - v^T h(q, d^i)$\n",
    "\n",
    "On minimise donc cette quantité $E(z)$ avec les mêmes contraintes.\n",
    "\n"
   ],
   "cell_type": "markdown",
   "metadata": {}
  },
  {
   "cell_type": "code",
   "execution_count": 63,
   "metadata": {},
   "outputs": [],
   "source": [
    "def q7():\n",
    "    d1 = np.array([400., 67., 33.])\n",
    "    d2 = np.array([500., 80., 53.])\n",
    "    d3 = np.array([300., 60., 43.])\n",
    "    p1 = 0.5\n",
    "    p2 = 0.3\n",
    "    p3 = 0.2\n",
    "    return d1, p1, d2, p2, d3, p3\n",
    "\n",
    "ps = q7()\n",
    "d1, p1, d2, p2, d3, p3 = q7()\n"
   ]
  },
  {
   "cell_type": "code",
   "execution_count": 64,
   "metadata": {},
   "outputs": [],
   "source": [
    "def fun_E(z, ps=ps):\n",
    "    d1, p1, d2, p2, d3, p3 = ps\n",
    "    return p1*fun_f(z, d1)+p2*fun_f(z, d2)+p3*fun_f(z, d3)"
   ]
  },
  {
   "cell_type": "code",
   "execution_count": 65,
   "metadata": {},
   "outputs": [
    {
     "output_type": "stream",
     "name": "stdout",
     "text": [
      "Optimization terminated successfully    (Exit mode 0)\n            Current function value: -323.9598421618229\n            Iterations: 67\n            Function evaluations: 625\n            Gradient evaluations: 67\n[   406.70791452     77.13971119     54.28026736   1632.03739057\n 109205.16221001    779.9584916    3628.39112119    655.68754512]\n"
     ]
    }
   ],
   "source": [
    "ineq_cons = { 'type' : 'ineq' , 'fun' : lambda x: - fun_c(x)}\n",
    "res = optimize . minimize(fun_E, x0, method= 'SLSQP' ,\n",
    "constraints= [ineq_cons], options={ 'disp' : True, 'maxiter': 10000})\n",
    "\n",
    "print(res.x)"
   ]
  },
  {
   "cell_type": "code",
   "execution_count": 70,
   "metadata": {},
   "outputs": [
    {
     "output_type": "stream",
     "name": "stdout",
     "text": [
      "[   406.69842673     77.13921035     54.28956029   1632.01247461\n 109202.9825197     779.98236557   3628.46401742    655.68329044]\n"
     ]
    }
   ],
   "source": [
    "\n",
    "opti = casadi.Opti();\n",
    "\n",
    "x = opti.variable(n)\n",
    "q = x[0:k]\n",
    "r = x[k:]\n",
    "cp = opti.parameter(n-k)\n",
    "vp = opti.parameter(k)\n",
    "dp = opti.parameter(3, k)\n",
    "pp = opti.parameter(k)\n",
    "ap = opti.parameter(n-k,k)\n",
    "\n",
    "f = 0\n",
    "for j in range(3):\n",
    "    f += pp[j]*(mtimes(transpose(cp), r) - mtimes(transpose(vp), fun_hp(q, transpose(dp[j,:]))))\n",
    "\n",
    "opti.minimize(f)\n",
    "opti.subject_to(mtimes(ap, q) - r <= 0)\n",
    "\n",
    "x0 = np.array([0.]*n)\n",
    "opti.set_initial(x,x0)\n",
    "# pour enlever le blabla, définir un dictionnaire d'option\n",
    "options = {'print_time':False, 'ipopt':{'print_level':0}}\n",
    "# options = dict(print_time=False, ipopt=dict(print_level=0))\n",
    "opti.solver('ipopt', options);\n",
    "\n",
    "\n",
    "opti.set_value(cp, c)\n",
    "opti.set_value(vp, v)\n",
    "opti.set_value(ap, A)\n",
    "opti.set_value(pp, [p1, p2, p3])\n",
    "opti.set_value(dp, np.array([d1, d2, d3]))\n",
    "\n",
    "sol = opti.solve();\n",
    "print(sol.value(x))"
   ]
  },
  {
   "source": [
    "Produit un peu plus pour couvrir la variabilité si plus de demande car proba plus de demande plus importante que demande plus faible ?\n",
    "\n",
    "Comparer aussi la valeur du profit en lui-même..."
   ],
   "cell_type": "markdown",
   "metadata": {}
  },
  {
   "source": [
    "### Question 8\n",
    "\n",
    "a. On suppose que $r$ et $d$ sont fixés. On a toujours le terme de revenus $v^T h(q,d)$. Le premier terme correspond à $(q-d)^T(q-d)$. $q-d$ est la différence entre ce qui est produit et ce qui est demandé. Cela correspond donc au coût induit par le gaspillage si $q>d$, ou le coût de la non-satisfaction de la demande si $d>q$d. On cherche donc bien à minimiser ce coût..."
   ],
   "cell_type": "markdown",
   "metadata": {}
  },
  {
   "source": [
    "b. "
   ],
   "cell_type": "markdown",
   "metadata": {}
  },
  {
   "cell_type": "code",
   "execution_count": null,
   "metadata": {},
   "outputs": [],
   "source": []
  },
  {
   "cell_type": "code",
   "execution_count": 73,
   "metadata": {},
   "outputs": [
    {
     "output_type": "stream",
     "name": "stdout",
     "text": [
      "Optimization terminated successfully    (Exit mode 0)\n            Current function value: -323.9598421618229\n            Iterations: 67\n            Function evaluations: 625\n            Gradient evaluations: 67\nOptimization terminated successfully    (Exit mode 0)\n            Current function value: -407.55865445651534\n            Iterations: 7\n            Function evaluations: 30\n            Gradient evaluations: 7\n[300.21944431  60.36145645  43.26755046]\n"
     ]
    }
   ],
   "source": [
    "ineq_cons = { 'type' : 'ineq' , 'fun' : lambda x: - fun_c(x)}\n",
    "res = optimize . minimize(fun_E, x0, method= 'SLSQP' ,\n",
    "constraints= [ineq_cons], options={ 'disp' : True, 'maxiter': 10000})\n",
    "\n",
    "y = res.x\n",
    "#print(y)\n",
    "r = y[len(d):]\n",
    "#print(r)\n",
    "\n",
    "def fun_g(q, d=ps[4], v=v):\n",
    "    return (q-d).T @ (q-d) - v.T @ fun_h(q, d) # attention norme au carré\n",
    "\n",
    "def fun_cb(q, r=r, d=ps[4]):\n",
    "    return fun_c(np.hstack((q, r)))\n",
    "\n",
    "y0 = np.zeros(len(d))\n",
    "#print(y0)\n",
    "\n",
    "ineq_cons = { 'type' : 'ineq' , 'fun' : lambda x: - fun_cb(x)}\n",
    "res = optimize . minimize(fun_g, y0, method= 'SLSQP' ,\n",
    "constraints= [ineq_cons], options={ 'disp' : True, 'maxiter': 10000})\n",
    "print(res.x)\n",
    "\n",
    "\n"
   ]
  },
  {
   "cell_type": "code",
   "execution_count": 76,
   "metadata": {},
   "outputs": [
    {
     "output_type": "stream",
     "name": "stdout",
     "text": [
      "[300.22004929  60.36144863  43.26764076]\n"
     ]
    }
   ],
   "source": [
    "\n",
    "opti = casadi.Opti();\n",
    "\n",
    "q = opti.variable(k)\n",
    "cp = opti.parameter(n-k)\n",
    "vp = opti.parameter(k)\n",
    "dp = opti.parameter(k)\n",
    "ap = opti.parameter(n-k,k)\n",
    "rp = opti.parameter(n-k)\n",
    "\n",
    "f = mtimes(transpose(q-dp), q-dp) - mtimes(transpose(vp), fun_hp(q, dp))\n",
    "opti.minimize(f)\n",
    "opti.subject_to(mtimes(ap, q) - rp <= 0)\n",
    "\n",
    "x0 = np.array([0.]*k)\n",
    "opti.set_initial(q,x0)\n",
    "# pour enlever le blabla, définir un dictionnaire d'option\n",
    "options = {'print_time':False, 'ipopt':{'print_level':0}}\n",
    "# options = dict(print_time=False, ipopt=dict(print_level=0))\n",
    "opti.solver('ipopt', options);\n",
    "\n",
    "\n",
    "opti.set_value(cp, c)\n",
    "opti.set_value(vp, v)\n",
    "opti.set_value(dp, ps[4])\n",
    "opti.set_value(ap, A)\n",
    "opti.set_value(rp, r)\n",
    "\n",
    "sol = opti.solve();\n",
    "print(sol.value(q))"
   ]
  },
  {
   "source": [
    "Moins de gaspillage ? Adapté Très proche de la demande $d^3$\n",
    "\n",
    "\n",
    "Comparer aussi la valeur du profit en lui-même..."
   ],
   "cell_type": "markdown",
   "metadata": {}
  },
  {
   "source": [
    "## 3. Etude du problème non-régularisé\n",
    "\n",
    "### Question 9\n",
    "\n",
    "Méthode de gradient proximale (optimisation non-différentiable ?) (cf Traitement du Signal ?)"
   ],
   "cell_type": "markdown",
   "metadata": {}
  },
  {
   "source": [
    "### Question 10"
   ],
   "cell_type": "markdown",
   "metadata": {}
  },
  {
   "cell_type": "code",
   "execution_count": 14,
   "metadata": {},
   "outputs": [
    {
     "output_type": "stream",
     "name": "stdout",
     "text": [
      "[1. 2. 3.]\n-7.0312\n"
     ]
    }
   ],
   "source": [
    "def fun_hb(q, d, alpha=alpha):\n",
    "    return np.minimum(q,d)\n",
    "\n",
    "print(fun_hb(np.array([1.,2.,3.]), d))\n",
    "\n",
    "def fun_fb(z, d=d, A=A, c=c, v=v, alpha=alpha):\n",
    "    q = z[:len(d)]\n",
    "    r = z[len(d):]\n",
    "    return c.T @ r - v.T @ fun_hb(q, d, alpha)\n",
    "\n",
    "def fun_cb(z, A=A):\n",
    "    q = z[:len(d)]\n",
    "    r = z[len(d):]\n",
    "    return np.hstack((A @ q - r,-q))\n",
    "\n",
    "ztest = np.array([1.,2.,3.,4.,5.,6.,7.,8.])\n",
    "print(fun_fb(ztest))"
   ]
  },
  {
   "cell_type": "code",
   "execution_count": 15,
   "metadata": {},
   "outputs": [
    {
     "output_type": "stream",
     "name": "stdout",
     "text": [
      "Optimization terminated successfully    (Exit mode 0)\n            Current function value: -147.69824285037322\n            Iterations: 81\n            Function evaluations: 912\n            Gradient evaluations: 81\n[   399.99999944     66.11016455     41.28196352   1573.50229064\n 106320.86211083  12525.58755043  42272.26996026   8868.72897784]\n"
     ]
    }
   ],
   "source": [
    "ineq_cons = { 'type' : 'ineq' , 'fun' : lambda x: - fun_cb(x)}\n",
    "res = optimize . minimize(fun_fb, x0, method= 'SLSQP' ,\n",
    "constraints= [ineq_cons], options={ 'disp' : True, 'maxiter': 10000})\n",
    "print(res.x)\n",
    "\n",
    "# résultat fantasiste : méthode de scipy pas adaptée au problème ? profit positif car opposé du résultat...\n",
    "# SLSQP pourtant OK pour non linéaire ? problème gradient ?\n",
    "# problème alpha ?\n",
    "\n",
    "# pas possible production négative ?? rajout d'une contrainte : fun_cb"
   ]
  },
  {
   "source": [
    "Résultat assez différents (quantifier ?) : normal ou non ?"
   ],
   "cell_type": "markdown",
   "metadata": {}
  },
  {
   "cell_type": "code",
   "execution_count": null,
   "metadata": {},
   "outputs": [],
   "source": []
  },
  {
   "cell_type": "code",
   "execution_count": 96,
   "metadata": {},
   "outputs": [
    {
     "output_type": "stream",
     "name": "stdout",
     "text": [
      "8\n"
     ]
    }
   ],
   "source": [
    "\n",
    "def q6():\n",
    "    alpha = 0.1\n",
    "    c = 1e-3*np.array([30.,1.,1.3,4., 1.])\n",
    "    v = np.array([0.9, 1.5, 1.1])\n",
    "    d = np.array([400., 67., 33.])\n",
    "    A = np.array([[3.5,2.,1.],[250.,80., 25.],[0., 8., 3.],[0., 40., 10.], [0., 8.5, 0.]])\n",
    "    n = len(c)+len(d)\n",
    "    return n, alpha, c, v, d, A\n",
    "\n",
    "n, alpha, c, v, d, A = q6()\n",
    "x0 = np.zeros(n)\n",
    "print(n)"
   ]
  },
  {
   "cell_type": "code",
   "execution_count": 104,
   "metadata": {},
   "outputs": [
    {
     "output_type": "error",
     "ename": "NotImplementedError",
     "evalue": "Wrong number or type of arguments for overloaded function 'SX_set'.\n  Possible prototypes are:\n    set(self,SX,bool,Sparsity)\n    set(self,SX,bool,Slice)\n    set(self,SX,bool,IM)\n    set(self,SX,bool,Slice,Slice)\n    set(self,SX,bool,Slice,IM)\n    set(self,SX,bool,IM,Slice)\n    set(self,SX,bool,IM,IM)\n  You have: '(SX,MX,bool,int)'\n",
     "traceback": [
      "\u001b[1;31m---------------------------------------------------------------------------\u001b[0m",
      "\u001b[1;31mNotImplementedError\u001b[0m                       Traceback (most recent call last)",
      "\u001b[1;32m<ipython-input-104-d104c8a41cf6>\u001b[0m in \u001b[0;36m<module>\u001b[1;34m\u001b[0m\n\u001b[0;32m     20\u001b[0m \u001b[1;31m# contrainte, q & r positives\u001b[0m\u001b[1;33m\u001b[0m\u001b[1;33m\u001b[0m\u001b[1;33m\u001b[0m\u001b[0m\n\u001b[0;32m     21\u001b[0m \u001b[1;33m\u001b[0m\u001b[0m\n\u001b[1;32m---> 22\u001b[1;33m \u001b[0mf\u001b[0m \u001b[1;33m=\u001b[0m \u001b[0mmtimes\u001b[0m\u001b[1;33m(\u001b[0m\u001b[0mtranspose\u001b[0m\u001b[1;33m(\u001b[0m\u001b[0mcp\u001b[0m\u001b[1;33m)\u001b[0m\u001b[1;33m,\u001b[0m \u001b[0mr\u001b[0m\u001b[1;33m)\u001b[0m \u001b[1;33m-\u001b[0m \u001b[0mmtimes\u001b[0m\u001b[1;33m(\u001b[0m\u001b[0mtranspose\u001b[0m\u001b[1;33m(\u001b[0m\u001b[0mvp\u001b[0m\u001b[1;33m)\u001b[0m\u001b[1;33m,\u001b[0m \u001b[0mmy_min\u001b[0m\u001b[1;33m(\u001b[0m\u001b[0mq\u001b[0m\u001b[1;33m,\u001b[0m\u001b[0md\u001b[0m\u001b[1;33m)\u001b[0m\u001b[1;33m)\u001b[0m\u001b[1;33m\u001b[0m\u001b[1;33m\u001b[0m\u001b[0m\n\u001b[0m\u001b[0;32m     23\u001b[0m \u001b[0mopti\u001b[0m\u001b[1;33m.\u001b[0m\u001b[0mminimize\u001b[0m\u001b[1;33m(\u001b[0m\u001b[0mf\u001b[0m\u001b[1;33m)\u001b[0m\u001b[1;33m\u001b[0m\u001b[1;33m\u001b[0m\u001b[0m\n\u001b[0;32m     24\u001b[0m \u001b[0mopti\u001b[0m\u001b[1;33m.\u001b[0m\u001b[0msubject_to\u001b[0m\u001b[1;33m(\u001b[0m\u001b[0mmtimes\u001b[0m\u001b[1;33m(\u001b[0m\u001b[0map\u001b[0m\u001b[1;33m,\u001b[0m \u001b[0mq\u001b[0m\u001b[1;33m)\u001b[0m \u001b[1;33m-\u001b[0m \u001b[0mr\u001b[0m \u001b[1;33m<=\u001b[0m \u001b[1;36m0\u001b[0m\u001b[1;33m)\u001b[0m\u001b[1;33m\u001b[0m\u001b[1;33m\u001b[0m\u001b[0m\n",
      "\u001b[1;32m<ipython-input-104-d104c8a41cf6>\u001b[0m in \u001b[0;36mmy_min\u001b[1;34m(a, b)\u001b[0m\n\u001b[0;32m     14\u001b[0m     \u001b[0mcz\u001b[0m \u001b[1;33m=\u001b[0m \u001b[0mSX\u001b[0m\u001b[1;33m(\u001b[0m\u001b[0mk\u001b[0m\u001b[1;33m)\u001b[0m\u001b[1;33m\u001b[0m\u001b[1;33m\u001b[0m\u001b[0m\n\u001b[0;32m     15\u001b[0m     \u001b[1;32mfor\u001b[0m \u001b[0mj\u001b[0m \u001b[1;32min\u001b[0m \u001b[0mrange\u001b[0m\u001b[1;33m(\u001b[0m\u001b[0mk\u001b[0m\u001b[1;33m)\u001b[0m\u001b[1;33m:\u001b[0m\u001b[1;33m\u001b[0m\u001b[1;33m\u001b[0m\u001b[0m\n\u001b[1;32m---> 16\u001b[1;33m         \u001b[0mcz\u001b[0m\u001b[1;33m[\u001b[0m\u001b[0mj\u001b[0m\u001b[1;33m]\u001b[0m \u001b[1;33m=\u001b[0m \u001b[1;33m(\u001b[0m\u001b[0ma\u001b[0m\u001b[1;33m[\u001b[0m\u001b[0mj\u001b[0m\u001b[1;33m]\u001b[0m \u001b[1;33m-\u001b[0m \u001b[0mb\u001b[0m\u001b[1;33m[\u001b[0m\u001b[0mj\u001b[0m\u001b[1;33m]\u001b[0m\u001b[1;33m)\u001b[0m\u001b[1;33m*\u001b[0m\u001b[1;33m(\u001b[0m\u001b[0ma\u001b[0m\u001b[1;33m[\u001b[0m\u001b[0mj\u001b[0m\u001b[1;33m]\u001b[0m\u001b[1;33m-\u001b[0m\u001b[0mb\u001b[0m\u001b[1;33m[\u001b[0m\u001b[0mj\u001b[0m\u001b[1;33m]\u001b[0m\u001b[1;33m)\u001b[0m\u001b[1;33m\u001b[0m\u001b[1;33m\u001b[0m\u001b[0m\n\u001b[0m\u001b[0;32m     17\u001b[0m     \u001b[1;32mreturn\u001b[0m \u001b[0mcz\u001b[0m\u001b[1;33m\u001b[0m\u001b[1;33m\u001b[0m\u001b[0m\n\u001b[0;32m     18\u001b[0m \u001b[1;31m# au carré ?\u001b[0m\u001b[1;33m\u001b[0m\u001b[1;33m\u001b[0m\u001b[1;33m\u001b[0m\u001b[0m\n",
      "\u001b[1;32m~\\.conda\\envs\\Flo\\lib\\site-packages\\casadi\\casadi.py\u001b[0m in \u001b[0;36m__setitem__\u001b[1;34m(self, s, val)\u001b[0m\n\u001b[0;32m   9127\u001b[0m           \u001b[1;32mif\u001b[0m \u001b[0misinstance\u001b[0m\u001b[1;33m(\u001b[0m\u001b[0ms\u001b[0m\u001b[1;33m,\u001b[0m\u001b[0mtuple\u001b[0m\u001b[1;33m)\u001b[0m \u001b[1;32mand\u001b[0m \u001b[0mlen\u001b[0m\u001b[1;33m(\u001b[0m\u001b[0ms\u001b[0m\u001b[1;33m)\u001b[0m\u001b[1;33m==\u001b[0m\u001b[1;36m2\u001b[0m\u001b[1;33m:\u001b[0m\u001b[1;33m\u001b[0m\u001b[1;33m\u001b[0m\u001b[0m\n\u001b[0;32m   9128\u001b[0m             \u001b[1;32mreturn\u001b[0m \u001b[0mself\u001b[0m\u001b[1;33m.\u001b[0m\u001b[0mset\u001b[0m\u001b[1;33m(\u001b[0m\u001b[0mval\u001b[0m\u001b[1;33m,\u001b[0m \u001b[1;32mFalse\u001b[0m\u001b[1;33m,\u001b[0m \u001b[0ms\u001b[0m\u001b[1;33m[\u001b[0m\u001b[1;36m0\u001b[0m\u001b[1;33m]\u001b[0m\u001b[1;33m,\u001b[0m \u001b[0ms\u001b[0m\u001b[1;33m[\u001b[0m\u001b[1;36m1\u001b[0m\u001b[1;33m]\u001b[0m\u001b[1;33m)\u001b[0m\u001b[1;33m\u001b[0m\u001b[1;33m\u001b[0m\u001b[0m\n\u001b[1;32m-> 9129\u001b[1;33m           \u001b[1;32mreturn\u001b[0m \u001b[0mself\u001b[0m\u001b[1;33m.\u001b[0m\u001b[0mset\u001b[0m\u001b[1;33m(\u001b[0m\u001b[0mval\u001b[0m\u001b[1;33m,\u001b[0m \u001b[1;32mFalse\u001b[0m\u001b[1;33m,\u001b[0m \u001b[0ms\u001b[0m\u001b[1;33m)\u001b[0m\u001b[1;33m\u001b[0m\u001b[1;33m\u001b[0m\u001b[0m\n\u001b[0m\u001b[0;32m   9130\u001b[0m \u001b[1;33m\u001b[0m\u001b[0m\n\u001b[0;32m   9131\u001b[0m     \u001b[1;33m@\u001b[0m\u001b[0mproperty\u001b[0m\u001b[1;33m\u001b[0m\u001b[1;33m\u001b[0m\u001b[0m\n",
      "\u001b[1;32m~\\.conda\\envs\\Flo\\lib\\site-packages\\casadi\\casadi.py\u001b[0m in \u001b[0;36mset\u001b[1;34m(self, *args)\u001b[0m\n\u001b[0;32m   8053\u001b[0m \u001b[1;33m\u001b[0m\u001b[0m\n\u001b[0;32m   8054\u001b[0m         \"\"\"\n\u001b[1;32m-> 8055\u001b[1;33m         \u001b[1;32mreturn\u001b[0m \u001b[0m_casadi\u001b[0m\u001b[1;33m.\u001b[0m\u001b[0mSX_set\u001b[0m\u001b[1;33m(\u001b[0m\u001b[0mself\u001b[0m\u001b[1;33m,\u001b[0m \u001b[1;33m*\u001b[0m\u001b[0margs\u001b[0m\u001b[1;33m)\u001b[0m\u001b[1;33m\u001b[0m\u001b[1;33m\u001b[0m\u001b[0m\n\u001b[0m\u001b[0;32m   8056\u001b[0m \u001b[1;33m\u001b[0m\u001b[0m\n\u001b[0;32m   8057\u001b[0m \u001b[1;33m\u001b[0m\u001b[0m\n",
      "\u001b[1;31mNotImplementedError\u001b[0m: Wrong number or type of arguments for overloaded function 'SX_set'.\n  Possible prototypes are:\n    set(self,SX,bool,Sparsity)\n    set(self,SX,bool,Slice)\n    set(self,SX,bool,IM)\n    set(self,SX,bool,Slice,Slice)\n    set(self,SX,bool,Slice,IM)\n    set(self,SX,bool,IM,Slice)\n    set(self,SX,bool,IM,IM)\n  You have: '(SX,MX,bool,int)'\n"
     ]
    }
   ],
   "source": [
    "k = len(d)\n",
    "\n",
    "opti = casadi.Opti();\n",
    "\n",
    "x = opti.variable(n)\n",
    "q = x[0:k]\n",
    "r = x[k:]\n",
    "cp = opti.parameter(n-k)\n",
    "vp = opti.parameter(k)\n",
    "dp = opti.parameter(k)\n",
    "ap = opti.parameter(n-k,k)\n",
    "\n",
    "def my_min(a, b):\n",
    "    cz = SX(k)\n",
    "    for j in range(k):\n",
    "        cz[j] = (a[j] - b[j])*(a[j]-b[j])\n",
    "    return cz\n",
    "# au carré ?\n",
    "\n",
    "# contrainte, q & r positives\n",
    "\n",
    "f = mtimes(transpose(cp), r) - mtimes(transpose(vp), my_min(q,d))\n",
    "opti.minimize(f)\n",
    "opti.subject_to(mtimes(ap, q) - r <= 0)\n",
    "opti.subject_to( - r <= 0)\n",
    "opti.subject_to( - q <= 0)\n",
    "\n",
    "x0 = np.array([0.]*n)\n",
    "opti.set_initial(x,x0)\n",
    "# pour enlever le blabla, définir un dictionnaire d'option\n",
    "options = {'print_time':False, 'ipopt':{'print_level':0}}\n",
    "# options = dict(print_time=False, ipopt=dict(print_level=0))\n",
    "opti.solver('ipopt', options);\n",
    "\n",
    "\n",
    "opti.set_value(cp, c)\n",
    "opti.set_value(vp, v)\n",
    "opti.set_value(dp, d)\n",
    "opti.set_value(ap, A)\n",
    "\n",
    "try:\n",
    "    sol = opti.solve();\n",
    "    print(sol.value(x))\n",
    "except:\n",
    "    print(\"erreur\")\n",
    "    print(opti.debug.value)"
   ]
  },
  {
   "source": [
    "min de l'espérance q7 attention\n",
    "3 lignes  problème bien posé\n",
    "\n",
    "min (q,d) \n",
    "probabilité\n",
    "\n"
   ],
   "cell_type": "markdown",
   "metadata": {}
  },
  {
   "cell_type": "code",
   "execution_count": null,
   "metadata": {},
   "outputs": [],
   "source": [
    "convexe, non convexe, contraintes ou non, pas besoin d'être exhaustif\n",
    "tp4 utile pour le miniprojet"
   ]
  },
  {
   "cell_type": "code",
   "execution_count": null,
   "metadata": {},
   "outputs": [],
   "source": [
    "écrire le problème non différentielle\n",
    "transformation du problème : rajouter des contraintes qui reproduise le problème là\n",
    "\n",
    "problème équivalent : variable équivalent, toutes les variables est dériables\n",
    "\n",
    "problème linéaire sauf le min\n",
    "méthode basée dérivée\n",
    "\n",
    "que pas contrainte solution car linéaire\n",
    "\n",
    "gradient toujours le même\n",
    "\n",
    "conditions de KKT\n",
    "\n",
    "méthode basée sur la dérivée\n",
    "méthode de gradient\n",
    "\n",
    "régulariser : alpha q^2\n",
    "\n",
    "toutes acceptables\n",
    "\n",
    "imagination,\n",
    "toutes les méthodes basées sur la dérivée vont échouée\n",
    "\n",
    "\n",
    "sans le min: résoudre chaque problème\n"
   ]
  },
  {
   "cell_type": "code",
   "execution_count": null,
   "metadata": {},
   "outputs": [],
   "source": [
    "Discussion avec le prof:\n",
    "utiliser np.dot(q, q) pour norme de q au carré\n",
    "mtimes vérifier pas pour mult element par element\n",
    "\n",
    "q7 : min(q, r) de E_d(v^t*h()-...)\n",
    "écrire ainsi\n",
    "\n",
    "2 solutions pour q10 : gradient proximal (sous différentiel) : normaliser en rajoutant + alpha * np.dot(q, q) + alpha * np.dot(r,r) et faire tendre alpha vers 0... voir si cela se passe bien\n",
    "\n",
    "OU décomposer avec contrainte\n",
    "production = q + s avec s = slack (vendu à coût nul si production supérieur à la demande) et q vendu à coût non nul\n",
    "contrainte  q <= d \n",
    "et pour que s soit nul si q <= d, contrainte de complémentarité s(q-d)=0\n",
    "et enlever le min, à faire avec casadi\n",
    "\n",
    "enfin, chercher un résultat entier (contrainte en plus pour casadi)\n",
    "ou écrire que x = sum(n_i y_i) avec n_i = 1, 2, ... et y_i dans [0, 1] avec contrainte sum(y_i) <= 1 ???"
   ]
  }
 ]
}