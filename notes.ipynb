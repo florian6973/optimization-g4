{
 "cells": [
  {
   "cell_type": "markdown",
   "metadata": {},
   "source": [
    "## Notes\n",
    "\n",
    "Diminuer le pas, va marcher mais trop long\n",
    "gradient amorti, gradient à pas optimal\n",
    "\n",
    "c1 = 10^-4, c2 = 0.9\n",
    "\n",
    "Style de rendu ?\n",
    "\n",
    "Questions\n",
    "- q6 manque une composante vecteur c, alpha non négligeable ?\n",
    "- q7 max coût ou profit ?\n",
    "- q8 norme non différentiable en 0 ?\n",
    "- calculer gradient à la main ou autograd ? besoin pour scipy ? problème décompose vecteur z...\n",
    "- deux algorithmes à trouver... : newton avec pénalisation (mais pas dans le cours ?) et gradient proximal ?\n",
    "- vérifier avec scipy (ou à utiliser ?), quel choix de méthode ? calcul gradient des fonctions & des coûts ?\n",
    "- scipy à la fin : production négative : rajouter des contraintes\n",
    "- résultat pas entier : moitié de croissant ? où arrondir ?\n",
    "- résultat différent : mauvaise valeur de alpha... ? à quoi s'attendre ?\n",
    "- grande variabilité selon la valeur de alpha ? bizarre première méthode... ou problème scipy slsqp sans gradient spécifié (important) ?\n"
   ]
  },
  {
   "cell_type": "code",
   "execution_count": 19,
   "metadata": {},
   "outputs": [],
   "source": [
    "import numpy as np\n",
    "from scipy import optimize\n",
    "import casadi\n",
    "from casadi import SX, mtimes, transpose, exp, sum1, fmin, MX\n",
    "np.set_printoptions(suppress=True)"
   ]
  },
  {
   "cell_type": "markdown",
   "metadata": {},
   "source": [
    "## 1. Etude du problème d'optimisation\n",
    "\n",
    "### Question 1\n",
    "\n",
    "Le coût (2) correspond au profit de la boulangerie :\n",
    "\n",
    "- $c^T r$ est le coût d'achat des matières premières\n",
    "- $v^T q$ est le montant rapporté par la vente d'une quantité de produits $q$ (tout ce qui a été produit)\n",
    "- $v^T d$ est le montant rapporté par la vente d'une quantité de produits $d$ (tout ce qui a été demandé)\n",
    "\n",
    "Ainsi, le terme $\\min\\{q,d\\}$ correspond à la quantité minimum entre ce qui a été produit ou demandé. En effet, le facteur limitant des gains dépend si la demande est supérieure à la production ou si la production est supérieure à la demande (dans le cas d'économies d'échelle par exemple, cela peut être rentable).\n"
   ]
  },
  {
   "cell_type": "markdown",
   "metadata": {},
   "source": [
    "### Question 2\n",
    "\n",
    "Ce terme avec un $\\min$ n'est pas un opérateur linéaire, il n'est donc peut-être pas différentiable et ne permet pas d'appliquer les méthodes du cours les plus efficaces."
   ]
  },
  {
   "cell_type": "markdown",
   "metadata": {},
   "source": [
    "### Question 3\n",
    "\n",
    "Cette formule fait penser à la statistique de Maxwell-Boltzmann.\n",
    "\n",
    "Soit $i \\in [|1, p|]$.\n",
    "\n",
    "Cas 1 : $q_i > d_i$. Montrons que $h_i \\approx d_i$.\n",
    "\n",
    "$\\exp(-\\alpha q_i) << \\exp(-\\alpha d_i)$ et $q_i \\exp(-\\alpha q_i)$ est toujours petit devant $d_i \\exp(-\\alpha d_i)$ car $\\alpha >> 1$, ce qui permet de simplifier et d'obtenir le résultat.\n",
    "\n",
    "Cas 2 : $q_i < d_i$. On procède de manière similaire par symétrie\n",
    "\n",
    "On a donc maintenant une fonction convexe différentiable ce qui permet de se placer dans un cadre où l'on dispose plus de résultats."
   ]
  },
  {
   "cell_type": "markdown",
   "metadata": {},
   "source": [
    "### Question 4\n",
    "\n",
    "On suppose que $d$ est fixé. On pose :\n",
    "\n",
    "- $z = (q, r)$ (de taille $n=p + m$)\n",
    "- $f(z) = f(q, r) = c^T r - v^T h(q, d)$, à valeurs dans $\\mathbb{R}$\n",
    "- $c(z) = c(q, r) = A q - r$ ($m$ contraintes)"
   ]
  },
  {
   "cell_type": "markdown",
   "metadata": {},
   "source": [
    "## 2. Etude et résolution numérique\n",
    "\n",
    "### Question 5\n",
    "\n",
    "Puisque la fonction $f$ est deux-fois différentiable, on peut utiliser la méthode la plus efficace pour l'optimisation différentiable, c'est-à-dire la méthode de Newton. Toutefois, il faut prendre en compte les contraintes inégalités. On peut donc penser à une optimisation avec pénalités.\n",
    "\n",
    "Une autre approche serait les algorithmes d'optimisiation différentiable sous contraintes, comme celui Uzawa ou d'Arrow-Hurwicz (les contraintes sont linéaires)"
   ]
  },
  {
   "cell_type": "markdown",
   "metadata": {},
   "source": [
    "### Question 6\n",
    "\n",
    "Il est surprenant que $1$ ne soit pas négligeable devant $\\alpha$..."
   ]
  },
  {
   "cell_type": "code",
   "execution_count": 20,
   "metadata": {},
   "outputs": [
    {
     "name": "stdout",
     "output_type": "stream",
     "text": [
      "8\n"
     ]
    }
   ],
   "source": [
    "def q6(a=0.1):\n",
    "    alpha = a\n",
    "    c = 1e-3*np.array([30.,1.,1.3,4., 1.])\n",
    "    v = np.array([0.9, 1.5, 1.1])\n",
    "    d = np.array([400., 67., 33.])\n",
    "    A = np.array([[3.5,2.,1.],[250.,80., 25.],[0., 8., 3.],[0., 40., 10.], [0., 8.5, 0.]])\n",
    "    n = len(c)+len(d)\n",
    "    return n, alpha, c, v, d, A\n",
    "\n",
    "n, alpha, c, v, d, A = q6()\n",
    "x0 = np.zeros(n)\n",
    "print(n)"
   ]
  },
  {
   "cell_type": "code",
   "execution_count": 21,
   "metadata": {},
   "outputs": [],
   "source": [
    "def fun_hp(q, d, alpha=alpha):\n",
    "    return (q*exp(-alpha*q)+d*exp(-alpha*d))/(exp(-alpha*q)+exp(-alpha*d))"
   ]
  },
  {
   "cell_type": "code",
   "execution_count": 22,
   "metadata": {},
   "outputs": [
    {
     "name": "stdout",
     "output_type": "stream",
     "text": [
      "\n",
      "******************************************************************************\n",
      "This program contains Ipopt, a library for large-scale nonlinear optimization.\n",
      " Ipopt is released as open source code under the Eclipse Public License (EPL).\n",
      "         For more information visit http://projects.coin-or.org/Ipopt\n",
      "******************************************************************************\n",
      "\n",
      "[   402.12704191     73.10746942     42.43483578   1596.09442137\n",
      " 107441.22892767    712.1642646    3348.6471351     621.41349253]\n"
     ]
    }
   ],
   "source": [
    "k = len(d)\n",
    "\n",
    "opti = casadi.Opti();\n",
    "\n",
    "x = opti.variable(n)\n",
    "q = x[0:k]\n",
    "r = x[k:]\n",
    "cp = opti.parameter(n-k)\n",
    "vp = opti.parameter(k)\n",
    "dp = opti.parameter(k)\n",
    "ap = opti.parameter(n-k,k)\n",
    "\n",
    "f = mtimes(transpose(cp), r) - mtimes(transpose(vp), fun_hp(q, dp))\n",
    "opti.minimize(f)\n",
    "opti.subject_to(mtimes(ap, q) - r <= 0)\n",
    "\n",
    "x0 = np.array([0.]*n)\n",
    "opti.set_initial(x,x0)\n",
    "# pour enlever le blabla, définir un dictionnaire d'option\n",
    "options = {'print_time':False, 'ipopt':{'print_level':0}}\n",
    "# options = dict(print_time=False, ipopt=dict(print_level=0))\n",
    "opti.solver('ipopt', options);\n",
    "\n",
    "\n",
    "opti.set_value(cp, c)\n",
    "opti.set_value(vp, v)\n",
    "opti.set_value(dp, d)\n",
    "opti.set_value(ap, A)\n",
    "\n",
    "sol = opti.solve();\n",
    "print(sol.value(x))"
   ]
  },
  {
   "cell_type": "code",
   "execution_count": 23,
   "metadata": {},
   "outputs": [
    {
     "name": "stdout",
     "output_type": "stream",
     "text": [
      "[1.         2.09757685 4.4227762 ]\n",
      "-8.742619084891563\n",
      "[0.03   0.001  0.0013 0.004  0.001 ]\n"
     ]
    }
   ],
   "source": [
    "def fun_h(q, d, alpha=alpha):\n",
    "    return (q*np.exp(-alpha*q)+d*np.exp(-alpha*d))/(np.exp(-alpha*q)+np.exp(-alpha*d))\n",
    "\n",
    "print(fun_h(np.array([1.,2.,3.]), d))\n",
    "\n",
    "def fun_f(z, d=d, A=A, c=c, v=v, alpha=alpha):\n",
    "    q = z[:len(d)]\n",
    "    r = z[len(d):]\n",
    "    return c.T @ r - v.T @ fun_h(q, d, alpha)\n",
    "\n",
    "ztest = np.array([1.,2.,3.,4.,5.,6.,7.,8.])\n",
    "print(fun_f(ztest))\n",
    "\n",
    "def fun_c(z, A=A):\n",
    "    q = z[:len(d)]\n",
    "    r = z[len(d):]\n",
    "    return A @ q - r\n",
    "\n",
    "print(c)"
   ]
  },
  {
   "cell_type": "code",
   "execution_count": 24,
   "metadata": {},
   "outputs": [
    {
     "name": "stdout",
     "output_type": "stream",
     "text": [
      "Optimization terminated successfully    (Exit mode 0)\n",
      "            Current function value: -333.5215778545896\n",
      "            Iterations: 65\n",
      "            Function evaluations: 593\n",
      "            Gradient evaluations: 65\n",
      "[   402.12901883     73.11143238     42.43397464   1596.10840532\n",
      " 107442.01866487    712.19338296   3348.79704161    621.44717523]\n"
     ]
    }
   ],
   "source": [
    "ineq_cons = { 'type' : 'ineq' , 'fun' : lambda x: - fun_c(x)}\n",
    "res = optimize . minimize(fun_f, x0, method= 'SLSQP' ,\n",
    "constraints= [ineq_cons], options={ 'disp' : True, 'maxiter': 10000})\n",
    "\n",
    "print(res.x)"
   ]
  },
  {
   "cell_type": "code",
   "execution_count": 25,
   "metadata": {},
   "outputs": [
    {
     "name": "stderr",
     "output_type": "stream",
     "text": [
      "<ipython-input-25-5c11035186b9>:12: RuntimeWarning: overflow encountered in exp\n",
      "  return (q*np.exp(-alpha*q)+d*np.exp(-alpha*d))/(np.exp(-alpha*q)+np.exp(-alpha*d))\n",
      "<ipython-input-25-5c11035186b9>:12: RuntimeWarning: invalid value encountered in true_divide\n",
      "  return (q*np.exp(-alpha*q)+d*np.exp(-alpha*d))/(np.exp(-alpha*q)+np.exp(-alpha*d))\n"
     ]
    },
    {
     "data": {
      "image/png": "[encoded data removed]",
      "text/plain": [
       "<Figure size 432x288 with 1 Axes>"
      ]
     },
     "metadata": {
      "needs_background": "light"
     },
     "output_type": "display_data"
    }
   ],
   "source": [
    "# avec différents alpha\n",
    "\n",
    "import matplotlib.pyplot as plt\n",
    "\n",
    "baguettes_list, chocolats_list, croissants_list = [], [], []\n",
    "alphas = np.arange(0.1, 1.8, 0.05)\n",
    "\n",
    "for a in alphas:\n",
    "    n, alpha, c, v, d, A = q6(a)\n",
    "    \n",
    "    def fun_h(q, d, alpha=alpha):\n",
    "        return (q*np.exp(-alpha*q)+d*np.exp(-alpha*d))/(np.exp(-alpha*q)+np.exp(-alpha*d))\n",
    "\n",
    "\n",
    "    def fun_f(z, d=d, A=A, c=c, v=v, alpha=alpha):\n",
    "        q = z[:len(d)]\n",
    "        r = z[len(d):]\n",
    "        return c.T @ r - v.T @ fun_h(q, d, alpha)\n",
    "\n",
    "    def fun_c(z, A=A):\n",
    "        q = z[:len(d)]\n",
    "        r = z[len(d):]\n",
    "        return A @ q - r\n",
    "\n",
    "    ineq_cons = { 'type' : 'ineq' , 'fun' : lambda x: - fun_c(x)}\n",
    "    res = optimize . minimize(fun_f, x0, method= 'SLSQP' ,\n",
    "    constraints= [ineq_cons], options={ 'disp' : False, 'maxiter': 10000})\n",
    "    \n",
    "    baguettes, chocolats, croissants = res.x[:3]\n",
    "    baguettes_list.append(baguettes)\n",
    "    chocolats_list.append(chocolats)\n",
    "    croissants_list.append(croissants)\n",
    "\n",
    "plt.figure()\n",
    "#plt.plot(alphas, baguettes_list)\n",
    "plt.plot(alphas, chocolats_list)\n",
    "plt.plot(alphas, croissants_list)\n",
    "#plt.plot(alphas, 400*np.ones(len(alphas)))\n",
    "plt.plot(alphas, 67*np.ones(len(alphas)))\n",
    "plt.plot(alphas, 33*np.ones(len(alphas)))\n",
    "plt.xlabel(\"alpha\")\n",
    "plt.ylabel(\"quantité produite\")\n",
    "plt.show()\n"
   ]
  },
  {
   "cell_type": "markdown",
   "metadata": {},
   "source": [
    "La valeur de la fonction de coût est négative, donc l'entreprise fait des profits.\n",
    "\n",
    "On observe que les quantités produites sont toujours supérieures aux quantités demandées, ce qui est surprenant car le modèle ne permet pas les économies d'échelle a priori.\n",
    "\n",
    "Cela pourrait donc être notre approximation du minimum qui serait en cause. Pour le vérifier, nous avons représenté les quantités produites selon la valeur du paramètre $\\alpha$. Lorsqu'il augmente, c'est-à-dire lorsque notre approximation \"se rapproche\" de la fonction $\\min$, on observe bien que les quantités produites tendent vers les quantités demandées par valeurs supérieures, ce qui confirme cette hypothèse. On peut donc conclure que la quantité optimale est la quantité demandée avec ces paramètres.\n",
    "\n",
    "On peut également comparer aux résultats obtenus dans la dernière partie du problème."
   ]
  },
  {
   "cell_type": "markdown",
   "metadata": {},
   "source": [
    "### Question 7"
   ]
  },
  {
   "cell_type": "markdown",
   "metadata": {},
   "source": [
    "a. Problème d'optimisation.\n",
    "\n",
    "On calcule l'espérance de l'opposé du profit : $E(z)=\\pi_1 f_1(z)+\\pi_2 f_2(z)+\\pi_3 f_3(z)$ où $f_i(z)= c^T r - v^T h(q, d^i)$\n",
    "\n",
    "On minimise donc cette quantité $E(z)$ avec les mêmes contraintes.\n",
    "\n"
   ]
  },
  {
   "cell_type": "code",
   "execution_count": 26,
   "metadata": {},
   "outputs": [],
   "source": [
    "def q7():\n",
    "    d1 = np.array([400., 67., 33.])\n",
    "    d2 = np.array([500., 80., 53.])\n",
    "    d3 = np.array([300., 60., 43.])\n",
    "    p1 = 0.5\n",
    "    p2 = 0.3\n",
    "    p3 = 0.2\n",
    "    return d1, p1, d2, p2, d3, p3\n",
    "\n",
    "ps = q7()\n",
    "d1, p1, d2, p2, d3, p3 = q7()\n"
   ]
  },
  {
   "cell_type": "code",
   "execution_count": 27,
   "metadata": {},
   "outputs": [],
   "source": [
    "def fun_E(z, ps=ps):\n",
    "    d1, p1, d2, p2, d3, p3 = ps\n",
    "    return p1*fun_f(z, d1)+p2*fun_f(z, d2)+p3*fun_f(z, d3)"
   ]
  },
  {
   "cell_type": "code",
   "execution_count": 28,
   "metadata": {},
   "outputs": [
    {
     "name": "stdout",
     "output_type": "stream",
     "text": [
      "Optimization terminated successfully    (Exit mode 0)\n",
      "            Current function value: -318.64111227006396\n",
      "            Iterations: 80\n",
      "            Function evaluations: 774\n",
      "            Gradient evaluations: 80\n",
      "[   400.38246532     79.75447662     53.23546479   1614.08304665\n",
      " 107806.8610795     797.74220733   3722.53371271    677.91305127]\n"
     ]
    },
    {
     "name": "stderr",
     "output_type": "stream",
     "text": [
      "<ipython-input-25-5c11035186b9>:12: RuntimeWarning: overflow encountered in exp\n",
      "  return (q*np.exp(-alpha*q)+d*np.exp(-alpha*d))/(np.exp(-alpha*q)+np.exp(-alpha*d))\n",
      "<ipython-input-25-5c11035186b9>:12: RuntimeWarning: invalid value encountered in true_divide\n",
      "  return (q*np.exp(-alpha*q)+d*np.exp(-alpha*d))/(np.exp(-alpha*q)+np.exp(-alpha*d))\n"
     ]
    }
   ],
   "source": [
    "ineq_cons = { 'type' : 'ineq' , 'fun' : lambda x: - fun_c(x)}\n",
    "res = optimize . minimize(fun_E, x0, method= 'SLSQP' ,\n",
    "constraints= [ineq_cons], options={ 'disp' : True, 'maxiter': 10000})\n",
    "\n",
    "print(res.x)"
   ]
  },
  {
   "cell_type": "code",
   "execution_count": 29,
   "metadata": {},
   "outputs": [
    {
     "name": "stdout",
     "output_type": "stream",
     "text": [
      "[   406.69842673     77.13921035     54.28956029   1632.01247461\n",
      " 109202.9825197     779.98236557   3628.46401742    655.68329044]\n",
      "-317.5732629587021\n"
     ]
    }
   ],
   "source": [
    "\n",
    "opti = casadi.Opti();\n",
    "\n",
    "x = opti.variable(n)\n",
    "q = x[0:k]\n",
    "r = x[k:]\n",
    "cp = opti.parameter(n-k)\n",
    "vp = opti.parameter(k)\n",
    "dp = opti.parameter(3, k)\n",
    "pp = opti.parameter(k)\n",
    "ap = opti.parameter(n-k,k)\n",
    "\n",
    "f = 0\n",
    "for j in range(3):\n",
    "    f += pp[j]*(mtimes(transpose(cp), r) - mtimes(transpose(vp), fun_hp(q, transpose(dp[j,:]))))\n",
    "\n",
    "opti.minimize(f)\n",
    "opti.subject_to(mtimes(ap, q) - r <= 0)\n",
    "\n",
    "x0 = np.array([0.]*n)\n",
    "opti.set_initial(x,x0)\n",
    "# pour enlever le blabla, définir un dictionnaire d'option\n",
    "options = {'print_time':False, 'ipopt':{'print_level':0}}\n",
    "# options = dict(print_time=False, ipopt=dict(print_level=0))\n",
    "opti.solver('ipopt', options);\n",
    "\n",
    "\n",
    "opti.set_value(cp, c)\n",
    "opti.set_value(vp, v)\n",
    "opti.set_value(ap, A)\n",
    "opti.set_value(pp, [p1, p2, p3])\n",
    "opti.set_value(dp, np.array([d1, d2, d3]))\n",
    "\n",
    "sol = opti.solve();\n",
    "print(sol.value(x))\n",
    "print(fun_E(sol.value(x)))"
   ]
  },
  {
   "cell_type": "markdown",
   "metadata": {},
   "source": [
    "Produit un peu plus pour couvrir la variabilité si plus de demande car proba plus de demande plus importante que demande plus faible ?\n",
    "\n",
    "Comparer aussi la valeur du profit en lui-même..."
   ]
  },
  {
   "cell_type": "markdown",
   "metadata": {},
   "source": [
    "### Question 8\n",
    "\n",
    "a. On suppose que $r$ et $d$ sont fixés. On a toujours le terme de revenus $v^T h(q,d)$. Cependant les achats de matières premières ayant déjà été réalisés, on ne cherche plus à savoir combien en acheter mais comment utiliser celles que l'on a au mieux.\n",
    "Or les matières premières sont supposées réutilisables le lendemain tandis que les produits ne peuvent être vendus le lendemain. De plus on a vu en 6) et 7) que le plus profitable était de satisfaire la demande. Dès lors, on cherche à minimiser $\\lVert d-q \\rVert$ afin de satisfaire le plus de clients possible ($d-q$ le plus proche de 0 possible par valeur supérieure) et afin d'éviter le gaspillage ($q-d$ le plus proche de 0 possible par valeur supérieure).\n",
    "\n",
    "Le terme $\\lVert d-q \\rVert^2$ convient donc, et a en plus la bonne propriété d'être différentiable.  \n",
    "   "
   ]
  },
  {
   "cell_type": "markdown",
   "metadata": {},
   "source": [
    "b. "
   ]
  },
  {
   "cell_type": "code",
   "execution_count": 30,
   "metadata": {},
   "outputs": [
    {
     "name": "stdout",
     "output_type": "stream",
     "text": [
      "qté planifiée [400.38246532  79.75447662  53.23546479]\n",
      "demande forte [410.1789162   51.86322745  44.52295333]\n",
      "demande moyenne [400.16239195  67.22904759  33.18657357]\n",
      "demande faible [300.16239419  60.22881     43.18682111]\n"
     ]
    },
    {
     "name": "stderr",
     "output_type": "stream",
     "text": [
      "<ipython-input-25-5c11035186b9>:12: RuntimeWarning: overflow encountered in exp\n",
      "  return (q*np.exp(-alpha*q)+d*np.exp(-alpha*d))/(np.exp(-alpha*q)+np.exp(-alpha*d))\n",
      "<ipython-input-25-5c11035186b9>:12: RuntimeWarning: invalid value encountered in true_divide\n",
      "  return (q*np.exp(-alpha*q)+d*np.exp(-alpha*d))/(np.exp(-alpha*q)+np.exp(-alpha*d))\n"
     ]
    }
   ],
   "source": [
    "ineq_cons = { 'type' : 'ineq' , 'fun' : lambda x: - fun_c(x)}\n",
    "res = optimize . minimize(fun_E, x0, method= 'SLSQP' ,\n",
    "constraints= [ineq_cons], options={ 'disp' : False, 'maxiter': 10000})\n",
    "\n",
    "y = res.x\n",
    "print('qté planifiée', y[:3])\n",
    "r = y[len(d):]\n",
    "y0 = np.zeros(len(d))\n",
    "\n",
    "def fun_g(q, d=ps[2], v=v):\n",
    "    return (q-d).T @ (q-d) - v.T @ fun_h(q, d) # attention norme au carré\n",
    "\n",
    "def fun_cb(q, r=r, d=ps[2]):\n",
    "    return fun_c(np.hstack((q, r)))\n",
    "\n",
    "ineq_cons = { 'type' : 'ineq' , 'fun' : lambda x: - fun_cb(x)}\n",
    "res = optimize . minimize(fun_g, y0, method= 'SLSQP' ,\n",
    "constraints= [ineq_cons], options={ 'disp' : False, 'maxiter': 10000})\n",
    "\n",
    "print('demande forte', res.x[:3])\n",
    "r = y[len(d):]\n",
    "y0 = np.zeros(len(d))\n",
    "\n",
    "def fun_g(q, d=ps[0], v=v):\n",
    "    return (q-d).T @ (q-d) - v.T @ fun_h(q, d) # attention norme au carré\n",
    "\n",
    "def fun_cb(q, r=r, d=ps[0]):\n",
    "    return fun_c(np.hstack((q, r)))\n",
    "\n",
    "ineq_cons = { 'type' : 'ineq' , 'fun' : lambda x: - fun_cb(x)}\n",
    "res = optimize . minimize(fun_g, y0, method= 'SLSQP' ,\n",
    "constraints= [ineq_cons], options={ 'disp' : False, 'maxiter': 10000})\n",
    "\n",
    "print('demande moyenne', res.x[:3])\n",
    "r = y[len(d):]\n",
    "y0 = np.zeros(len(d))\n",
    "\n",
    "def fun_g(q, d=ps[4], v=v):\n",
    "    return (q-d).T @ (q-d) - v.T @ fun_h(q, d) # attention norme au carré\n",
    "\n",
    "def fun_cb(q, r=r, d=ps[4]):\n",
    "    return fun_c(np.hstack((q, r)))\n",
    "\n",
    "ineq_cons = { 'type' : 'ineq' , 'fun' : lambda x: - fun_cb(x)}\n",
    "res = optimize . minimize(fun_g, y0, method= 'SLSQP' ,\n",
    "constraints= [ineq_cons], options={ 'disp' : False, 'maxiter': 10000})\n",
    "\n",
    "print('demande faible', res.x[:3])\n",
    "r = y[len(d):]\n",
    "y0 = np.zeros(len(d))\n",
    "\n",
    "\n"
   ]
  },
  {
   "cell_type": "code",
   "execution_count": 31,
   "metadata": {},
   "outputs": [
    {
     "name": "stdout",
     "output_type": "stream",
     "text": [
      "[300.22004929  60.36144863  43.26764076]\n"
     ]
    }
   ],
   "source": [
    "\n",
    "opti = casadi.Opti();\n",
    "\n",
    "q = opti.variable(k)\n",
    "cp = opti.parameter(n-k)\n",
    "vp = opti.parameter(k)\n",
    "dp = opti.parameter(k)\n",
    "ap = opti.parameter(n-k,k)\n",
    "rp = opti.parameter(n-k)\n",
    "\n",
    "f = mtimes(transpose(q-dp), q-dp) - mtimes(transpose(vp), fun_hp(q, dp))\n",
    "opti.minimize(f)\n",
    "opti.subject_to(mtimes(ap, q) - rp <= 0)\n",
    "\n",
    "x0 = np.array([0.]*k)\n",
    "opti.set_initial(q,x0)\n",
    "# pour enlever le blabla, définir un dictionnaire d'option\n",
    "options = {'print_time':False, 'ipopt':{'print_level':0}}\n",
    "# options = dict(print_time=False, ipopt=dict(print_level=0))\n",
    "opti.solver('ipopt', options);\n",
    "\n",
    "\n",
    "opti.set_value(cp, c)\n",
    "opti.set_value(vp, v)\n",
    "opti.set_value(dp, ps[4])\n",
    "opti.set_value(ap, A)\n",
    "opti.set_value(rp, r)\n",
    "\n",
    "sol = opti.solve();\n",
    "print(sol.value(q))"
   ]
  },
  {
   "cell_type": "markdown",
   "metadata": {},
   "source": [
    "## 3. Etude du problème non-régularisé\n",
    "\n",
    "### Question 9\n",
    "\n",
    "Méthode de gradient proximale (optimisation non-différentiable ?) (cf Traitement du Signal ?)"
   ]
  },
  {
   "cell_type": "markdown",
   "metadata": {},
   "source": [
    "### Question 10"
   ]
  },
  {
   "cell_type": "code",
   "execution_count": 32,
   "metadata": {},
   "outputs": [
    {
     "name": "stdout",
     "output_type": "stream",
     "text": [
      "[1. 2. 3.]\n",
      "-7.0312\n"
     ]
    }
   ],
   "source": [
    "def fun_hb(q, d, alpha=alpha):\n",
    "    return np.minimum(q,d)\n",
    "\n",
    "print(fun_hb(np.array([1.,2.,3.]), d))\n",
    "\n",
    "def fun_fb(z, d=d, A=A, c=c, v=v, alpha=alpha):\n",
    "    q = z[:len(d)]\n",
    "    r = z[len(d):]\n",
    "    return c.T @ r - v.T @ fun_hb(q, d, alpha)\n",
    "\n",
    "def fun_cb(z, A=A):\n",
    "    q = z[:len(d)]\n",
    "    r = z[len(d):]\n",
    "    return np.hstack((A @ q - r,-q))\n",
    "\n",
    "ztest = np.array([1.,2.,3.,4.,5.,6.,7.,8.])\n",
    "print(fun_fb(ztest))"
   ]
  },
  {
   "cell_type": "code",
   "execution_count": 26,
   "metadata": {},
   "outputs": [
    {
     "ename": "ValueError",
     "evalue": "operands could not be broadcast together with shapes (5,) (0,) ",
     "output_type": "error",
     "traceback": [
      "\u001b[1;31m---------------------------------------------------------------------------\u001b[0m",
      "\u001b[1;31mValueError\u001b[0m                                Traceback (most recent call last)",
      "\u001b[1;32m<ipython-input-26-81c235a866ef>\u001b[0m in \u001b[0;36m<module>\u001b[1;34m\u001b[0m\n\u001b[0;32m      1\u001b[0m \u001b[0mineq_cons\u001b[0m \u001b[1;33m=\u001b[0m \u001b[1;33m{\u001b[0m \u001b[1;34m'type'\u001b[0m \u001b[1;33m:\u001b[0m \u001b[1;34m'ineq'\u001b[0m \u001b[1;33m,\u001b[0m \u001b[1;34m'fun'\u001b[0m \u001b[1;33m:\u001b[0m \u001b[1;32mlambda\u001b[0m \u001b[0mx\u001b[0m\u001b[1;33m:\u001b[0m \u001b[1;33m-\u001b[0m \u001b[0mfun_cb\u001b[0m\u001b[1;33m(\u001b[0m\u001b[0mx\u001b[0m\u001b[1;33m)\u001b[0m\u001b[1;33m}\u001b[0m\u001b[1;33m\u001b[0m\u001b[1;33m\u001b[0m\u001b[0m\n\u001b[1;32m----> 2\u001b[1;33m res = optimize . minimize(fun_fb, x0, method= 'SLSQP' ,\n\u001b[0m\u001b[0;32m      3\u001b[0m constraints= [ineq_cons], options={ 'disp' : True, 'maxiter': 10000})\n\u001b[0;32m      4\u001b[0m \u001b[0mprint\u001b[0m\u001b[1;33m(\u001b[0m\u001b[0mres\u001b[0m\u001b[1;33m.\u001b[0m\u001b[0mx\u001b[0m\u001b[1;33m)\u001b[0m\u001b[1;33m\u001b[0m\u001b[1;33m\u001b[0m\u001b[0m\n\u001b[0;32m      5\u001b[0m \u001b[1;33m\u001b[0m\u001b[0m\n",
      "\u001b[1;32m~\\.conda\\envs\\Flo\\lib\\site-packages\\scipy\\optimize\\_minimize.py\u001b[0m in \u001b[0;36mminimize\u001b[1;34m(fun, x0, args, method, jac, hess, hessp, bounds, constraints, tol, callback, options)\u001b[0m\n\u001b[0;32m    623\u001b[0m         \u001b[1;32mreturn\u001b[0m \u001b[0m_minimize_cobyla\u001b[0m\u001b[1;33m(\u001b[0m\u001b[0mfun\u001b[0m\u001b[1;33m,\u001b[0m \u001b[0mx0\u001b[0m\u001b[1;33m,\u001b[0m \u001b[0margs\u001b[0m\u001b[1;33m,\u001b[0m \u001b[0mconstraints\u001b[0m\u001b[1;33m,\u001b[0m \u001b[1;33m**\u001b[0m\u001b[0moptions\u001b[0m\u001b[1;33m)\u001b[0m\u001b[1;33m\u001b[0m\u001b[1;33m\u001b[0m\u001b[0m\n\u001b[0;32m    624\u001b[0m     \u001b[1;32melif\u001b[0m \u001b[0mmeth\u001b[0m \u001b[1;33m==\u001b[0m \u001b[1;34m'slsqp'\u001b[0m\u001b[1;33m:\u001b[0m\u001b[1;33m\u001b[0m\u001b[1;33m\u001b[0m\u001b[0m\n\u001b[1;32m--> 625\u001b[1;33m         return _minimize_slsqp(fun, x0, args, jac, bounds,\n\u001b[0m\u001b[0;32m    626\u001b[0m                                constraints, callback=callback, **options)\n\u001b[0;32m    627\u001b[0m     \u001b[1;32melif\u001b[0m \u001b[0mmeth\u001b[0m \u001b[1;33m==\u001b[0m \u001b[1;34m'trust-constr'\u001b[0m\u001b[1;33m:\u001b[0m\u001b[1;33m\u001b[0m\u001b[1;33m\u001b[0m\u001b[0m\n",
      "\u001b[1;32m~\\.conda\\envs\\Flo\\lib\\site-packages\\scipy\\optimize\\slsqp.py\u001b[0m in \u001b[0;36m_minimize_slsqp\u001b[1;34m(func, x0, args, jac, bounds, constraints, maxiter, ftol, iprint, disp, eps, callback, finite_diff_rel_step, **unknown_options)\u001b[0m\n\u001b[0;32m    322\u001b[0m     meq = sum(map(len, [atleast_1d(c['fun'](x, *c['args']))\n\u001b[0;32m    323\u001b[0m               for c in cons['eq']]))\n\u001b[1;32m--> 324\u001b[1;33m     mieq = sum(map(len, [atleast_1d(c['fun'](x, *c['args']))\n\u001b[0m\u001b[0;32m    325\u001b[0m                for c in cons['ineq']]))\n\u001b[0;32m    326\u001b[0m     \u001b[1;31m# m = The total number of constraints\u001b[0m\u001b[1;33m\u001b[0m\u001b[1;33m\u001b[0m\u001b[1;33m\u001b[0m\u001b[0m\n",
      "\u001b[1;32m~\\.conda\\envs\\Flo\\lib\\site-packages\\scipy\\optimize\\slsqp.py\u001b[0m in \u001b[0;36m<listcomp>\u001b[1;34m(.0)\u001b[0m\n\u001b[0;32m    322\u001b[0m     meq = sum(map(len, [atleast_1d(c['fun'](x, *c['args']))\n\u001b[0;32m    323\u001b[0m               for c in cons['eq']]))\n\u001b[1;32m--> 324\u001b[1;33m     mieq = sum(map(len, [atleast_1d(c['fun'](x, *c['args']))\n\u001b[0m\u001b[0;32m    325\u001b[0m                for c in cons['ineq']]))\n\u001b[0;32m    326\u001b[0m     \u001b[1;31m# m = The total number of constraints\u001b[0m\u001b[1;33m\u001b[0m\u001b[1;33m\u001b[0m\u001b[1;33m\u001b[0m\u001b[0m\n",
      "\u001b[1;32m<ipython-input-26-81c235a866ef>\u001b[0m in \u001b[0;36m<lambda>\u001b[1;34m(x)\u001b[0m\n\u001b[1;32m----> 1\u001b[1;33m \u001b[0mineq_cons\u001b[0m \u001b[1;33m=\u001b[0m \u001b[1;33m{\u001b[0m \u001b[1;34m'type'\u001b[0m \u001b[1;33m:\u001b[0m \u001b[1;34m'ineq'\u001b[0m \u001b[1;33m,\u001b[0m \u001b[1;34m'fun'\u001b[0m \u001b[1;33m:\u001b[0m \u001b[1;32mlambda\u001b[0m \u001b[0mx\u001b[0m\u001b[1;33m:\u001b[0m \u001b[1;33m-\u001b[0m \u001b[0mfun_cb\u001b[0m\u001b[1;33m(\u001b[0m\u001b[0mx\u001b[0m\u001b[1;33m)\u001b[0m\u001b[1;33m}\u001b[0m\u001b[1;33m\u001b[0m\u001b[1;33m\u001b[0m\u001b[0m\n\u001b[0m\u001b[0;32m      2\u001b[0m res = optimize . minimize(fun_fb, x0, method= 'SLSQP' ,\n\u001b[0;32m      3\u001b[0m constraints= [ineq_cons], options={ 'disp' : True, 'maxiter': 10000})\n\u001b[0;32m      4\u001b[0m \u001b[0mprint\u001b[0m\u001b[1;33m(\u001b[0m\u001b[0mres\u001b[0m\u001b[1;33m.\u001b[0m\u001b[0mx\u001b[0m\u001b[1;33m)\u001b[0m\u001b[1;33m\u001b[0m\u001b[1;33m\u001b[0m\u001b[0m\n\u001b[0;32m      5\u001b[0m \u001b[1;33m\u001b[0m\u001b[0m\n",
      "\u001b[1;32m<ipython-input-25-4b63770865f4>\u001b[0m in \u001b[0;36mfun_cb\u001b[1;34m(z, A)\u001b[0m\n\u001b[0;32m     12\u001b[0m     \u001b[0mq\u001b[0m \u001b[1;33m=\u001b[0m \u001b[0mz\u001b[0m\u001b[1;33m[\u001b[0m\u001b[1;33m:\u001b[0m\u001b[0mlen\u001b[0m\u001b[1;33m(\u001b[0m\u001b[0md\u001b[0m\u001b[1;33m)\u001b[0m\u001b[1;33m]\u001b[0m\u001b[1;33m\u001b[0m\u001b[1;33m\u001b[0m\u001b[0m\n\u001b[0;32m     13\u001b[0m     \u001b[0mr\u001b[0m \u001b[1;33m=\u001b[0m \u001b[0mz\u001b[0m\u001b[1;33m[\u001b[0m\u001b[0mlen\u001b[0m\u001b[1;33m(\u001b[0m\u001b[0md\u001b[0m\u001b[1;33m)\u001b[0m\u001b[1;33m:\u001b[0m\u001b[1;33m]\u001b[0m\u001b[1;33m\u001b[0m\u001b[1;33m\u001b[0m\u001b[0m\n\u001b[1;32m---> 14\u001b[1;33m     \u001b[1;32mreturn\u001b[0m \u001b[0mnp\u001b[0m\u001b[1;33m.\u001b[0m\u001b[0mhstack\u001b[0m\u001b[1;33m(\u001b[0m\u001b[1;33m(\u001b[0m\u001b[0mA\u001b[0m \u001b[1;33m@\u001b[0m \u001b[0mq\u001b[0m \u001b[1;33m-\u001b[0m \u001b[0mr\u001b[0m\u001b[1;33m,\u001b[0m\u001b[1;33m-\u001b[0m\u001b[0mq\u001b[0m\u001b[1;33m)\u001b[0m\u001b[1;33m)\u001b[0m\u001b[1;33m\u001b[0m\u001b[1;33m\u001b[0m\u001b[0m\n\u001b[0m\u001b[0;32m     15\u001b[0m \u001b[1;33m\u001b[0m\u001b[0m\n\u001b[0;32m     16\u001b[0m \u001b[0mztest\u001b[0m \u001b[1;33m=\u001b[0m \u001b[0mnp\u001b[0m\u001b[1;33m.\u001b[0m\u001b[0marray\u001b[0m\u001b[1;33m(\u001b[0m\u001b[1;33m[\u001b[0m\u001b[1;36m1.\u001b[0m\u001b[1;33m,\u001b[0m\u001b[1;36m2.\u001b[0m\u001b[1;33m,\u001b[0m\u001b[1;36m3.\u001b[0m\u001b[1;33m,\u001b[0m\u001b[1;36m4.\u001b[0m\u001b[1;33m,\u001b[0m\u001b[1;36m5.\u001b[0m\u001b[1;33m,\u001b[0m\u001b[1;36m6.\u001b[0m\u001b[1;33m,\u001b[0m\u001b[1;36m7.\u001b[0m\u001b[1;33m,\u001b[0m\u001b[1;36m8.\u001b[0m\u001b[1;33m]\u001b[0m\u001b[1;33m)\u001b[0m\u001b[1;33m\u001b[0m\u001b[1;33m\u001b[0m\u001b[0m\n",
      "\u001b[1;31mValueError\u001b[0m: operands could not be broadcast together with shapes (5,) (0,) "
     ]
    }
   ],
   "source": [
    "ineq_cons = { 'type' : 'ineq' , 'fun' : lambda x: - fun_cb(x)}\n",
    "res = optimize . minimize(fun_fb, x0, method= 'SLSQP' ,\n",
    "constraints= [ineq_cons], options={ 'disp' : True, 'maxiter': 10000})\n",
    "print(res.x)\n",
    "\n",
    "# résultat fantasiste : méthode de scipy pas adaptée au problème ? profit positif car opposé du résultat...\n",
    "# SLSQP pourtant OK pour non linéaire ? problème gradient ?\n",
    "# problème alpha ?\n",
    "\n",
    "# pas possible production négative ?? rajout d'une contrainte : fun_cb"
   ]
  },
  {
   "cell_type": "markdown",
   "metadata": {},
   "source": [
    "Résultat assez différents (quantifier ?) : normal ou non ?"
   ]
  },
  {
   "cell_type": "code",
   "execution_count": null,
   "metadata": {},
   "outputs": [],
   "source": []
  },
  {
   "cell_type": "code",
   "execution_count": 27,
   "metadata": {},
   "outputs": [
    {
     "name": "stdout",
     "output_type": "stream",
     "text": [
      "8\n"
     ]
    }
   ],
   "source": [
    "\n",
    "def q6():\n",
    "    alpha = 0.1\n",
    "    c = 1e-3*np.array([30.,1.,1.3,4., 1.])\n",
    "    v = np.array([0.9, 1.5, 1.1])\n",
    "    d = np.array([400., 67., 33.])\n",
    "    A = np.array([[3.5,2.,1.],[250.,80., 25.],[0., 8., 3.],[0., 40., 10.], [0., 8.5, 0.]])\n",
    "    n = len(c)+len(d)\n",
    "    return n, alpha, c, v, d, A\n",
    "\n",
    "n, alpha, c, v, d, A = q6()\n",
    "x0 = np.zeros(n)\n",
    "print(n)"
   ]
  },
  {
   "cell_type": "code",
   "execution_count": 28,
   "metadata": {},
   "outputs": [
    {
     "ename": "NotImplementedError",
     "evalue": "Wrong number or type of arguments for overloaded function 'SX_set'.\n  Possible prototypes are:\n    set(self,SX,bool,Sparsity)\n    set(self,SX,bool,Slice)\n    set(self,SX,bool,IM)\n    set(self,SX,bool,Slice,Slice)\n    set(self,SX,bool,Slice,IM)\n    set(self,SX,bool,IM,Slice)\n    set(self,SX,bool,IM,IM)\n  You have: '(SX,MX,bool,int)'\n",
     "output_type": "error",
     "traceback": [
      "\u001b[1;31m---------------------------------------------------------------------------\u001b[0m",
      "\u001b[1;31mNotImplementedError\u001b[0m                       Traceback (most recent call last)",
      "\u001b[1;32m<ipython-input-28-d104c8a41cf6>\u001b[0m in \u001b[0;36m<module>\u001b[1;34m\u001b[0m\n\u001b[0;32m     20\u001b[0m \u001b[1;31m# contrainte, q & r positives\u001b[0m\u001b[1;33m\u001b[0m\u001b[1;33m\u001b[0m\u001b[1;33m\u001b[0m\u001b[0m\n\u001b[0;32m     21\u001b[0m \u001b[1;33m\u001b[0m\u001b[0m\n\u001b[1;32m---> 22\u001b[1;33m \u001b[0mf\u001b[0m \u001b[1;33m=\u001b[0m \u001b[0mmtimes\u001b[0m\u001b[1;33m(\u001b[0m\u001b[0mtranspose\u001b[0m\u001b[1;33m(\u001b[0m\u001b[0mcp\u001b[0m\u001b[1;33m)\u001b[0m\u001b[1;33m,\u001b[0m \u001b[0mr\u001b[0m\u001b[1;33m)\u001b[0m \u001b[1;33m-\u001b[0m \u001b[0mmtimes\u001b[0m\u001b[1;33m(\u001b[0m\u001b[0mtranspose\u001b[0m\u001b[1;33m(\u001b[0m\u001b[0mvp\u001b[0m\u001b[1;33m)\u001b[0m\u001b[1;33m,\u001b[0m \u001b[0mmy_min\u001b[0m\u001b[1;33m(\u001b[0m\u001b[0mq\u001b[0m\u001b[1;33m,\u001b[0m\u001b[0md\u001b[0m\u001b[1;33m)\u001b[0m\u001b[1;33m)\u001b[0m\u001b[1;33m\u001b[0m\u001b[1;33m\u001b[0m\u001b[0m\n\u001b[0m\u001b[0;32m     23\u001b[0m \u001b[0mopti\u001b[0m\u001b[1;33m.\u001b[0m\u001b[0mminimize\u001b[0m\u001b[1;33m(\u001b[0m\u001b[0mf\u001b[0m\u001b[1;33m)\u001b[0m\u001b[1;33m\u001b[0m\u001b[1;33m\u001b[0m\u001b[0m\n\u001b[0;32m     24\u001b[0m \u001b[0mopti\u001b[0m\u001b[1;33m.\u001b[0m\u001b[0msubject_to\u001b[0m\u001b[1;33m(\u001b[0m\u001b[0mmtimes\u001b[0m\u001b[1;33m(\u001b[0m\u001b[0map\u001b[0m\u001b[1;33m,\u001b[0m \u001b[0mq\u001b[0m\u001b[1;33m)\u001b[0m \u001b[1;33m-\u001b[0m \u001b[0mr\u001b[0m \u001b[1;33m<=\u001b[0m \u001b[1;36m0\u001b[0m\u001b[1;33m)\u001b[0m\u001b[1;33m\u001b[0m\u001b[1;33m\u001b[0m\u001b[0m\n",
      "\u001b[1;32m<ipython-input-28-d104c8a41cf6>\u001b[0m in \u001b[0;36mmy_min\u001b[1;34m(a, b)\u001b[0m\n\u001b[0;32m     14\u001b[0m     \u001b[0mcz\u001b[0m \u001b[1;33m=\u001b[0m \u001b[0mSX\u001b[0m\u001b[1;33m(\u001b[0m\u001b[0mk\u001b[0m\u001b[1;33m)\u001b[0m\u001b[1;33m\u001b[0m\u001b[1;33m\u001b[0m\u001b[0m\n\u001b[0;32m     15\u001b[0m     \u001b[1;32mfor\u001b[0m \u001b[0mj\u001b[0m \u001b[1;32min\u001b[0m \u001b[0mrange\u001b[0m\u001b[1;33m(\u001b[0m\u001b[0mk\u001b[0m\u001b[1;33m)\u001b[0m\u001b[1;33m:\u001b[0m\u001b[1;33m\u001b[0m\u001b[1;33m\u001b[0m\u001b[0m\n\u001b[1;32m---> 16\u001b[1;33m         \u001b[0mcz\u001b[0m\u001b[1;33m[\u001b[0m\u001b[0mj\u001b[0m\u001b[1;33m]\u001b[0m \u001b[1;33m=\u001b[0m \u001b[1;33m(\u001b[0m\u001b[0ma\u001b[0m\u001b[1;33m[\u001b[0m\u001b[0mj\u001b[0m\u001b[1;33m]\u001b[0m \u001b[1;33m-\u001b[0m \u001b[0mb\u001b[0m\u001b[1;33m[\u001b[0m\u001b[0mj\u001b[0m\u001b[1;33m]\u001b[0m\u001b[1;33m)\u001b[0m\u001b[1;33m*\u001b[0m\u001b[1;33m(\u001b[0m\u001b[0ma\u001b[0m\u001b[1;33m[\u001b[0m\u001b[0mj\u001b[0m\u001b[1;33m]\u001b[0m\u001b[1;33m-\u001b[0m\u001b[0mb\u001b[0m\u001b[1;33m[\u001b[0m\u001b[0mj\u001b[0m\u001b[1;33m]\u001b[0m\u001b[1;33m)\u001b[0m\u001b[1;33m\u001b[0m\u001b[1;33m\u001b[0m\u001b[0m\n\u001b[0m\u001b[0;32m     17\u001b[0m     \u001b[1;32mreturn\u001b[0m \u001b[0mcz\u001b[0m\u001b[1;33m\u001b[0m\u001b[1;33m\u001b[0m\u001b[0m\n\u001b[0;32m     18\u001b[0m \u001b[1;31m# au carré ?\u001b[0m\u001b[1;33m\u001b[0m\u001b[1;33m\u001b[0m\u001b[1;33m\u001b[0m\u001b[0m\n",
      "\u001b[1;32m~\\.conda\\envs\\Flo\\lib\\site-packages\\casadi\\casadi.py\u001b[0m in \u001b[0;36m__setitem__\u001b[1;34m(self, s, val)\u001b[0m\n\u001b[0;32m   9127\u001b[0m           \u001b[1;32mif\u001b[0m \u001b[0misinstance\u001b[0m\u001b[1;33m(\u001b[0m\u001b[0ms\u001b[0m\u001b[1;33m,\u001b[0m\u001b[0mtuple\u001b[0m\u001b[1;33m)\u001b[0m \u001b[1;32mand\u001b[0m \u001b[0mlen\u001b[0m\u001b[1;33m(\u001b[0m\u001b[0ms\u001b[0m\u001b[1;33m)\u001b[0m\u001b[1;33m==\u001b[0m\u001b[1;36m2\u001b[0m\u001b[1;33m:\u001b[0m\u001b[1;33m\u001b[0m\u001b[1;33m\u001b[0m\u001b[0m\n\u001b[0;32m   9128\u001b[0m             \u001b[1;32mreturn\u001b[0m \u001b[0mself\u001b[0m\u001b[1;33m.\u001b[0m\u001b[0mset\u001b[0m\u001b[1;33m(\u001b[0m\u001b[0mval\u001b[0m\u001b[1;33m,\u001b[0m \u001b[1;32mFalse\u001b[0m\u001b[1;33m,\u001b[0m \u001b[0ms\u001b[0m\u001b[1;33m[\u001b[0m\u001b[1;36m0\u001b[0m\u001b[1;33m]\u001b[0m\u001b[1;33m,\u001b[0m \u001b[0ms\u001b[0m\u001b[1;33m[\u001b[0m\u001b[1;36m1\u001b[0m\u001b[1;33m]\u001b[0m\u001b[1;33m)\u001b[0m\u001b[1;33m\u001b[0m\u001b[1;33m\u001b[0m\u001b[0m\n\u001b[1;32m-> 9129\u001b[1;33m           \u001b[1;32mreturn\u001b[0m \u001b[0mself\u001b[0m\u001b[1;33m.\u001b[0m\u001b[0mset\u001b[0m\u001b[1;33m(\u001b[0m\u001b[0mval\u001b[0m\u001b[1;33m,\u001b[0m \u001b[1;32mFalse\u001b[0m\u001b[1;33m,\u001b[0m \u001b[0ms\u001b[0m\u001b[1;33m)\u001b[0m\u001b[1;33m\u001b[0m\u001b[1;33m\u001b[0m\u001b[0m\n\u001b[0m\u001b[0;32m   9130\u001b[0m \u001b[1;33m\u001b[0m\u001b[0m\n\u001b[0;32m   9131\u001b[0m     \u001b[1;33m@\u001b[0m\u001b[0mproperty\u001b[0m\u001b[1;33m\u001b[0m\u001b[1;33m\u001b[0m\u001b[0m\n",
      "\u001b[1;32m~\\.conda\\envs\\Flo\\lib\\site-packages\\casadi\\casadi.py\u001b[0m in \u001b[0;36mset\u001b[1;34m(self, *args)\u001b[0m\n\u001b[0;32m   8053\u001b[0m \u001b[1;33m\u001b[0m\u001b[0m\n\u001b[0;32m   8054\u001b[0m         \"\"\"\n\u001b[1;32m-> 8055\u001b[1;33m         \u001b[1;32mreturn\u001b[0m \u001b[0m_casadi\u001b[0m\u001b[1;33m.\u001b[0m\u001b[0mSX_set\u001b[0m\u001b[1;33m(\u001b[0m\u001b[0mself\u001b[0m\u001b[1;33m,\u001b[0m \u001b[1;33m*\u001b[0m\u001b[0margs\u001b[0m\u001b[1;33m)\u001b[0m\u001b[1;33m\u001b[0m\u001b[1;33m\u001b[0m\u001b[0m\n\u001b[0m\u001b[0;32m   8056\u001b[0m \u001b[1;33m\u001b[0m\u001b[0m\n\u001b[0;32m   8057\u001b[0m \u001b[1;33m\u001b[0m\u001b[0m\n",
      "\u001b[1;31mNotImplementedError\u001b[0m: Wrong number or type of arguments for overloaded function 'SX_set'.\n  Possible prototypes are:\n    set(self,SX,bool,Sparsity)\n    set(self,SX,bool,Slice)\n    set(self,SX,bool,IM)\n    set(self,SX,bool,Slice,Slice)\n    set(self,SX,bool,Slice,IM)\n    set(self,SX,bool,IM,Slice)\n    set(self,SX,bool,IM,IM)\n  You have: '(SX,MX,bool,int)'\n"
     ]
    }
   ],
   "source": [
    "k = len(d)\n",
    "\n",
    "opti = casadi.Opti();\n",
    "\n",
    "x = opti.variable(n)\n",
    "q = x[0:k]\n",
    "r = x[k:]\n",
    "cp = opti.parameter(n-k)\n",
    "vp = opti.parameter(k)\n",
    "dp = opti.parameter(k)\n",
    "ap = opti.parameter(n-k,k)\n",
    "\n",
    "# contrainte, q & r positives\n",
    "\n",
    "f = mtimes(transpose(cp), r) - mtimes(transpose(vp), my_min(q,d))\n",
    "opti.minimize(f)\n",
    "opti.subject_to(mtimes(ap, q) - r <= 0)\n",
    "opti.subject_to( - r <= 0)\n",
    "opti.subject_to( - q <= 0)\n",
    "\n",
    "x0 = np.array([0.]*n)\n",
    "opti.set_initial(x, x0)\n",
    "# pour enlever le blabla, définir un dictionnaire d'option\n",
    "options = {'print_time':False, 'ipopt':{'print_level':0}}\n",
    "# options = dict(print_time=False, ipopt=dict(print_level=0))\n",
    "opti.solver('ipopt', options);\n",
    "\n",
    "\n",
    "opti.set_value(cp, c)\n",
    "opti.set_value(vp, v)\n",
    "opti.set_value(dp, d)\n",
    "opti.set_value(ap, A)\n",
    "\n",
    "try:\n",
    "    sol = opti.solve();\n",
    "    print(sol.value(x))\n",
    "except:\n",
    "    print(\"erreur\")\n",
    "    print(opti.debug.value)"
   ]
  },
  {
   "cell_type": "markdown",
   "metadata": {},
   "source": [
    "min de l'espérance q7 attention\n",
    "3 lignes  problème bien posé\n",
    "\n",
    "min (q,d) \n",
    "probabilité\n",
    "\n"
   ]
  },
  {
   "cell_type": "code",
   "execution_count": 29,
   "metadata": {},
   "outputs": [
    {
     "ename": "SyntaxError",
     "evalue": "invalid syntax (<ipython-input-29-633ea57a3fc7>, line 1)",
     "output_type": "error",
     "traceback": [
      "\u001b[1;36m  File \u001b[1;32m\"<ipython-input-29-633ea57a3fc7>\"\u001b[1;36m, line \u001b[1;32m1\u001b[0m\n\u001b[1;33m    convexe, non convexe, contraintes ou non, pas besoin d'être exhaustif\u001b[0m\n\u001b[1;37m                 ^\u001b[0m\n\u001b[1;31mSyntaxError\u001b[0m\u001b[1;31m:\u001b[0m invalid syntax\n"
     ]
    }
   ],
   "source": [
    "convexe, non convexe, contraintes ou non, pas besoin d'être exhaustif\n",
    "tp4 utile pour le miniprojet"
   ]
  },
  {
   "cell_type": "code",
   "execution_count": 30,
   "metadata": {},
   "outputs": [
    {
     "ename": "SyntaxError",
     "evalue": "invalid syntax (<ipython-input-30-f52f0e37b0f9>, line 1)",
     "output_type": "error",
     "traceback": [
      "\u001b[1;36m  File \u001b[1;32m\"<ipython-input-30-f52f0e37b0f9>\"\u001b[1;36m, line \u001b[1;32m1\u001b[0m\n\u001b[1;33m    écrire le problème non différentielle\u001b[0m\n\u001b[1;37m           ^\u001b[0m\n\u001b[1;31mSyntaxError\u001b[0m\u001b[1;31m:\u001b[0m invalid syntax\n"
     ]
    }
   ],
   "source": [
    "écrire le problème non différentielle\n",
    "transformation du problème : rajouter des contraintes qui reproduise le problème là\n",
    "\n",
    "problème équivalent : variable équivalent, toutes les variables est dériables\n",
    "\n",
    "problème linéaire sauf le min\n",
    "méthode basée dérivée\n",
    "\n",
    "que pas contrainte solution car linéaire\n",
    "\n",
    "gradient toujours le même\n",
    "\n",
    "conditions de KKT\n",
    "\n",
    "méthode basée sur la dérivée\n",
    "méthode de gradient\n",
    "\n",
    "régulariser : alpha q^2\n",
    "\n",
    "toutes acceptables\n",
    "\n",
    "imagination,\n",
    "toutes les méthodes basées sur la dérivée vont échouée\n",
    "\n",
    "\n",
    "sans le min: résoudre chaque problème\n"
   ]
  },
  {
   "cell_type": "markdown",
   "metadata": {},
   "source": [
    "Discussion avec le prof:\n",
    "utiliser np.dot(q, q) pour norme de q au carré\n",
    "mtimes vérifier pas pour mult element par element\n",
    "\n",
    "q7 : min(q, r) de E_d(v^t*h()-...)\n",
    "écrire ainsi\n",
    "\n",
    "2 solutions pour q10 : gradient proximal (sous différentiel) : normaliser en rajoutant + alpha * np.dot(q, q) + alpha * np.dot(r,r) et faire tendre alpha vers 0... voir si cela se passe bien\n",
    "\n",
    "OU décomposer avec contrainte\n",
    "production = q + s avec s = slack (vendu à coût nul si production supérieur à la demande) et q vendu à coût non nul\n",
    "contrainte  q <= d \n",
    "et pour que s soit nul si q <= d, contrainte de complémentarité s(q-d)=0\n",
    "et enlever le min, à faire avec casadi\n",
    "\n",
    "enfin, chercher un résultat entier (contrainte en plus pour casadi)\n",
    "ou écrire que x = sum(n_i y_i) avec n_i = 1, 2, ... et y_i dans [0, 1] avec contrainte sum(y_i) <= 1 ???"
   ]
  },
  {
   "cell_type": "code",
   "execution_count": 39,
   "metadata": {},
   "outputs": [
    {
     "name": "stdout",
     "output_type": "stream",
     "text": [
      "8\n",
      "[  -0.00000001   67.           33.           -0.           -0.00000001\n",
      "   -0.00000001  167.00000002 6184.99999783  634.99999999 3010.0000001\n",
      "  569.50000054]\n"
     ]
    }
   ],
   "source": [
    "\n",
    "def q6():\n",
    "    alpha = 0.1\n",
    "    c = 1e-3*np.array([30.,3.2,1.3,4., 1.])\n",
    "    v = np.array([0.9, 1.5, 1.1])\n",
    "    d = np.array([400., 67., 33.])\n",
    "    A = np.array([[3.5,2.,1.],[250.,80., 25.],[0., 8., 3.],[0., 40., 10.], [0., 8.5, 0.]])\n",
    "    n = len(c)+len(d)\n",
    "    return n, alpha, c, v, d, A\n",
    "\n",
    "n, alpha, c, v, d, A = q6()\n",
    "x0 = np.zeros(n)\n",
    "print(n)\n",
    "\n",
    "k = len(d)\n",
    "\n",
    "opti = casadi.Opti();\n",
    "\n",
    "x = opti.variable(n+k)\n",
    "q = x[0:k]\n",
    "s = x[k:2*k]\n",
    "r = x[2*k:]\n",
    "cp = opti.parameter(n-k)\n",
    "vp = opti.parameter(k)\n",
    "dp = opti.parameter(k)\n",
    "ap = opti.parameter(n-k,k)\n",
    "\n",
    "def my_min(a, b):\n",
    "    cz = SX(k)\n",
    "    for j in range(k):\n",
    "        cz[j] = (a[j] - b[j])*(a[j]-b[j])\n",
    "    return cz\n",
    "# au carré ?\n",
    "\n",
    "# contrainte, q & r positives\n",
    "\n",
    "f = mtimes(transpose(cp), r) - mtimes(transpose(vp), q)\n",
    "opti.minimize(f)\n",
    "opti.subject_to(mtimes(ap, q + s) - r <= 0)\n",
    "opti.subject_to( - r <= 0)\n",
    "opti.subject_to( - q <= 0)\n",
    "opti.subject_to( - q <= 0)\n",
    "opti.subject_to( - s <= 0)\n",
    "opti.subject_to( q - d <= 0)\n",
    "opti.subject_to( s*(q - d) == 0)\n",
    "\n",
    "x0 = np.array([0.]*(n+k))\n",
    "opti.set_initial(x,x0)\n",
    "# pour enlever le blabla, définir un dictionnaire d'option\n",
    "options = {'print_time':False, 'ipopt':{'print_level':0}}\n",
    "# options = dict(print_time=False, ipopt=dict(print_level=0))\n",
    "opti.solver('ipopt', options);\n",
    "\n",
    "\n",
    "opti.set_value(cp, c)\n",
    "opti.set_value(vp, v)\n",
    "opti.set_value(dp, d)\n",
    "opti.set_value(ap, A)\n",
    "\n",
    "try:\n",
    "    sol = opti.solve();\n",
    "    print(sol.value(x))\n",
    "except:\n",
    "    print(\"erreur\")\n",
    "    print(opti.debug.value)"
   ]
  },
  {
   "cell_type": "code",
   "execution_count": null,
   "metadata": {},
   "outputs": [],
   "source": []
  }
 ],
 "metadata": {
  "kernelspec": {
   "display_name": "Python 3",
   "language": "python",
   "name": "python3"
  },
  "language_info": {
   "codemirror_mode": {
    "name": "ipython",
    "version": 3
   },
   "file_extension": ".py",
   "mimetype": "text/x-python",
   "name": "python",
   "nbconvert_exporter": "python",
   "pygments_lexer": "ipython3",
   "version": "3.8.3"
  }
 },
 "nbformat": 4,
 "nbformat_minor": 2
}
